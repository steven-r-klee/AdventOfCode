{
 "cells": [
  {
   "cell_type": "code",
   "execution_count": 52,
   "id": "0309c179-99b0-4433-a38a-efba0818f3a5",
   "metadata": {},
   "outputs": [],
   "source": [
    "import re\n",
    "import numpy as np\n",
    "from functools import cached_property\n",
    "import math\n",
    "\n",
    "day_str = \"day8\"\n",
    "input_path_test = f'./{day_str}_input_test.txt'\n",
    "input_path_test_2 = f'./{day_str}_input_test2.txt'\n",
    "input_path = f'./{day_str}_input.txt'\n",
    "input_path_test_b = f'./{day_str}_input_test_b.txt'"
   ]
  },
  {
   "cell_type": "code",
   "execution_count": 24,
   "id": "f6dc8c31-3fa9-4cb9-85a9-e433054b54c2",
   "metadata": {},
   "outputs": [],
   "source": [
    "class PartA:\n",
    "    def __init__(self, file_path):\n",
    "        self.file_path = file_path\n",
    "            \n",
    "            \n",
    "    @cached_property\n",
    "    def instructions(self):\n",
    "        with open(self.file_path, 'r') as f:\n",
    "            instructions = f.readline()\n",
    "            instructions = instructions.rstrip('\\n')\n",
    "        return instructions\n",
    "    \n",
    "    @cached_property\n",
    "    def graph_dict(self):\n",
    "        graph_dict  = {}\n",
    "        with open(self.file_path, 'r') as f:\n",
    "            for line in f.readlines():\n",
    "                line = line.rstrip('\\n')\n",
    "                if \"=\" in line:\n",
    "                    node = line.split(\" = \")[0]\n",
    "                    neighbors = line.split(\" = \")[1]\n",
    "                    neighbors = neighbors.lstrip('(')\n",
    "                    neighbors = neighbors.rstrip(')')\n",
    "                    left = neighbors.split(', ')[0]\n",
    "                    right = neighbors.split(', ')[1]\n",
    "                    graph_dict[node] = {\"L\": left, \"R\": right}\n",
    "        return graph_dict\n",
    "    \n",
    "    def solution(self):\n",
    "        num_steps = 0\n",
    "        current_node = \"AAA\"\n",
    "        while True:\n",
    "            ii = num_steps % len(self.instructions)\n",
    "            direction = self.instructions[ii]\n",
    "            current_node = self.graph_dict[current_node][direction]\n",
    "            num_steps += 1\n",
    "            if current_node == \"ZZZ\":\n",
    "                return num_steps"
   ]
  },
  {
   "cell_type": "code",
   "execution_count": 25,
   "id": "a2e3acf8-547d-4f34-888d-04e4aaf57426",
   "metadata": {},
   "outputs": [
    {
     "data": {
      "text/plain": [
       "16579"
      ]
     },
     "execution_count": 25,
     "metadata": {},
     "output_type": "execute_result"
    }
   ],
   "source": [
    "a = PartA(input_path)\n",
    "a.instructions\n",
    "a.graph_dict\n",
    "a.solution()"
   ]
  },
  {
   "cell_type": "code",
   "execution_count": 74,
   "id": "0927d268-c4fa-41b9-85d8-00ccdcc81684",
   "metadata": {},
   "outputs": [],
   "source": [
    "class PartB:\n",
    "    def __init__(self, file_path):\n",
    "        self.file_path = file_path\n",
    "            \n",
    "            \n",
    "    @cached_property\n",
    "    def instructions(self):\n",
    "        with open(self.file_path, 'r') as f:\n",
    "            instructions = f.readline()\n",
    "            instructions = instructions.rstrip('\\n')\n",
    "        return instructions\n",
    "    \n",
    "    @cached_property\n",
    "    def graph_dict(self):\n",
    "        graph_dict  = {}\n",
    "        with open(self.file_path, 'r') as f:\n",
    "            for line in f.readlines():\n",
    "                line = line.rstrip('\\n')\n",
    "                if \"=\" in line:\n",
    "                    node = line.split(\" = \")[0]\n",
    "                    neighbors = line.split(\" = \")[1]\n",
    "                    neighbors = neighbors.lstrip('(')\n",
    "                    neighbors = neighbors.rstrip(')')\n",
    "                    left = neighbors.split(', ')[0]\n",
    "                    right = neighbors.split(', ')[1]\n",
    "                    graph_dict[node] = {\"L\": left, \"R\": right}\n",
    "        return graph_dict\n",
    "    \n",
    "    @property\n",
    "    def starting_nodes(self):\n",
    "        return [node for node in self.graph_dict.keys() if node.endswith(\"A\")]\n",
    "    \n",
    "    def path_length(self, start_node):\n",
    "        num_steps = 0\n",
    "        current_node = start_node\n",
    "        while True:\n",
    "            ii = num_steps % len(self.instructions)\n",
    "            direction = self.instructions[ii]\n",
    "            current_node = self.graph_dict[current_node][direction]\n",
    "            num_steps += 1\n",
    "            if current_node.endswith(\"Z\"):\n",
    "                return num_steps\n",
    "    \n",
    "    def solution(self):\n",
    "        current_nodes = self.starting_nodes\n",
    "        \n",
    "        individual_lengths = [self.path_length(node) for node in current_nodes]\n",
    "        print(individual_lengths)\n",
    "        \n",
    "        current_value = individual_lengths[0]\n",
    "        \n",
    "        for x in individual_lengths:\n",
    "            print(x)\n",
    "            current_value = current_value * x // math.gcd(x, current_value)\n",
    "            print(current_value)\n",
    "            \n",
    "        return current_value\n"
   ]
  },
  {
   "cell_type": "code",
   "execution_count": 76,
   "id": "c2c817f6-7bf1-4fd6-b88b-faf32a81a7c5",
   "metadata": {},
   "outputs": [
    {
     "name": "stdout",
     "output_type": "stream",
     "text": [
      "[14893, 19951, 22199, 16579, 17141, 12083]\n",
      "14893\n",
      "14893\n",
      "19951\n",
      "1057403\n",
      "22199\n",
      "83534837\n",
      "16579\n",
      "4928555383\n",
      "17141\n",
      "300641878363\n",
      "12083\n",
      "12927600769609\n"
     ]
    },
    {
     "data": {
      "text/plain": [
       "12927600769609"
      ]
     },
     "execution_count": 76,
     "metadata": {},
     "output_type": "execute_result"
    }
   ],
   "source": [
    "b = PartB(input_path)\n",
    "# b.graph_dict\n",
    "b.solution()"
   ]
  },
  {
   "cell_type": "code",
   "execution_count": 64,
   "id": "3ec1888d-b8f3-416b-a10f-79bf570c1702",
   "metadata": {},
   "outputs": [
    {
     "data": {
      "text/plain": [
       "2"
      ]
     },
     "execution_count": 64,
     "metadata": {},
     "output_type": "execute_result"
    }
   ],
   "source": [
    "math.gcd(2,4)"
   ]
  },
  {
   "cell_type": "code",
   "execution_count": null,
   "id": "85999afb-d5ed-4959-be31-18c30b39f28f",
   "metadata": {},
   "outputs": [],
   "source": []
  }
 ],
 "metadata": {
  "kernelspec": {
   "display_name": "Python 3 (ipykernel)",
   "language": "python",
   "name": "python3"
  },
  "language_info": {
   "codemirror_mode": {
    "name": "ipython",
    "version": 3
   },
   "file_extension": ".py",
   "mimetype": "text/x-python",
   "name": "python",
   "nbconvert_exporter": "python",
   "pygments_lexer": "ipython3",
   "version": "3.9.7"
  }
 },
 "nbformat": 4,
 "nbformat_minor": 5
}
