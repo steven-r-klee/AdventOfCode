{
 "cells": [
  {
   "cell_type": "code",
   "execution_count": 1,
   "id": "d2e57d87-22a2-4411-965b-1f0dfb449c8f",
   "metadata": {},
   "outputs": [],
   "source": [
    "from functools import cached_property\n",
    "import re\n",
    "import numpy as np\n",
    "\n",
    "TODAY = 'day13'\n",
    "TEST_FILE_INPUT = f\"./test_input_{TODAY}.txt\"\n",
    "FILE_INPUT = f\"./input_{TODAY}.txt\"\n"
   ]
  },
  {
   "cell_type": "code",
   "execution_count": 2,
   "id": "8a58f4b3-76a5-481c-856f-2e3bde9a8e00",
   "metadata": {},
   "outputs": [
    {
     "data": {
      "text/plain": [
       "array([[0., 0.],\n",
       "       [0., 0.],\n",
       "       [0., 0.]])"
      ]
     },
     "execution_count": 2,
     "metadata": {},
     "output_type": "execute_result"
    }
   ],
   "source": [
    "np.zeros([3,2])"
   ]
  },
  {
   "cell_type": "code",
   "execution_count": 3,
   "id": "e9905b48-ac9f-4048-8e35-046c45ef6210",
   "metadata": {},
   "outputs": [],
   "source": [
    "class PatternBoard:\n",
    "    def __init__(self, line_list):\n",
    "        # line_list = list of lines parsed from input file\n",
    "        self.line_list = line_list\n",
    "        self.n_rows = len(self.line_list)\n",
    "        self.n_cols = len(self.line_list[0])\n",
    "        \n",
    "    @cached_property\n",
    "    def matrix(self):\n",
    "        \"\"\"Convert ./# board to 0/1 matrix\"\"\"\n",
    "        M = np.zeros([self.n_rows, self.n_cols])\n",
    "        \n",
    "        for ii, line in enumerate(self.line_list):\n",
    "            for jj, char in enumerate(line):\n",
    "                if char == '#':\n",
    "                    M[ii, jj] = 1\n",
    "                \n",
    "        return M\n",
    "    \n",
    "    def row_margins(self, matrix=None):\n",
    "        \"\"\"Get binary row sums\"\"\"\n",
    "        if matrix is None:\n",
    "            matrix = self.matrix\n",
    "        return [sum(matrix[ii,:] * np.array([2 ** jj for jj in range(self.n_cols)])) for ii in range(self.n_rows)]\n",
    "\n",
    "    def col_margins(self, matrix=None):\n",
    "        \"\"\"Get binary column sums\"\"\"\n",
    "        if matrix is None:\n",
    "            matrix = self.matrix\n",
    "        return [sum(matrix[:,jj] * np.array([2 ** ii for ii in range(self.n_rows)])) for jj in range(self.n_cols)]\n",
    "    \n",
    "\n",
    "    def flip_bit(self, row, col):\n",
    "        \"\"\"Flip the bit at position (row, column) in self.matrix. Return a copy of the resulting matrix\"\"\"\n",
    "        M = self.matrix.copy()\n",
    "        M[row, col] = 1 - M[row, col]\n",
    "        return M\n",
    "    \n",
    "    def is_axis_of_reflection(self, row_col_number, direction, matrix = None):\n",
    "        \"\"\"Check whether the line between row/column number <row_col_number> and <row_col_number +1> in matrix is an axis of reflection.\"\"\"\n",
    "        if matrix is None:\n",
    "            matrix = self.matrix\n",
    "        \n",
    "        if direction == \"row\":\n",
    "            value_list = self.row_margins(matrix)\n",
    "        else:\n",
    "            value_list = self.col_margins(matrix)\n",
    "            \n",
    "        # List of binary margins when reading to the left/up from the axis of reflection\n",
    "        before_slice = value_list[:row_col_number]\n",
    "        before_slice.reverse()\n",
    "        \n",
    "        # List of binary margins when reading to the right/down from the axis of reflection\n",
    "        after_slice = value_list[row_col_number:]\n",
    "        \n",
    "        # It is a valid axis of reflection if all binary margins working away from the axis are equal\n",
    "        # for as long as both numbers exist\n",
    "        are_equal = [\n",
    "            before_slice[ii] == after_slice[ii] f\n",
    "            or ii in range(min(len(before_slice), len(after_slice)))\n",
    "        ]\n",
    "        return int(all(are_equal))\n",
    "    \n",
    "    def axes_of_reflection(self, matrix = None):\n",
    "        \"\"\"Find all axes of reflection in matrix.\n",
    "        \n",
    "        Returns a dictionary with  keys \"row\" and \"col pointing to lists of \n",
    "        valid axes of row/column reflections\n",
    "        \"\"\"\n",
    "        \n",
    "        if matrix is None:\n",
    "            matrix = self.matrix\n",
    "            \n",
    "        reflection_dict = {\"row\": [], \"col\": []}\n",
    "        \n",
    "        n_rows = matrix.shape[0]\n",
    "        n_cols = matrix.shape[1]\n",
    "            \n",
    "        for ii in range(1, n_rows):\n",
    "            if self.is_axis_of_reflection(ii, \"row\", matrix) == 1:\n",
    "                reflection_dict[\"row\"].append(ii)\n",
    "\n",
    "        for ii in range(1, n_cols):\n",
    "            if self.is_axis_of_reflection(ii, \"col\", matrix) == 1:\n",
    "                reflection_dict[\"col\"].append(ii)\n",
    "                \n",
    "        return reflection_dict\n",
    "            \n",
    "        \n",
    "\n",
    "class PartA:\n",
    "    def __init__(self, file_path):\n",
    "        self.file_path = file_path\n",
    "        \n",
    "    @cached_property\n",
    "    def boards(self):\n",
    "        \"\"\"Read all boards from input file\"\"\"\n",
    "        boards = []\n",
    "        \n",
    "        current_board = []\n",
    "        with open(self.file_path, 'r') as f:\n",
    "            for line in f:\n",
    "                line = line.rstrip('\\n')\n",
    "                if line == '':\n",
    "                    boards.append(PatternBoard(current_board))\n",
    "                    current_board = []\n",
    "                else:\n",
    "                    current_board.append(line)\n",
    "                    \n",
    "        boards.append(PatternBoard(current_board))\n",
    "                \n",
    "        return boards\n",
    "    \n",
    "    def solve(self):\n",
    "        cumsum = 0\n",
    "        for board in self.boards:\n",
    "            reflection_dict = board.axes_of_reflection()\n",
    "            cumsum += 100 * sum(reflection_dict[\"row\"]) + sum(reflection_dict[\"col\"])\n",
    "                \n",
    "        return cumsum"
   ]
  },
  {
   "cell_type": "code",
   "execution_count": 4,
   "id": "4532dc21-2246-4c4d-919f-14ce4a5e89ad",
   "metadata": {},
   "outputs": [],
   "source": [
    "a_test = PartA(TEST_FILE_INPUT)"
   ]
  },
  {
   "cell_type": "code",
   "execution_count": 5,
   "id": "f45cccb1-31f6-4a94-b036-0d124ca36b39",
   "metadata": {},
   "outputs": [],
   "source": [
    "assert a_test.solve() == 405# NUMER HERE"
   ]
  },
  {
   "cell_type": "code",
   "execution_count": 6,
   "id": "1f926841-c2f0-4e0e-b6d8-a9d8f3613792",
   "metadata": {},
   "outputs": [
    {
     "data": {
      "text/plain": [
       "27664"
      ]
     },
     "execution_count": 6,
     "metadata": {},
     "output_type": "execute_result"
    }
   ],
   "source": [
    "a = PartA(FILE_INPUT)\n",
    "a.solve()"
   ]
  },
  {
   "cell_type": "code",
   "execution_count": 11,
   "id": "1de89def-05dd-4c8e-9fa2-eb353df885e1",
   "metadata": {},
   "outputs": [],
   "source": [
    "class PartB(PartA):\n",
    "    def solve(self):\n",
    "        cumsum = 0\n",
    "        for board in self.boards:\n",
    "            smudge_found = False\n",
    "            reflection_dict_original = board.axes_of_reflection()\n",
    "            \n",
    "            # Find the first smudge and the corresponding new row/column axis of reflection\n",
    "            for ii in range(board.n_rows):\n",
    "                for jj in range(board.n_cols):\n",
    "                    if not smudge_found:\n",
    "                        new_matrix = board.flip_bit(ii, jj)\n",
    "                        reflection_dict_new = board.axes_of_reflection(new_matrix)\n",
    "\n",
    "                        # row/col indices that are new axes of reflection\n",
    "                        row_diff = [\n",
    "                            x for x in reflection_dict_new[\"row\"] \n",
    "                            if x not in reflection_dict_original[\"row\"]\n",
    "                        ]\n",
    "                        col_diff = [\n",
    "                            x for x in reflection_dict_new[\"col\"] \n",
    "                            if x not in reflection_dict_original[\"col\"]\n",
    "                        ]\n",
    "                        \n",
    "                        if len(row_diff) > 0:\n",
    "                            smudge_found = True\n",
    "                            cumsum += row_diff[0] * 100\n",
    "                            \n",
    "                        elif len(col_diff) > 0:\n",
    "                            smudge_found = True\n",
    "                            cumsum += col_diff[0]\n",
    "                                  \n",
    "        return cumsum\n",
    "                \n",
    "            "
   ]
  },
  {
   "cell_type": "code",
   "execution_count": 12,
   "id": "c29186b8-a738-46d6-97cd-854b3923d4a2",
   "metadata": {},
   "outputs": [],
   "source": [
    "b_test = PartB(TEST_FILE_INPUT)"
   ]
  },
  {
   "cell_type": "code",
   "execution_count": 13,
   "id": "e840cd3d-2727-4076-a743-ca7cde24b0dc",
   "metadata": {},
   "outputs": [],
   "source": [
    "assert b_test.solve() == 400 # NUMBER HERE"
   ]
  },
  {
   "cell_type": "code",
   "execution_count": 14,
   "id": "fc53e11b-7fa7-4d01-8676-dd22561dc2fa",
   "metadata": {},
   "outputs": [
    {
     "data": {
      "text/plain": [
       "33991"
      ]
     },
     "execution_count": 14,
     "metadata": {},
     "output_type": "execute_result"
    }
   ],
   "source": [
    "b = PartB(FILE_INPUT)\n",
    "b.solve()"
   ]
  },
  {
   "cell_type": "code",
   "execution_count": null,
   "id": "4c459b23-93a4-46ad-8ae6-5960cb0994d3",
   "metadata": {},
   "outputs": [],
   "source": []
  }
 ],
 "metadata": {
  "kernelspec": {
   "display_name": "Python 3 (ipykernel)",
   "language": "python",
   "name": "python3"
  },
  "language_info": {
   "codemirror_mode": {
    "name": "ipython",
    "version": 3
   },
   "file_extension": ".py",
   "mimetype": "text/x-python",
   "name": "python",
   "nbconvert_exporter": "python",
   "pygments_lexer": "ipython3",
   "version": "3.9.7"
  }
 },
 "nbformat": 4,
 "nbformat_minor": 5
}
