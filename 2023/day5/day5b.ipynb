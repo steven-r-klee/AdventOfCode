{
 "cells": [
  {
   "cell_type": "code",
   "execution_count": 43,
   "id": "14c6acfe-777a-4bf6-94ef-6d84a3fcbf2c",
   "metadata": {},
   "outputs": [],
   "source": [
    "import re\n",
    "import numpy as np\n",
    "from functools import cached_property"
   ]
  },
  {
   "cell_type": "code",
   "execution_count": 139,
   "id": "19b84c75-8610-429f-add8-b0db3045d880",
   "metadata": {},
   "outputs": [],
   "source": [
    "input_path_test = './day5_input_test.txt'\n",
    "input_path_test_single = './day5_input_single_value.txt'\n",
    "input_path = './day5_input.txt'"
   ]
  },
  {
   "cell_type": "code",
   "execution_count": 166,
   "id": "ae77ab81-a235-4360-aaf9-b70729819c2a",
   "metadata": {},
   "outputs": [],
   "source": [
    "class Interval:\n",
    "    def __init__(self, start = None, end = None, length = None):\n",
    "        if start is None:\n",
    "            start = end - length + 1\n",
    "        if end is None:\n",
    "            end = start + length - 1\n",
    "        if length is None:\n",
    "            length = end - start + 1\n",
    "            \n",
    "        self.start = start\n",
    "        self.end = end\n",
    "        self.length = length\n",
    "\n",
    "    def __str__(self):\n",
    "        return f\"start: {self.start}, end: {self.end}, length: {self.length}\"\n",
    "        \n",
    "class Map:\n",
    "    def __init__(self, a, b, c):\n",
    "        self.domain_interval = Interval(start=b, length = c)\n",
    "        self.range_interval = Interval(start=a, length=c)\n",
    "    \n",
    "class IntervalMapper:\n",
    "    def __init__(self, input_interval: Interval, reference_map: Map):\n",
    "        self.input_interval = input_interval\n",
    "        self.reference_map = reference_map\n",
    "        \n",
    "    def apply(self):\n",
    "        domain_start = self.reference_map.domain_interval.start\n",
    "        domain_end = self.reference_map.domain_interval.end\n",
    "        \n",
    "        input_start = self.input_interval.start\n",
    "        input_end = self.input_interval.end\n",
    "        \n",
    "        range_start = self.reference_map.range_interval.start\n",
    "        range_end = self.reference_map.range_interval.end\n",
    "        \n",
    "        if input_end < domain_start:\n",
    "            return [(self.input_interval, False)]\n",
    "        \n",
    "        if input_start > domain_end:\n",
    "            return [(self.input_interval, False)]\n",
    "        \n",
    "        if input_start >= domain_start and input_end <= domain_end:\n",
    "            new_start = range_start + input_start - domain_start\n",
    "            return [\n",
    "                (\n",
    "                    Interval(start=new_start, length = self.input_interval.length), \n",
    "                    True\n",
    "                )\n",
    "            ]\n",
    "        \n",
    "        else:\n",
    "            if input_start < domain_start and input_end <= domain_end:\n",
    "                interval_left = Interval(start=input_start, end=domain_start-1)\n",
    "                interval_right = Interval(start=range_start, length=input_end - domain_start + 1)\n",
    "                return [(interval_left, False), (interval_right, True)]\n",
    "            \n",
    "            if input_start >= domain_start and input_end > domain_end:\n",
    "                interval_left = Interval(end = range_end, length = domain_end - input_start + 1)\n",
    "                interval_right = Interval(start = domain_end + 1, end = input_end)\n",
    "                return [(interval_left, True), (interval_right, False)]\n",
    "            \n",
    "            if input_start < domain_start and input_end > domain_end:\n",
    "                interval_left = Interval(start=input_start, end = domain_start - 1)\n",
    "                interval_center = Interval(start=range_start, end=range_end)\n",
    "                interval_right = Interval(start=domain_end + 1, end=input_end)\n",
    "                return [(interval_left, False), (interval_center, True), (interval_right, False)]"
   ]
  },
  {
   "cell_type": "code",
   "execution_count": 171,
   "id": "e044f7d5-02b3-4a13-8ff3-4cddef1bdbee",
   "metadata": {},
   "outputs": [
    {
     "name": "stdout",
     "output_type": "stream",
     "text": [
      "start: 81, end: 94, length: 14\n"
     ]
    }
   ],
   "source": [
    "my_map = Map(50, 98, 2)\n",
    "interval_in = Interval(start=79, length=14)\n",
    "x = IntervalMapper(input_interval=interval_in, reference_map=my_map).apply()[0][0]\n",
    "my_map2 = Map(52, 50, 48)\n",
    "y = IntervalMapper(input_interval = x, reference_map = my_map2).apply()[0][0]\n",
    "print(y)\n"
   ]
  },
  {
   "cell_type": "code",
   "execution_count": 191,
   "id": "eee781f6-cc38-45e4-ab93-6ac673137444",
   "metadata": {},
   "outputs": [],
   "source": [
    "class PartB:\n",
    "    def __init__(self, input_file):\n",
    "        self.input_file = input_file\n",
    "\n",
    "    @property\n",
    "    def seeds(self):\n",
    "        with open(self.input_file, 'r') as f:\n",
    "            seed_pairs = f.readline().rstrip('\\n')\n",
    "            \n",
    "        seed_pairs = seed_pairs.split()[1:]\n",
    "        seed_pairs = [int(seed) for seed in seed_pairs]\n",
    "        \n",
    "        seed_values = []\n",
    "        while len(seed_pairs) > 0:\n",
    "            start_seed = seed_pairs[0]\n",
    "            num_seeds = seed_pairs[1]\n",
    "            seed_values.append((Interval(start = start_seed, length = num_seeds), False))\n",
    "            seed_pairs = seed_pairs[2:]\n",
    "            \n",
    "        return seed_values\n",
    "    \n",
    "    @cached_property\n",
    "    def name_mappings_dict(self):\n",
    "        with open(self.input_file, 'r') as f:\n",
    "            all_lines = f.readlines()\n",
    "        all_lines = [line.rstrip('\\n') for line in all_lines]\n",
    "        all_lines = [line for line in all_lines if line != '']\n",
    "        all_lines = all_lines[1:]\n",
    "        \n",
    "        name_map_dict = {}\n",
    "        current_name = None\n",
    "        ii = 0\n",
    "        \n",
    "        for line in all_lines:\n",
    "            if line.endswith(':'):\n",
    "                if current_name is not None:\n",
    "                    name_map_dict[ii] = (current_name, current_map_list)\n",
    "                current_name = line.split()[0]\n",
    "                current_map_list = []\n",
    "                ii += 1\n",
    "            else:\n",
    "                vals = line.split()\n",
    "                a, b, c = vals\n",
    "                current_map_list.append({\"a\": int(a), \"b\": int(b), \"c\": int(c)})\n",
    "        \n",
    "        name_map_dict[ii] = (current_name, current_map_list)\n",
    "        return name_map_dict\n",
    "    \n",
    "    def get_all_intervals(self):\n",
    "        mapping_keys = list(self.name_mappings_dict.keys())\n",
    "        mapping_keys.sort()\n",
    "        \n",
    "        current_inputs = self.seeds\n",
    "        for mapping_key in mapping_keys:\n",
    "            name, map_list = self.name_mappings_dict[mapping_key]\n",
    "            print(f\"Mapping {name}\")\n",
    "            for map_dict in map_list:\n",
    "                temp_output = []\n",
    "                reference_map = Map(**map_dict)\n",
    "                for interval, mapped_yet in current_inputs:\n",
    "                    if not mapped_yet:\n",
    "                        mapper = IntervalMapper(interval, reference_map)\n",
    "                        temp_output += mapper.apply()\n",
    "                    else:\n",
    "                        temp_output += [(interval, mapped_yet)]\n",
    "                    \n",
    "                current_inputs = temp_output\n",
    "            current_inputs = [(interval, False) for interval, _ in current_inputs]\n",
    "                \n",
    "            # for interval, mapped_yet in current_inputs: \n",
    "            #     print(interval, mapped_yet)\n",
    "                \n",
    "            \n",
    "        return current_inputs\n",
    "    \n"
   ]
  },
  {
   "cell_type": "code",
   "execution_count": 195,
   "id": "1ac75b72-85d0-4044-947b-a1ba8da4490c",
   "metadata": {},
   "outputs": [
    {
     "data": {
      "text/plain": [
       "[(<__main__.Interval at 0x7fef92127eb0>, False),\n",
       " (<__main__.Interval at 0x7fef607b3250>, False),\n",
       " (<__main__.Interval at 0x7fef607b3820>, False),\n",
       " (<__main__.Interval at 0x7fefa0290490>, False),\n",
       " (<__main__.Interval at 0x7fefa0290af0>, False),\n",
       " (<__main__.Interval at 0x7fefa02900d0>, False),\n",
       " (<__main__.Interval at 0x7fefa0290370>, False),\n",
       " (<__main__.Interval at 0x7fefa0290040>, False),\n",
       " (<__main__.Interval at 0x7fefa0290eb0>, False),\n",
       " (<__main__.Interval at 0x7fefa0290670>, False)]"
      ]
     },
     "execution_count": 195,
     "metadata": {},
     "output_type": "execute_result"
    }
   ],
   "source": [
    "part_b_test = PartB(input_path)\n",
    "part_b_test.seeds"
   ]
  },
  {
   "cell_type": "code",
   "execution_count": 196,
   "id": "59dec761-5b62-4d99-ad26-f31f1661eef5",
   "metadata": {},
   "outputs": [
    {
     "name": "stdout",
     "output_type": "stream",
     "text": [
      "Mapping seed-to-soil\n",
      "Mapping soil-to-fertilizer\n",
      "Mapping fertilizer-to-water\n",
      "Mapping water-to-light\n",
      "Mapping light-to-temperature\n",
      "Mapping temperature-to-humidity\n",
      "Mapping humidity-to-location\n"
     ]
    }
   ],
   "source": [
    "intervals = part_b_test.get_all_intervals()"
   ]
  },
  {
   "cell_type": "code",
   "execution_count": 197,
   "id": "f0056563-3b01-49fa-aaf8-9d199c2f23c2",
   "metadata": {},
   "outputs": [
    {
     "data": {
      "text/plain": [
       "10834440"
      ]
     },
     "execution_count": 197,
     "metadata": {},
     "output_type": "execute_result"
    }
   ],
   "source": [
    "min([interval[0].start for interval in intervals])"
   ]
  },
  {
   "cell_type": "code",
   "execution_count": null,
   "id": "9438c60e-a732-40fe-aeed-d94eb9448e19",
   "metadata": {},
   "outputs": [],
   "source": []
  },
  {
   "cell_type": "code",
   "execution_count": null,
   "id": "4c1a1252-b41e-4eb3-965e-8d09cb262dc7",
   "metadata": {},
   "outputs": [],
   "source": []
  },
  {
   "cell_type": "code",
   "execution_count": null,
   "id": "4e149c8b-02f3-4191-bf1b-64856293ff48",
   "metadata": {},
   "outputs": [],
   "source": []
  },
  {
   "cell_type": "code",
   "execution_count": null,
   "id": "4cda678f-09af-43a1-aceb-957357719c5b",
   "metadata": {},
   "outputs": [],
   "source": []
  },
  {
   "cell_type": "code",
   "execution_count": null,
   "id": "911a56b6-1814-4145-a066-a428f6ad231c",
   "metadata": {},
   "outputs": [],
   "source": []
  }
 ],
 "metadata": {
  "kernelspec": {
   "display_name": "Python 3 (ipykernel)",
   "language": "python",
   "name": "python3"
  },
  "language_info": {
   "codemirror_mode": {
    "name": "ipython",
    "version": 3
   },
   "file_extension": ".py",
   "mimetype": "text/x-python",
   "name": "python",
   "nbconvert_exporter": "python",
   "pygments_lexer": "ipython3",
   "version": "3.9.7"
  }
 },
 "nbformat": 4,
 "nbformat_minor": 5
}
