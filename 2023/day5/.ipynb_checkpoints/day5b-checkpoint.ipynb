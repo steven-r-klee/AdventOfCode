{
 "cells": [
  {
   "cell_type": "code",
   "execution_count": 43,
   "id": "14c6acfe-777a-4bf6-94ef-6d84a3fcbf2c",
   "metadata": {},
   "outputs": [],
   "source": [
    "import re\n",
    "import numpy as np\n",
    "from functools import cached_property"
   ]
  },
  {
   "cell_type": "code",
   "execution_count": 22,
   "id": "19b84c75-8610-429f-add8-b0db3045d880",
   "metadata": {},
   "outputs": [],
   "source": [
    "input_path_test = './day5_input_test.txt'\n",
    "# input_path_test_b = './day2_input_test_b.txt'\n",
    "input_path = './day5_input.txt'"
   ]
  },
  {
   "cell_type": "code",
   "execution_count": 40,
   "id": "ae77ab81-a235-4360-aaf9-b70729819c2a",
   "metadata": {},
   "outputs": [],
   "source": [
    "class Interval:\n",
    "    def __init__(self, start = None, end = None, length = None):\n",
    "        if start is None:\n",
    "            start = end - length + 1\n",
    "        if end is None:\n",
    "            end = start + length - 1\n",
    "        if length is None:\n",
    "            length = end - start + 1\n",
    "            \n",
    "        self.start = start\n",
    "        self.end = end\n",
    "        self.length = length\n",
    "\n",
    "    def __str__(self):\n",
    "        return f\"start: {self.start}, end: {self.end}, length: {self.length}\"\n",
    "        \n",
    "class Map:\n",
    "    def __init__(self, a, b, c):\n",
    "        self.domain_interval = Interval(start=b, length = c)\n",
    "        self.range_interval = Interval(start=a, length=c)\n",
    "    \n",
    "class IntervalMapper:\n",
    "    def __init__(self, input_interval: Interval, reference_map: Map):\n",
    "        self.input_interval = input_interval\n",
    "        self.reference_map = reference_map\n",
    "        \n",
    "    def __str__(self):\n",
    "        I = self.apply()\n",
    "        return str([interval.__str__() for interval in I])\n",
    "        \n",
    "    def apply(self):\n",
    "        domain_start = self.reference_map.domain_interval.start\n",
    "        domain_end = self.reference_map.domain_interval.end\n",
    "        \n",
    "        input_start = self.input_interval.start\n",
    "        input_end = self.input_interval.end\n",
    "        \n",
    "        range_start = self.reference_map.range_interval.start\n",
    "        range_end = self.reference_map.range_interval.end\n",
    "        \n",
    "        if input_end < domain_start:\n",
    "            return [self.input_interval]\n",
    "        \n",
    "        if input_start > domain_end:\n",
    "            return [self.input_interval]\n",
    "        \n",
    "        if input_start >= domain_start and input_end <= domain_end:\n",
    "            new_start = range_start + input_start - domain_start\n",
    "            return [Interval(start=new_start, length = self.input_interval.length)]\n",
    "        \n",
    "        else:\n",
    "            if input_start < domain_start and input_end <= domain_end:\n",
    "                interval_left = Interval(start=input_start, end=reference_start-1)\n",
    "                interval_right = Interval(start=range_start, length=domain_start - input_start)\n",
    "                return [interval_left, interval_right]\n",
    "            \n",
    "            if input_start >= domain_start and input_end > domain_end:\n",
    "                interval_left = Interval(end = range_end, length = domain_end - input_start)\n",
    "                interval_right = Interval(start = domain_end + 1, end = input_end)\n",
    "                return [interval_left, interval_right]\n",
    "            if input_start < domain_start and input_end > domain_end:\n",
    "                interval_left = Interval(start=input_start, end = domain_start - 1)\n",
    "                interval_center = Interval(start=range_start, end=range_end)\n",
    "                interval_right = Interval(start=domain_end + 1, end=input_end)\n",
    "                return [interval_left, interval_center, interval_right]"
   ]
  },
  {
   "cell_type": "code",
   "execution_count": 41,
   "id": "e044f7d5-02b3-4a13-8ff3-4cddef1bdbee",
   "metadata": {},
   "outputs": [
    {
     "name": "stdout",
     "output_type": "stream",
     "text": [
      "start: 81, end: 94, length: 14\n"
     ]
    }
   ],
   "source": [
    "my_map = Map(50, 98, 2)\n",
    "interval_in = Interval(start=79, length=14)\n",
    "x = IntervalMapper(input_interval=interval_in, reference_map=my_map).apply()[0]\n",
    "my_map2 = Map(52, 50, 48)\n",
    "y = IntervalMapper(input_interval = x, reference_map = my_map2).apply()[0]\n",
    "print(y)\n"
   ]
  },
  {
   "cell_type": "code",
   "execution_count": 64,
   "id": "eee781f6-cc38-45e4-ab93-6ac673137444",
   "metadata": {},
   "outputs": [],
   "source": [
    "class PartB:\n",
    "    def __init__(self, input_file):\n",
    "        self.input_file = input_file\n",
    "\n",
    "    @property\n",
    "    def seeds(self):\n",
    "        with open(self.input_file, 'r') as f:\n",
    "            seed_pairs = f.readline().rstrip('\\n')\n",
    "            \n",
    "        seed_pairs = seed_pairs.split()[1:]\n",
    "        seed_pairs = [int(seed) for seed in seed_pairs]\n",
    "        \n",
    "        seed_values = []\n",
    "        while len(seed_pairs) > 0:\n",
    "            start_seed = seed_pairs[0]\n",
    "            num_seeds = seed_pairs[1]\n",
    "            seed_values.append(Interval(start = start_seed, length = num_seeds))\n",
    "            seed_pairs = seed_pairs[2:]\n",
    "            \n",
    "        return seed_values\n",
    "    \n",
    "    @cached_property\n",
    "    def name_mappings_dict(self):\n",
    "        with open(self.input_file, 'r') as f:\n",
    "            all_lines = f.readlines()\n",
    "        all_lines = [line.rstrip('\\n') for line in all_lines]\n",
    "        all_lines = [line for line in all_lines if line != '']\n",
    "        all_lines = all_lines[1:]\n",
    "        \n",
    "        name_map_dict = {}\n",
    "        current_name = None\n",
    "        ii = 0\n",
    "        \n",
    "        for line in all_lines:\n",
    "            if line.endswith(':'):\n",
    "                if current_name is not None:\n",
    "                    name_map_dict[ii] = (current_name, current_map_list)\n",
    "                current_name = line.split()[0]\n",
    "                current_map_list = []\n",
    "                ii += 1\n",
    "            else:\n",
    "                vals = line.split()\n",
    "                a, b, c = vals\n",
    "                current_map_list.append({\"a\": int(a), \"b\": int(b), \"c\": int(c)})\n",
    "        \n",
    "        name_map_dict[ii] = (current_name, current_map_list)\n",
    "        return name_map_dict\n",
    "    \n",
    "    def get_all_intervals(self):\n",
    "        mapping_keys = list(self.name_mappings_dict.keys())\n",
    "        mapping_keys.sort()\n",
    "        \n",
    "        current_inputs = self.seeds\n",
    "        for mapping_key in mapping_keys:\n",
    "            name, map_list = self.name_mappings_dict[mapping_key]\n",
    "            print(f\"Mapping {name}\")\n",
    "            for map_dict in map_list:\n",
    "                temp_output = []\n",
    "                reference_map = Map(**map_dict)\n",
    "                for interval in current_inputs:\n",
    "                    mapper = IntervalMapper(interval, reference_map)\n",
    "                    temp_output += mapper.apply()\n",
    "                    \n",
    "                current_inputs = temp_output\n",
    "                \n",
    "            \n",
    "        return current_inputs\n",
    "    \n"
   ]
  },
  {
   "cell_type": "code",
   "execution_count": 53,
   "id": "1ac75b72-85d0-4044-947b-a1ba8da4490c",
   "metadata": {},
   "outputs": [
    {
     "data": {
      "text/plain": [
       "[<__main__.Interval at 0x7fef70494e50>, <__main__.Interval at 0x7fef704c6610>]"
      ]
     },
     "execution_count": 53,
     "metadata": {},
     "output_type": "execute_result"
    }
   ],
   "source": [
    "part_b_test = PartB(input_path_test)\n",
    "part_b_test.seeds"
   ]
  },
  {
   "cell_type": "code",
   "execution_count": 62,
   "id": "a4e648c9-2b39-45c6-8c7d-dde99d6dc160",
   "metadata": {},
   "outputs": [
    {
     "data": {
      "text/plain": [
       "<__main__.Map at 0x7fef607b36a0>"
      ]
     },
     "execution_count": 62,
     "metadata": {},
     "output_type": "execute_result"
    }
   ],
   "source": [
    "Map(**part_b_test.name_mappings_dict[1][1][0])"
   ]
  },
  {
   "cell_type": "code",
   "execution_count": 55,
   "id": "59dec761-5b62-4d99-ad26-f31f1661eef5",
   "metadata": {},
   "outputs": [
    {
     "name": "stdout",
     "output_type": "stream",
     "text": [
      "Mapping seed-to-soil\n"
     ]
    },
    {
     "ename": "TypeError",
     "evalue": "__main__.Map() argument after ** must be a mapping, not list",
     "output_type": "error",
     "traceback": [
      "\u001b[0;31m---------------------------------------------------------------------------\u001b[0m",
      "\u001b[0;31mTypeError\u001b[0m                                 Traceback (most recent call last)",
      "\u001b[0;32m/var/folders/k2/w58wxrdn4wg86hyj9p_f8c5c0000gn/T/ipykernel_68449/2216076812.py\u001b[0m in \u001b[0;36m<module>\u001b[0;34m\u001b[0m\n\u001b[0;32m----> 1\u001b[0;31m \u001b[0mpart_b_test\u001b[0m\u001b[0;34m.\u001b[0m\u001b[0mget_all_intervals\u001b[0m\u001b[0;34m(\u001b[0m\u001b[0;34m)\u001b[0m\u001b[0;34m\u001b[0m\u001b[0;34m\u001b[0m\u001b[0m\n\u001b[0m",
      "\u001b[0;32m/var/folders/k2/w58wxrdn4wg86hyj9p_f8c5c0000gn/T/ipykernel_68449/1320075232.py\u001b[0m in \u001b[0;36mget_all_intervals\u001b[0;34m(self)\u001b[0m\n\u001b[1;32m     55\u001b[0m             \u001b[0mname\u001b[0m\u001b[0;34m,\u001b[0m \u001b[0mmap_list\u001b[0m \u001b[0;34m=\u001b[0m \u001b[0mself\u001b[0m\u001b[0;34m.\u001b[0m\u001b[0mname_mappings_dict\u001b[0m\u001b[0;34m[\u001b[0m\u001b[0mmapping_key\u001b[0m\u001b[0;34m]\u001b[0m\u001b[0;34m\u001b[0m\u001b[0;34m\u001b[0m\u001b[0m\n\u001b[1;32m     56\u001b[0m             \u001b[0mprint\u001b[0m\u001b[0;34m(\u001b[0m\u001b[0;34mf\"Mapping {name}\"\u001b[0m\u001b[0;34m)\u001b[0m\u001b[0;34m\u001b[0m\u001b[0;34m\u001b[0m\u001b[0m\n\u001b[0;32m---> 57\u001b[0;31m             \u001b[0mcurrent_map\u001b[0m \u001b[0;34m=\u001b[0m \u001b[0mMap\u001b[0m\u001b[0;34m(\u001b[0m\u001b[0;34m**\u001b[0m\u001b[0mmap_list\u001b[0m\u001b[0;34m)\u001b[0m\u001b[0;34m\u001b[0m\u001b[0;34m\u001b[0m\u001b[0m\n\u001b[0m\u001b[1;32m     58\u001b[0m             \u001b[0mcurrent_inputs\u001b[0m \u001b[0;34m=\u001b[0m \u001b[0mcurrent_map\u001b[0m\u001b[0;34m.\u001b[0m\u001b[0mmap_stage\u001b[0m\u001b[0;34m(\u001b[0m\u001b[0mcurrent_inputs\u001b[0m\u001b[0;34m)\u001b[0m\u001b[0;34m\u001b[0m\u001b[0;34m\u001b[0m\u001b[0m\n\u001b[1;32m     59\u001b[0m             \u001b[0mprint\u001b[0m\u001b[0;34m(\u001b[0m\u001b[0;34m[\u001b[0m\u001b[0;34m(\u001b[0m\u001b[0minterval\u001b[0m\u001b[0;34m.\u001b[0m\u001b[0mstart\u001b[0m\u001b[0;34m,\u001b[0m \u001b[0minterval\u001b[0m\u001b[0;34m.\u001b[0m\u001b[0mend\u001b[0m\u001b[0;34m,\u001b[0m \u001b[0minterval\u001b[0m\u001b[0;34m.\u001b[0m\u001b[0mlength\u001b[0m\u001b[0;34m)\u001b[0m \u001b[0;32mfor\u001b[0m \u001b[0minterval\u001b[0m \u001b[0;32min\u001b[0m \u001b[0mcurrent_inputs\u001b[0m\u001b[0;34m]\u001b[0m\u001b[0;34m)\u001b[0m\u001b[0;34m\u001b[0m\u001b[0;34m\u001b[0m\u001b[0m\n",
      "\u001b[0;31mTypeError\u001b[0m: __main__.Map() argument after ** must be a mapping, not list"
     ]
    }
   ],
   "source": [
    "part_b_test.get_all_intervals()"
   ]
  },
  {
   "cell_type": "code",
   "execution_count": null,
   "id": "38fc6d20-cf15-4e07-b19c-265a8cc56065",
   "metadata": {},
   "outputs": [],
   "source": []
  }
 ],
 "metadata": {
  "kernelspec": {
   "display_name": "Python 3 (ipykernel)",
   "language": "python",
   "name": "python3"
  },
  "language_info": {
   "codemirror_mode": {
    "name": "ipython",
    "version": 3
   },
   "file_extension": ".py",
   "mimetype": "text/x-python",
   "name": "python",
   "nbconvert_exporter": "python",
   "pygments_lexer": "ipython3",
   "version": "3.9.7"
  }
 },
 "nbformat": 4,
 "nbformat_minor": 5
}
