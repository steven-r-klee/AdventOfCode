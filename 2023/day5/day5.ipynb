{
 "cells": [
  {
   "cell_type": "code",
   "execution_count": 2,
   "id": "14c6acfe-777a-4bf6-94ef-6d84a3fcbf2c",
   "metadata": {},
   "outputs": [],
   "source": [
    "import re\n",
    "import numpy as np\n",
    "from functools import cached_property"
   ]
  },
  {
   "cell_type": "code",
   "execution_count": 3,
   "id": "19b84c75-8610-429f-add8-b0db3045d880",
   "metadata": {},
   "outputs": [],
   "source": [
    "input_path_test = './day5_input_test.txt'\n",
    "# input_path_test_b = './day2_input_test_b.txt'\n",
    "input_path = './day5_input.txt'"
   ]
  },
  {
   "cell_type": "code",
   "execution_count": 263,
   "id": "ae77ab81-a235-4360-aaf9-b70729819c2a",
   "metadata": {},
   "outputs": [],
   "source": [
    "class PartA:\n",
    "    def __init__(self, input_file):\n",
    "        self.input_file = input_file\n",
    "        \n",
    "    @property\n",
    "    def seeds(self):\n",
    "        with open(self.input_file, 'r') as f:\n",
    "            seeds = f.readline().rstrip('\\n')\n",
    "            \n",
    "        seeds = seeds.split()[1:]\n",
    "        return [int(seed) for seed in seeds]\n",
    "    \n",
    "    @cached_property\n",
    "    def name_mappings_dict(self):\n",
    "        with open(self.input_file, 'r') as f:\n",
    "            all_lines = f.readlines()\n",
    "        all_lines = [line.rstrip('\\n') for line in all_lines]\n",
    "        all_lines = [line for line in all_lines if line != '']\n",
    "        all_lines = all_lines[1:]\n",
    "        \n",
    "        name_map_dict = {}\n",
    "        current_name = None\n",
    "        ii = 0\n",
    "        \n",
    "        for line in all_lines:\n",
    "            if line.endswith(':'):\n",
    "                if current_name is not None:\n",
    "                    name_map_dict[ii] = (current_name, current_map_list)\n",
    "                current_name = line.split()[0]\n",
    "                current_map_list = []\n",
    "                ii += 1\n",
    "            else:\n",
    "                current_map_list.append(line)\n",
    "        \n",
    "        name_map_dict[ii] = (current_name, current_map_list)\n",
    "        return name_map_dict\n",
    "    \n",
    "    def get_all_locations(self):\n",
    "        mapping_keys = list(self.name_mappings_dict.keys())\n",
    "        mapping_keys.sort()\n",
    "        \n",
    "        current_inputs = self.seeds\n",
    "        for mapping_key in mapping_keys:\n",
    "            name, map_list = self.name_mappings_dict[mapping_key]\n",
    "            print(f\"Mapping {name}\")\n",
    "            current_map = Map(name, map_list)\n",
    "            current_inputs = current_map.get_output_values(current_inputs)\n",
    "            \n",
    "        return current_inputs\n",
    "    \n",
    "    @property\n",
    "    def nearest_location(self):\n",
    "        return min(self.get_all_locations())\n",
    "            \n",
    "class Interval:\n",
    "    def __init__(self, start, end = None, length = None):\n",
    "        if end is None:\n",
    "            end = start + length - 1\n",
    "        if length is None:\n",
    "            length = end - start + 1\n",
    "            \n",
    "        self.start = start\n",
    "        self.end = end\n",
    "        self.length = length\n",
    "        \n",
    "    \n",
    "class Map:\n",
    "    def __init__(self, name, map_list):\n",
    "        self.name = name\n",
    "        self.map_list_raw = map_list\n",
    "        self.input_type = self.name.split('-to-')[0]\n",
    "        self.output_type = self.name.split('-to-')[1]\n",
    "        \n",
    "    def output_value(self, input_value):\n",
    "        output_value = input_value\n",
    "        for map_option in self.map_list_raw:\n",
    "            map_values = map_option.split()\n",
    "            y,x,z = [int(ii) for ii in map_values]\n",
    "            if input_value in range(x, x+z):\n",
    "                diff = input_value - x\n",
    "                output_value = y + diff\n",
    "            \n",
    "        return output_value\n",
    "    \n",
    "    def get_output_values(self, input_values):\n",
    "        output_values = []\n",
    "        for input_value in input_values:\n",
    "            output_values.append(self.output_value(input_value))\n",
    "            \n",
    "        return output_values\n",
    "    \n",
    "    def map_interval(self, interval: Interval, map_item):\n",
    "        y_start, x_start, map_length = map_item\n",
    "        x_end = x_start + map_length - 1\n",
    "        \n",
    "        # print(f\"Starting interval: {interval.start, interval.length}\")\n",
    "        \n",
    "        if interval.end < x_start or interval.start > x_end:\n",
    "            # print('foo')\n",
    "            return [interval]\n",
    "        \n",
    "        elif interval.start >= x_start and interval.end <= x_end:\n",
    "            # print('bar')\n",
    "            return [Interval(start = y_start + interval.start - x_start, length = interval.length)]\n",
    "        \n",
    "        elif interval.start < x_start and interval.end > x_end:\n",
    "            # print('s1')\n",
    "            interval_left = Interval(start = interval.start, end = x_start - 1)\n",
    "            interval_center = Interval(start = x_start, end = x_end)\n",
    "            interval_right = Interval(start = x_end + 1, end = interval.end)\n",
    "            map_left = self.map_interval(interval_left, map_item)\n",
    "            map_center = self.map_interval(interval_center, map_item)\n",
    "            map_right = self.map_interval(interval_right, map_item)\n",
    "        \n",
    "        elif interval.start < x_start and interval.end <= x_end:\n",
    "            # print('s2')\n",
    "            #interval_left, interval_right = interval.split(x_start, include_left = False)\n",
    "            interval_left = Interval(start = interval.start, end = x_start - 1)\n",
    "            interval_right = Interval(start = x_start, end = interval.end)\n",
    "            map_left = self.map_interval(interval_left, map_item)\n",
    "            map_right = self.map_interval(interval_right, map_item)\n",
    "            return map_left + map_right\n",
    "        \n",
    "        else: # interval.end > x_end and x_start <= interval.start:\n",
    "            # print('s3')\n",
    "            # interval_left, interval_right = interval.split(x_end, include_left = True)\n",
    "            interval_left = Interval(start = interval.start, end = x_end)\n",
    "            interval_right = Interval(start = x_end+1, end = interval.end)\n",
    "            map_left = self.map_interval(interval_left, map_item)\n",
    "            map_right = self.map_interval(interval_right, map_item)\n",
    "            return map_left + map_right\n",
    "        \n",
    "    def map_stage(self, intervals):\n",
    "        current_interval = intervals#[interval]\n",
    "        for map_option in self.map_list_raw:\n",
    "            print([(interval.start, interval.end) for interval in current_interval])\n",
    "            map_values = map_option.split()\n",
    "            map_item = [int(ii) for ii in map_values]\n",
    "            print(map_option)\n",
    "            # print(current_interval)\n",
    "            temp_interval = []\n",
    "            for interval in current_interval:\n",
    "                temp_interval += self.map_interval(interval, map_item)\n",
    "                \n",
    "            current_interval = temp_interval\n",
    "            \n",
    "            \n",
    "        return current_interval\n",
    "        \n",
    "        \n",
    "            \n",
    "        \n",
    "    "
   ]
  },
  {
   "cell_type": "code",
   "execution_count": 264,
   "id": "ae40f4a0-8510-4d07-a38a-dca315e5eaa9",
   "metadata": {},
   "outputs": [],
   "source": [
    "# part_a_test = PartA(input_path_test)\n",
    "# part_a_test.nearest_location"
   ]
  },
  {
   "cell_type": "code",
   "execution_count": 265,
   "id": "c453fef6-e563-4323-a21e-c77fb5642372",
   "metadata": {},
   "outputs": [
    {
     "name": "stdout",
     "output_type": "stream",
     "text": [
      "[(79, 92)]\n",
      "50 98 2\n",
      "[(79, 92)]\n",
      "52 50 48\n"
     ]
    },
    {
     "data": {
      "text/plain": [
       "[<__main__.Interval at 0x7faf61b3e070>]"
      ]
     },
     "execution_count": 265,
     "metadata": {},
     "output_type": "execute_result"
    }
   ],
   "source": [
    "mymap = Map(\"seed-to-soil\", ['50 98 2', '52 50 48'])\n",
    "\n",
    "mymap.map_stage([Interval(start=79, length=14)])"
   ]
  },
  {
   "cell_type": "code",
   "execution_count": 266,
   "id": "eee781f6-cc38-45e4-ab93-6ac673137444",
   "metadata": {},
   "outputs": [],
   "source": [
    "class PartB(PartA):\n",
    "    @property\n",
    "    def seeds(self):\n",
    "        with open(self.input_file, 'r') as f:\n",
    "            seed_pairs = f.readline().rstrip('\\n')\n",
    "            \n",
    "        seed_pairs = seed_pairs.split()[1:]\n",
    "        seed_pairs = [int(seed) for seed in seed_pairs]\n",
    "        \n",
    "        seed_values = []\n",
    "        while len(seed_pairs) > 0:\n",
    "            start_seed = seed_pairs[0]\n",
    "            num_seeds = seed_pairs[1]\n",
    "            seed_values.append(Interval(start = start_seed, length = num_seeds))\n",
    "            seed_pairs = seed_pairs[2:]\n",
    "            \n",
    "        return seed_values\n",
    "    \n",
    "    def get_all_intervals(self):\n",
    "        mapping_keys = list(self.name_mappings_dict.keys())\n",
    "        mapping_keys.sort()\n",
    "        \n",
    "        current_inputs = self.seeds\n",
    "        for mapping_key in mapping_keys:\n",
    "            name, map_list = self.name_mappings_dict[mapping_key]\n",
    "            print(f\"Mapping {name}\")\n",
    "            current_map = Map(name, map_list)\n",
    "            current_inputs = current_map.map_stage(current_inputs)\n",
    "            print([(interval.start, interval.end, interval.length) for interval in current_inputs])\n",
    "            \n",
    "        return current_inputs\n",
    "    \n",
    "    def get_nearest_location(self):\n",
    "        all_intervals = self.get_all_intervals()\n",
    "        return min([interval.start for interval in all_intervals])\n",
    "            \n",
    "        "
   ]
  },
  {
   "cell_type": "code",
   "execution_count": 267,
   "id": "1ac75b72-85d0-4044-947b-a1ba8da4490c",
   "metadata": {},
   "outputs": [],
   "source": [
    "part_b_test = PartB(input_path_test)\n",
    "# part_b_test.seeds"
   ]
  },
  {
   "cell_type": "code",
   "execution_count": 268,
   "id": "a4e648c9-2b39-45c6-8c7d-dde99d6dc160",
   "metadata": {},
   "outputs": [
    {
     "name": "stdout",
     "output_type": "stream",
     "text": [
      "Mapping seed-to-soil\n",
      "[(79, 92), (55, 67)]\n",
      "50 98 2\n",
      "[(79, 92), (55, 67)]\n",
      "52 50 48\n",
      "[(81, 94, 14), (57, 69, 13)]\n",
      "Mapping soil-to-fertilizer\n",
      "[(81, 94), (57, 69)]\n",
      "0 15 37\n",
      "[(81, 94), (57, 69)]\n",
      "37 52 2\n",
      "[(81, 94), (57, 69)]\n",
      "39 0 15\n",
      "[(81, 94, 14), (57, 69, 13)]\n",
      "Mapping fertilizer-to-water\n",
      "[(81, 94), (57, 69)]\n",
      "49 53 8\n",
      "[(81, 94), (53, 56), (61, 69)]\n",
      "0 11 42\n",
      "[(81, 94), (53, 56), (61, 69)]\n",
      "42 0 7\n",
      "[(81, 94), (53, 56), (61, 69)]\n",
      "57 7 4\n",
      "[(81, 94, 14), (53, 56, 4), (61, 69, 9)]\n",
      "Mapping water-to-light\n",
      "[(81, 94), (53, 56), (61, 69)]\n",
      "88 18 7\n",
      "[(81, 94), (53, 56), (61, 69)]\n",
      "18 25 70\n",
      "[(74, 87, 14), (46, 49, 4), (54, 62, 9)]\n",
      "Mapping light-to-temperature\n",
      "[(74, 87), (46, 49), (54, 62)]\n",
      "45 77 23\n",
      "[(74, 76), (45, 55), (46, 49), (54, 62)]\n",
      "81 45 19\n",
      "[(74, 76), (81, 91), (82, 85), (90, 98)]\n",
      "68 64 13\n",
      "[(78, 80, 3), (81, 91, 11), (82, 85, 4), (90, 98, 9)]\n",
      "Mapping temperature-to-humidity\n",
      "[(78, 80), (81, 91), (82, 85), (90, 98)]\n",
      "0 69 1\n",
      "[(78, 80), (81, 91), (82, 85), (90, 98)]\n",
      "1 0 69\n",
      "[(78, 80, 3), (81, 91, 11), (82, 85, 4), (90, 98, 9)]\n",
      "Mapping humidity-to-location\n",
      "[(78, 80), (81, 91), (82, 85), (90, 98)]\n",
      "60 56 37\n",
      "[(82, 84), (85, 95), (86, 89), (94, 96), (93, 98)]\n",
      "56 93 4\n",
      "[(82, 84, 3), (85, 92, 8), (56, 58, 3), (86, 89, 4), (57, 59, 3), (56, 59, 4), (97, 98, 2)]\n"
     ]
    }
   ],
   "source": [
    "ints = part_b_test.get_all_intervals()"
   ]
  },
  {
   "cell_type": "code",
   "execution_count": 254,
   "id": "dedf0522-195d-4976-a3fa-3cbedec2138b",
   "metadata": {},
   "outputs": [
    {
     "name": "stdout",
     "output_type": "stream",
     "text": [
      "[(74, 87)]\n",
      "45 77 23\n",
      "s2\n",
      "foo\n",
      "bar\n"
     ]
    },
    {
     "data": {
      "text/plain": [
       "[<__main__.Interval at 0x7faf61b6eee0>, <__main__.Interval at 0x7faf61a5dc70>]"
      ]
     },
     "execution_count": 261,
     "metadata": {},
     "output_type": "execute_result"
    }
   ],
   "source": [
    "mymap = Map(\"foo-to-bar\", ['45 77 23'])\n",
    "\n",
    "mymap.map_stage([Interval(start=74, length=14)])"
   ]
  },
  {
   "cell_type": "code",
   "execution_count": 225,
   "id": "54475c35-35c1-4f9d-a73b-58e0f191f909",
   "metadata": {},
   "outputs": [
    {
     "name": "stdout",
     "output_type": "stream",
     "text": [
      "82 84 3\n",
      "85 92 8\n",
      "56 58 3\n",
      "86 89 4\n",
      "57 59 3\n",
      "56 59 4\n",
      "97 98 2\n"
     ]
    }
   ],
   "source": [
    "for interval in ints:\n",
    "    print(interval.start, interval.end, interval.length)"
   ]
  },
  {
   "cell_type": "code",
   "execution_count": 226,
   "id": "3aa44aea-feee-4d6f-baa6-fcd5a682a4d8",
   "metadata": {},
   "outputs": [
    {
     "name": "stdout",
     "output_type": "stream",
     "text": [
      "Mapping seed-to-soil\n",
      "50 98 2\n",
      "Starting interval: (79, 14)\n",
      "foo\n",
      "Starting interval: (55, 13)\n",
      "foo\n",
      "52 50 48\n",
      "Starting interval: (79, 14)\n",
      "bar\n",
      "Starting interval: (55, 13)\n",
      "bar\n",
      "[(81, 94, 14), (57, 69, 13)]\n",
      "Mapping soil-to-fertilizer\n",
      "0 15 37\n",
      "Starting interval: (81, 14)\n",
      "foo\n",
      "Starting interval: (57, 13)\n",
      "foo\n",
      "37 52 2\n",
      "Starting interval: (81, 14)\n",
      "foo\n",
      "Starting interval: (57, 13)\n",
      "foo\n",
      "39 0 15\n",
      "Starting interval: (81, 14)\n",
      "foo\n",
      "Starting interval: (57, 13)\n",
      "foo\n",
      "[(81, 94, 14), (57, 69, 13)]\n",
      "Mapping fertilizer-to-water\n",
      "49 53 8\n",
      "Starting interval: (81, 14)\n",
      "foo\n",
      "Starting interval: (57, 13)\n",
      "Starting interval: (57, 4)\n",
      "bar\n",
      "Starting interval: (61, 9)\n",
      "foo\n",
      "0 11 42\n",
      "Starting interval: (81, 14)\n",
      "foo\n",
      "Starting interval: (53, 4)\n",
      "foo\n",
      "Starting interval: (61, 9)\n",
      "foo\n",
      "42 0 7\n",
      "Starting interval: (81, 14)\n",
      "foo\n",
      "Starting interval: (53, 4)\n",
      "foo\n",
      "Starting interval: (61, 9)\n",
      "foo\n",
      "57 7 4\n",
      "Starting interval: (81, 14)\n",
      "foo\n",
      "Starting interval: (53, 4)\n",
      "foo\n",
      "Starting interval: (61, 9)\n",
      "foo\n",
      "[(81, 94, 14), (53, 56, 4), (61, 69, 9)]\n",
      "Mapping water-to-light\n",
      "88 18 7\n",
      "Starting interval: (81, 14)\n",
      "foo\n",
      "Starting interval: (53, 4)\n",
      "foo\n",
      "Starting interval: (61, 9)\n",
      "foo\n",
      "18 25 70\n",
      "Starting interval: (81, 14)\n",
      "bar\n",
      "Starting interval: (53, 4)\n",
      "bar\n",
      "Starting interval: (61, 9)\n",
      "bar\n",
      "[(74, 87, 14), (46, 49, 4), (54, 62, 9)]\n",
      "Mapping light-to-temperature\n",
      "45 77 23\n",
      "Starting interval: (74, 14)\n",
      "Starting interval: (74, 3)\n",
      "foo\n",
      "Starting interval: (77, 11)\n",
      "bar\n",
      "Starting interval: (46, 4)\n",
      "foo\n",
      "Starting interval: (54, 9)\n",
      "foo\n",
      "81 45 19\n",
      "Starting interval: (74, 3)\n",
      "foo\n",
      "Starting interval: (45, 11)\n",
      "bar\n",
      "Starting interval: (46, 4)\n",
      "bar\n",
      "Starting interval: (54, 9)\n",
      "bar\n",
      "68 64 13\n",
      "Starting interval: (74, 3)\n",
      "bar\n",
      "Starting interval: (81, 11)\n",
      "foo\n",
      "Starting interval: (82, 4)\n",
      "foo\n",
      "Starting interval: (90, 9)\n",
      "foo\n",
      "[(78, 80, 3), (81, 91, 11), (82, 85, 4), (90, 98, 9)]\n",
      "Mapping temperature-to-humidity\n",
      "0 69 1\n",
      "Starting interval: (78, 3)\n",
      "foo\n",
      "Starting interval: (81, 11)\n",
      "foo\n",
      "Starting interval: (82, 4)\n",
      "foo\n",
      "Starting interval: (90, 9)\n",
      "foo\n",
      "1 0 69\n",
      "Starting interval: (78, 3)\n",
      "foo\n",
      "Starting interval: (81, 11)\n",
      "foo\n",
      "Starting interval: (82, 4)\n",
      "foo\n",
      "Starting interval: (90, 9)\n",
      "foo\n",
      "[(78, 80, 3), (81, 91, 11), (82, 85, 4), (90, 98, 9)]\n",
      "Mapping humidity-to-location\n",
      "60 56 37\n",
      "Starting interval: (78, 3)\n",
      "bar\n",
      "Starting interval: (81, 11)\n",
      "bar\n",
      "Starting interval: (82, 4)\n",
      "bar\n",
      "Starting interval: (90, 9)\n",
      "Starting interval: (90, 3)\n",
      "bar\n",
      "Starting interval: (93, 6)\n",
      "foo\n",
      "56 93 4\n",
      "Starting interval: (82, 3)\n",
      "foo\n",
      "Starting interval: (85, 11)\n",
      "Starting interval: (85, 8)\n",
      "foo\n",
      "Starting interval: (93, 3)\n",
      "bar\n",
      "Starting interval: (86, 4)\n",
      "foo\n",
      "Starting interval: (94, 3)\n",
      "bar\n",
      "Starting interval: (93, 6)\n",
      "Starting interval: (93, 4)\n",
      "bar\n",
      "Starting interval: (97, 2)\n",
      "foo\n",
      "[(82, 84, 3), (85, 92, 8), (56, 58, 3), (86, 89, 4), (57, 59, 3), (56, 59, 4), (97, 98, 2)]\n"
     ]
    },
    {
     "data": {
      "text/plain": [
       "56"
      ]
     },
     "execution_count": 226,
     "metadata": {},
     "output_type": "execute_result"
    }
   ],
   "source": [
    "part_b_test.get_nearest_location()"
   ]
  },
  {
   "cell_type": "code",
   "execution_count": 208,
   "id": "a959539f-a304-452d-b49e-6ad055f6e38c",
   "metadata": {},
   "outputs": [
    {
     "data": {
      "text/plain": [
       "[(79, 92, 14), (55, 67, 13)]"
      ]
     },
     "execution_count": 208,
     "metadata": {},
     "output_type": "execute_result"
    }
   ],
   "source": [
    "[(interval.start, interval.end, interval.length) for interval in part_b_test.seeds]"
   ]
  },
  {
   "cell_type": "code",
   "execution_count": 209,
   "id": "e8ab3208-f5a2-48b4-be35-f0d86f6ce0fe",
   "metadata": {},
   "outputs": [
    {
     "data": {
      "text/plain": [
       "['50 98 2', '52 50 48']"
      ]
     },
     "execution_count": 209,
     "metadata": {},
     "output_type": "execute_result"
    }
   ],
   "source": [
    "mymap.map_list_raw"
   ]
  },
  {
   "cell_type": "code",
   "execution_count": 210,
   "id": "eb969e0d-2e9f-4578-9278-26e6ef2093ea",
   "metadata": {},
   "outputs": [
    {
     "data": {
      "text/plain": [
       "94"
      ]
     },
     "execution_count": 210,
     "metadata": {},
     "output_type": "execute_result"
    }
   ],
   "source": [
    "mymap.output_value(92)"
   ]
  },
  {
   "cell_type": "code",
   "execution_count": null,
   "id": "59dec761-5b62-4d99-ad26-f31f1661eef5",
   "metadata": {},
   "outputs": [],
   "source": []
  }
 ],
 "metadata": {
  "kernelspec": {
   "display_name": "Python 3 (ipykernel)",
   "language": "python",
   "name": "python3"
  },
  "language_info": {
   "codemirror_mode": {
    "name": "ipython",
    "version": 3
   },
   "file_extension": ".py",
   "mimetype": "text/x-python",
   "name": "python",
   "nbconvert_exporter": "python",
   "pygments_lexer": "ipython3",
   "version": "3.9.7"
  }
 },
 "nbformat": 4,
 "nbformat_minor": 5
}
