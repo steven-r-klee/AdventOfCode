{
 "cells": [
  {
   "cell_type": "code",
   "execution_count": 70,
   "id": "6f7d4e1d-b93d-4a12-8f88-bc5a3f592d54",
   "metadata": {},
   "outputs": [],
   "source": [
    "import re\n",
    "import numpy as np"
   ]
  },
  {
   "cell_type": "code",
   "execution_count": 2,
   "id": "86773635-e8d0-4b59-a379-0d4dc2d57aa0",
   "metadata": {},
   "outputs": [],
   "source": [
    "input_path_test = './day2_input_test.txt'\n",
    "# input_path_test_b = './day2_input_test_b.txt'\n",
    "input_path = './day2_input.txt'"
   ]
  },
  {
   "cell_type": "code",
   "execution_count": 110,
   "id": "6ca1d190-5805-4ba4-9bc2-491b4bfc35e7",
   "metadata": {},
   "outputs": [],
   "source": [
    "class Game:\n",
    "    def __init__(self, line, color_maxes):\n",
    "        self.id = int(re.sub('Game ', '', line.split(\":\")[0]))\n",
    "        self.draws = line.split(\": \")[1].split('; ')\n",
    "        self.color_maxes = color_maxes\n",
    "        self.colors = ['red', 'green', 'blue']\n",
    "        \n",
    "    def draw_to_dict(self, draw):\n",
    "        d = {}\n",
    "        for pair in draw.split(', '):\n",
    "            count, color = pair.split(' ')\n",
    "            d[color] = int(count)\n",
    "        return d\n",
    "    \n",
    "    @property\n",
    "    def count_per_draw(self):\n",
    "        d = {'green': [], 'red': [], 'blue': []}\n",
    "        for draw in self.draws:\n",
    "            counts = self.draw_to_dict(draw)\n",
    "            for color in self.colors:\n",
    "                d[color].append(counts.get(color, 0))\n",
    "        return d\n",
    "    \n",
    "    @property\n",
    "    def power(self):\n",
    "        max_dict = {}\n",
    "        for color in self.colors:\n",
    "            max_dict[color] = max(self.count_per_draw[color])\n",
    "        return np.array(list(max_dict.values())).prod()\n",
    "    \n",
    "    def validate(self):\n",
    "        return all(max(self.count_per_draw[color]) <= self.color_maxes[color] for color in self.color_maxes.keys())\n",
    "\n",
    "class PartA:\n",
    "    def __init__(self, filename, color_maxes):\n",
    "        self.filename = filename\n",
    "        self.color_maxes = color_maxes\n",
    "        \n",
    "    @property\n",
    "    def valid_sum(self):\n",
    "        cumsum = 0\n",
    "        with open(self.filename, 'r') as f:\n",
    "            for line in f:\n",
    "                line = line.rstrip('\\n')\n",
    "                game = Game(line, self.color_maxes)\n",
    "                if game.validate():\n",
    "                    cumsum += game.id\n",
    "        return cumsum"
   ]
  },
  {
   "cell_type": "code",
   "execution_count": 111,
   "id": "b3534805-2efb-49e4-bb49-7caae90bce00",
   "metadata": {},
   "outputs": [
    {
     "data": {
      "text/plain": [
       "8"
      ]
     },
     "execution_count": 111,
     "metadata": {},
     "output_type": "execute_result"
    }
   ],
   "source": [
    "color_max_dict = {'red': 12, 'green': 13, 'blue': 14}\n",
    "\n",
    "PartA(input_path_test, color_max_dict).valid_sum"
   ]
  },
  {
   "cell_type": "code",
   "execution_count": 112,
   "id": "d0358877-23c3-4b69-8c14-4265918a0311",
   "metadata": {},
   "outputs": [
    {
     "data": {
      "text/plain": [
       "2545"
      ]
     },
     "execution_count": 112,
     "metadata": {},
     "output_type": "execute_result"
    }
   ],
   "source": [
    "PartA(input_path, color_max_dict).valid_sum"
   ]
  },
  {
   "cell_type": "code",
   "execution_count": 113,
   "id": "906b460b-5713-43fd-9bda-16365d2c69eb",
   "metadata": {},
   "outputs": [],
   "source": [
    "class PartB:\n",
    "    def __init__(self, filename, color_maxes):\n",
    "        self.filename = filename\n",
    "        self.color_maxes = color_maxes\n",
    "        \n",
    "    @property\n",
    "    def power_sum(self):\n",
    "        cumsum = 0\n",
    "        with open(self.filename, 'r') as f:\n",
    "            for line in f:\n",
    "                line = line.rstrip('\\n')\n",
    "                game = Game(line, self.color_maxes)\n",
    "                cumsum += game.power\n",
    "        return cumsum"
   ]
  },
  {
   "cell_type": "code",
   "execution_count": 114,
   "id": "5f4db82a-4f3d-4b6c-bed9-d5d2f7bd0841",
   "metadata": {},
   "outputs": [
    {
     "data": {
      "text/plain": [
       "2286"
      ]
     },
     "execution_count": 114,
     "metadata": {},
     "output_type": "execute_result"
    }
   ],
   "source": [
    "PartB(input_path_test, color_max_dict).power_sum"
   ]
  },
  {
   "cell_type": "code",
   "execution_count": 115,
   "id": "2f4d59b6-c86d-4fdf-b04a-311ee54c47f6",
   "metadata": {},
   "outputs": [
    {
     "data": {
      "text/plain": [
       "78111"
      ]
     },
     "execution_count": 115,
     "metadata": {},
     "output_type": "execute_result"
    }
   ],
   "source": [
    "PartB(input_path, color_max_dict).power_sum"
   ]
  },
  {
   "cell_type": "code",
   "execution_count": null,
   "id": "f1496ef1-c04b-4df7-8e29-9f9a0f8271f8",
   "metadata": {},
   "outputs": [],
   "source": []
  }
 ],
 "metadata": {
  "kernelspec": {
   "display_name": "Python 3 (ipykernel)",
   "language": "python",
   "name": "python3"
  },
  "language_info": {
   "codemirror_mode": {
    "name": "ipython",
    "version": 3
   },
   "file_extension": ".py",
   "mimetype": "text/x-python",
   "name": "python",
   "nbconvert_exporter": "python",
   "pygments_lexer": "ipython3",
   "version": "3.9.7"
  }
 },
 "nbformat": 4,
 "nbformat_minor": 5
}
