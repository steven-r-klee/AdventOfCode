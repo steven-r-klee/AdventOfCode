{
 "cells": [
  {
   "cell_type": "code",
   "execution_count": 1,
   "id": "2badfd03-2d43-41d4-affe-eb6136f55b99",
   "metadata": {},
   "outputs": [],
   "source": [
    "import re\n",
    "import numpy as np\n",
    "from functools import cached_property\n",
    "import math\n",
    "\n",
    "day_str = \"day9\"\n",
    "input_path_test = f'./{day_str}_input_test.txt'\n",
    "input_path = f'./{day_str}_input.txt'\n",
    "input_path_test_b = f'./{day_str}_input_test_b.txt'"
   ]
  },
  {
   "cell_type": "code",
   "execution_count": 2,
   "id": "59aa3a01-7e93-4857-a652-f5a90e4ca8a4",
   "metadata": {},
   "outputs": [],
   "source": [
    "class PartA:\n",
    "    def __init__(self, filepath):\n",
    "        self.filepath = filepath\n",
    "    \n",
    "    def process(self, line):\n",
    "        line = line.rstrip('\\n')\n",
    "        current_line = [int(x) for x in line.split()]\n",
    "        N = len(current_line)\n",
    "        diff_dict = {0: current_line}\n",
    "        for j in range(1, N):\n",
    "            current_line = [current_line[i] - current_line[i-1] for i in range(1, len(current_line))]\n",
    "            diff_dict[j] = current_line\n",
    "        return sum(value[-1] for key, value in diff_dict.items())\n",
    "    \n",
    "    def solution(self):\n",
    "        cumsum = 0\n",
    "        with open(self.filepath, 'r') as f:\n",
    "            for line in f:\n",
    "                # print(line)\n",
    "                cumsum += self.process(line)\n",
    "        return cumsum\n",
    "                            \n",
    "        \n",
    "        "
   ]
  },
  {
   "cell_type": "code",
   "execution_count": 3,
   "id": "adeb7905-5d7e-4f66-b400-fa2a9a2587be",
   "metadata": {},
   "outputs": [],
   "source": [
    "a_test = PartA(input_path_test)\n",
    "# a.process('0 3 6 9 12 15\\n')\n",
    "# a.process('1 3 6 10 15 21\\n')\n",
    "assert a_test.solution() == 114"
   ]
  },
  {
   "cell_type": "code",
   "execution_count": 4,
   "id": "4ac48e3b-f2c8-41cc-a584-a34fa6efa10f",
   "metadata": {},
   "outputs": [
    {
     "data": {
      "text/plain": [
       "1974913025"
      ]
     },
     "execution_count": 4,
     "metadata": {},
     "output_type": "execute_result"
    }
   ],
   "source": [
    "a = PartA(input_path)\n",
    "a.solution()"
   ]
  },
  {
   "cell_type": "code",
   "execution_count": 5,
   "id": "319064a2-67a8-42ed-8904-2e84d572e4fa",
   "metadata": {},
   "outputs": [],
   "source": [
    "class PartB:\n",
    "    def __init__(self, filepath):\n",
    "        self.filepath = filepath\n",
    "    \n",
    "    def process(self, line):\n",
    "        line = line.rstrip('\\n')\n",
    "        current_line = [int(x) for x in line.split()]\n",
    "        N = len(current_line)\n",
    "        diff_dict = {0: current_line}\n",
    "        for j in range(1, N):\n",
    "            current_line = [current_line[i] - current_line[i-1] for i in range(1, len(current_line))]\n",
    "            diff_dict[j] = current_line\n",
    "        return  sum((-1) ** key * value[0] for key, value in diff_dict.items())\n",
    "    \n",
    "    def solution(self):\n",
    "        cumsum = 0\n",
    "        with open(self.filepath, 'r') as f:\n",
    "            for line in f:\n",
    "                # print(line)\n",
    "                cumsum += self.process(line)\n",
    "        return cumsum\n",
    "                            \n",
    "        \n",
    "        "
   ]
  },
  {
   "cell_type": "code",
   "execution_count": 6,
   "id": "c7a4acba-5033-42fa-82d4-2e66fd8b5f0f",
   "metadata": {},
   "outputs": [],
   "source": [
    "b_test = PartB(input_path_test)\n",
    "# b_test.process('0 3 6 9 12 15\\n')\n",
    "# b_test.process('1 3 6 10 15 21\\n')\n",
    "# b_test.process('10 13 16 21 30 45\\n')\n",
    "assert b_test.solution() == 2"
   ]
  },
  {
   "cell_type": "code",
   "execution_count": 7,
   "id": "b37e9f2a-eab6-467f-9100-7fa85f49caa4",
   "metadata": {},
   "outputs": [
    {
     "data": {
      "text/plain": [
       "884"
      ]
     },
     "execution_count": 7,
     "metadata": {},
     "output_type": "execute_result"
    }
   ],
   "source": [
    "b_main = PartB(input_path)\n",
    "b_main.solution()"
   ]
  },
  {
   "cell_type": "code",
   "execution_count": null,
   "id": "117bd110-faca-425b-ad49-5b6292439b7a",
   "metadata": {},
   "outputs": [],
   "source": []
  }
 ],
 "metadata": {
  "kernelspec": {
   "display_name": "Python 3 (ipykernel)",
   "language": "python",
   "name": "python3"
  },
  "language_info": {
   "codemirror_mode": {
    "name": "ipython",
    "version": 3
   },
   "file_extension": ".py",
   "mimetype": "text/x-python",
   "name": "python",
   "nbconvert_exporter": "python",
   "pygments_lexer": "ipython3",
   "version": "3.9.7"
  }
 },
 "nbformat": 4,
 "nbformat_minor": 5
}
