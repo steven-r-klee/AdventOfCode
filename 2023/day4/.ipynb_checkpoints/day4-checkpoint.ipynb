{
 "cells": [
  {
   "cell_type": "code",
   "execution_count": 17,
   "id": "578b54b2-dfc1-4042-ad2c-6879b32d1808",
   "metadata": {},
   "outputs": [],
   "source": [
    "import re\n",
    "import numpy as np\n",
    "from functools import cached_property"
   ]
  },
  {
   "cell_type": "code",
   "execution_count": 2,
   "id": "bf8deb3c-b333-4074-a944-81329a89010f",
   "metadata": {},
   "outputs": [],
   "source": [
    "input_path_test = './day4_input_test.txt'\n",
    "# input_path_test_b = './day2_input_test_b.txt'\n",
    "input_path = './day4_input.txt'"
   ]
  },
  {
   "cell_type": "code",
   "execution_count": 29,
   "id": "64d61d1f-e7d0-4fd7-9277-28926df5a4f5",
   "metadata": {},
   "outputs": [],
   "source": [
    "class Card:\n",
    "    def __init__(self, card_str):\n",
    "        self.card_str = card_str\n",
    "        \n",
    "    @property\n",
    "    def card_id(self):\n",
    "        return int(self.card_str.split(\":\")[0].split(\" \")[1])\n",
    "    \n",
    "    @cached_property\n",
    "    def winning_numbers(self):\n",
    "        winning_numbers = self.card_str.split(\" | \")[0].split(\": \")[1].split()\n",
    "        winning_numbers = [int(w) for w in winning_numbers]\n",
    "        winning_numbers.sort()\n",
    "        return winning_numbers\n",
    "    \n",
    "    @cached_property\n",
    "    def my_numbers(self):\n",
    "        my_numbers = self.card_str.split(\" | \")[1].split()\n",
    "        my_numbers = [int(w) for w in my_numbers]\n",
    "        my_numbers.sort()\n",
    "        return my_numbers\n",
    "    \n",
    "    @property\n",
    "    def find_matches(self):\n",
    "        winning_idx = 0\n",
    "        my_idx = 0\n",
    "        matches = []\n",
    "        while winning_idx < len(self.winning_numbers) and my_idx < len(self.my_numbers):\n",
    "            winning_num = self.winning_numbers[winning_idx]\n",
    "            my_num = self.my_numbers[my_idx]\n",
    "            if winning_num < my_num:\n",
    "                winning_idx += 1\n",
    "            elif my_num < winning_num:\n",
    "                my_idx += 1\n",
    "            else:\n",
    "                matches.append(winning_num)\n",
    "                winning_idx += 1\n",
    "                my_idx += 1\n",
    "        return matches\n",
    "    \n",
    "    @property\n",
    "    def value(self):\n",
    "        num_matches = len(self.find_matches)\n",
    "        if num_matches == 0:\n",
    "            return 0\n",
    "        else:\n",
    "            return 2 ** (num_matches - 1)\n",
    "        \n",
    "class Pile:\n",
    "    def __init__(self, file_path):\n",
    "        self.file_path = file_path\n",
    "        \n",
    "    @property\n",
    "    def value(self):\n",
    "        cumsum = 0\n",
    "        with open(self.file_path, 'r') as f:\n",
    "            for line in f:\n",
    "                line = line.rstrip('\\n')\n",
    "                card = Card(line)\n",
    "                cumsum += card.value\n",
    "        return cumsum"
   ]
  },
  {
   "cell_type": "code",
   "execution_count": 30,
   "id": "de5795ce-bef8-4845-b515-34711fcc9dc8",
   "metadata": {},
   "outputs": [
    {
     "data": {
      "text/plain": [
       "8"
      ]
     },
     "execution_count": 30,
     "metadata": {},
     "output_type": "execute_result"
    }
   ],
   "source": [
    "card = Card(\"Card 1: 41 48 83 86 17 | 83 86  6 31 17  9 48 53\")\n",
    "card.card_id\n",
    "card.winning_numbers\n",
    "card.my_numbers\n",
    "card.find_matches\n",
    "card.value"
   ]
  },
  {
   "cell_type": "code",
   "execution_count": 32,
   "id": "0b05be5d-27d7-40e9-809d-0cde98920737",
   "metadata": {},
   "outputs": [
    {
     "data": {
      "text/plain": [
       "13"
      ]
     },
     "execution_count": 32,
     "metadata": {},
     "output_type": "execute_result"
    }
   ],
   "source": [
    "Pile('./day4_input_test.txt').value"
   ]
  },
  {
   "cell_type": "code",
   "execution_count": 33,
   "id": "08e84336-e81b-4369-a401-af50d72ffad4",
   "metadata": {},
   "outputs": [
    {
     "data": {
      "text/plain": [
       "25174"
      ]
     },
     "execution_count": 33,
     "metadata": {},
     "output_type": "execute_result"
    }
   ],
   "source": [
    "Pile('./day4_input.txt').value"
   ]
  },
  {
   "cell_type": "code",
   "execution_count": 82,
   "id": "e6a05b8f-ba6b-427e-abe2-17ea5d3c6869",
   "metadata": {},
   "outputs": [],
   "source": [
    "class CardB:\n",
    "    def __init__(self, card_str):\n",
    "        self.card_str = card_str\n",
    "        \n",
    "    @property\n",
    "    def card_id(self):\n",
    "        return int(self.card_str.split(\":\")[0].split(\" \")[1])\n",
    "    \n",
    "    @cached_property\n",
    "    def winning_numbers(self):\n",
    "        winning_numbers = self.card_str.split(\" | \")[0].split(\": \")[1].split()\n",
    "        winning_numbers = [int(w) for w in winning_numbers]\n",
    "        winning_numbers.sort()\n",
    "        return winning_numbers\n",
    "    \n",
    "    @cached_property\n",
    "    def my_numbers(self):\n",
    "        my_numbers = self.card_str.split(\" | \")[1].split()\n",
    "        my_numbers = [int(w) for w in my_numbers]\n",
    "        my_numbers.sort()\n",
    "        return my_numbers\n",
    "    \n",
    "    @property\n",
    "    def find_matches(self):\n",
    "        winning_idx = 0\n",
    "        my_idx = 0\n",
    "        matches = []\n",
    "        while winning_idx < len(self.winning_numbers) and my_idx < len(self.my_numbers):\n",
    "            winning_num = self.winning_numbers[winning_idx]\n",
    "            my_num = self.my_numbers[my_idx]\n",
    "            if winning_num < my_num:\n",
    "                winning_idx += 1\n",
    "            elif my_num < winning_num:\n",
    "                my_idx += 1\n",
    "            else:\n",
    "                matches.append(winning_num)\n",
    "                winning_idx += 1\n",
    "                my_idx += 1\n",
    "        return matches\n",
    "    \n",
    "    @property\n",
    "    def tickets_won(self):\n",
    "        num_matches = len(self.find_matches)\n",
    "        return [self.card_id + 1 + ii for ii in range(num_matches)]\n",
    "        \n",
    "class PileB:\n",
    "    def __init__(self, file_path):\n",
    "        self.file_path = file_path\n",
    "        \n",
    "    @property\n",
    "    def winnings(self):\n",
    "        winnings_dict = {}\n",
    "        with open(self.file_path, 'r') as f:\n",
    "            for line in f:\n",
    "                line = line.rstrip('\\n')\n",
    "                print(line)\n",
    "                card = CardB(line)\n",
    "                winnings_dict[card.card_id] = card.tickets_won\n",
    "        return winnings_dict\n",
    "    \n",
    "    def propogate_winnings(self, ticket_id):\n",
    "        total_dict = {}\n",
    "        for ticket in self.winnings[ticket_id]:\n",
    "            total_dict[ticket] = total_dict.get(ticket,0) + 1\n",
    "            extra_dict = self.propogate_winnings(ticket)\n",
    "            for key, value in extra_dict.items():\n",
    "                total_dict[key] = total_dict.get(key, 0) + value\n",
    "        return total_dict\n",
    "    \n",
    "    def value(self):\n",
    "        cumsum = 0\n",
    "        for ticket in self.winnings.keys():\n",
    "            prop = self.propogate_winnings(ticket)\n",
    "            cumsum += sum(prop.values()) + 1\n",
    "        return cumsum\n",
    "        \n",
    "            \n",
    "        "
   ]
  },
  {
   "cell_type": "code",
   "execution_count": 88,
   "id": "b4e52c8e-7863-4e9d-a11a-292fcce10dab",
   "metadata": {},
   "outputs": [
    {
     "ename": "ValueError",
     "evalue": "invalid literal for int() with base 10: ''",
     "output_type": "error",
     "traceback": [
      "\u001b[0;31m---------------------------------------------------------------------------\u001b[0m",
      "\u001b[0;31mValueError\u001b[0m                                Traceback (most recent call last)",
      "\u001b[0;32m/var/folders/k2/w58wxrdn4wg86hyj9p_f8c5c0000gn/T/ipykernel_67625/506630130.py\u001b[0m in \u001b[0;36m<module>\u001b[0;34m\u001b[0m\n\u001b[1;32m      1\u001b[0m \u001b[0mcard_b\u001b[0m \u001b[0;34m=\u001b[0m \u001b[0mCardB\u001b[0m\u001b[0;34m(\u001b[0m\u001b[0;34m\"Card   1: 87 75 80 68 71 57 58 59 70 48 | 56 67 75 76 31 49 48 22 43 68 98 86 70 91 27 46  4 87 72 37 71 58 29 79 80\"\u001b[0m\u001b[0;34m)\u001b[0m\u001b[0;34m\u001b[0m\u001b[0;34m\u001b[0m\u001b[0m\n\u001b[0;32m----> 2\u001b[0;31m \u001b[0mcard_b\u001b[0m\u001b[0;34m.\u001b[0m\u001b[0mcard_id\u001b[0m\u001b[0;34m\u001b[0m\u001b[0;34m\u001b[0m\u001b[0m\n\u001b[0m",
      "\u001b[0;32m/var/folders/k2/w58wxrdn4wg86hyj9p_f8c5c0000gn/T/ipykernel_67625/3061260604.py\u001b[0m in \u001b[0;36mcard_id\u001b[0;34m(self)\u001b[0m\n\u001b[1;32m      5\u001b[0m     \u001b[0;34m@\u001b[0m\u001b[0mproperty\u001b[0m\u001b[0;34m\u001b[0m\u001b[0;34m\u001b[0m\u001b[0m\n\u001b[1;32m      6\u001b[0m     \u001b[0;32mdef\u001b[0m \u001b[0mcard_id\u001b[0m\u001b[0;34m(\u001b[0m\u001b[0mself\u001b[0m\u001b[0;34m)\u001b[0m\u001b[0;34m:\u001b[0m\u001b[0;34m\u001b[0m\u001b[0;34m\u001b[0m\u001b[0m\n\u001b[0;32m----> 7\u001b[0;31m         \u001b[0;32mreturn\u001b[0m \u001b[0mint\u001b[0m\u001b[0;34m(\u001b[0m\u001b[0mself\u001b[0m\u001b[0;34m.\u001b[0m\u001b[0mcard_str\u001b[0m\u001b[0;34m.\u001b[0m\u001b[0msplit\u001b[0m\u001b[0;34m(\u001b[0m\u001b[0;34m\":\"\u001b[0m\u001b[0;34m)\u001b[0m\u001b[0;34m[\u001b[0m\u001b[0;36m0\u001b[0m\u001b[0;34m]\u001b[0m\u001b[0;34m.\u001b[0m\u001b[0msplit\u001b[0m\u001b[0;34m(\u001b[0m\u001b[0;34m\" \"\u001b[0m\u001b[0;34m)\u001b[0m\u001b[0;34m[\u001b[0m\u001b[0;36m1\u001b[0m\u001b[0;34m]\u001b[0m\u001b[0;34m)\u001b[0m\u001b[0;34m\u001b[0m\u001b[0;34m\u001b[0m\u001b[0m\n\u001b[0m\u001b[1;32m      8\u001b[0m \u001b[0;34m\u001b[0m\u001b[0m\n\u001b[1;32m      9\u001b[0m     \u001b[0;34m@\u001b[0m\u001b[0mcached_property\u001b[0m\u001b[0;34m\u001b[0m\u001b[0;34m\u001b[0m\u001b[0m\n",
      "\u001b[0;31mValueError\u001b[0m: invalid literal for int() with base 10: ''"
     ]
    }
   ],
   "source": [
    "card_b = CardB(\"Card   1: 87 75 80 68 71 57 58 59 70 48 | 56 67 75 76 31 49 48 22 43 68 98 86 70 91 27 46  4 87 72 37 71 58 29 79 80\")\n",
    "card_b.card_id"
   ]
  },
  {
   "cell_type": "code",
   "execution_count": 84,
   "id": "8d250994-e0cb-4e6d-b88f-78111ca57258",
   "metadata": {},
   "outputs": [],
   "source": [
    "pile_b = PileB('./day4_input.txt')"
   ]
  },
  {
   "cell_type": "code",
   "execution_count": 85,
   "id": "33dec35c-fba6-4602-973b-f65cc52f7d39",
   "metadata": {},
   "outputs": [
    {
     "name": "stdout",
     "output_type": "stream",
     "text": [
      "Card   1: 87 75 80 68 71 57 58 59 70 48 | 56 67 75 76 31 49 48 22 43 68 98 86 70 91 27 46  4 87 72 37 71 58 29 79 80\n"
     ]
    },
    {
     "ename": "ValueError",
     "evalue": "invalid literal for int() with base 10: ''",
     "output_type": "error",
     "traceback": [
      "\u001b[0;31m---------------------------------------------------------------------------\u001b[0m",
      "\u001b[0;31mValueError\u001b[0m                                Traceback (most recent call last)",
      "\u001b[0;32m/var/folders/k2/w58wxrdn4wg86hyj9p_f8c5c0000gn/T/ipykernel_67625/2854116924.py\u001b[0m in \u001b[0;36m<module>\u001b[0;34m\u001b[0m\n\u001b[0;32m----> 1\u001b[0;31m \u001b[0mpile_b\u001b[0m\u001b[0;34m.\u001b[0m\u001b[0mwinnings\u001b[0m\u001b[0;34m\u001b[0m\u001b[0;34m\u001b[0m\u001b[0m\n\u001b[0m",
      "\u001b[0;32m/var/folders/k2/w58wxrdn4wg86hyj9p_f8c5c0000gn/T/ipykernel_67625/3061260604.py\u001b[0m in \u001b[0;36mwinnings\u001b[0;34m(self)\u001b[0m\n\u001b[1;32m     56\u001b[0m                 \u001b[0mprint\u001b[0m\u001b[0;34m(\u001b[0m\u001b[0mline\u001b[0m\u001b[0;34m)\u001b[0m\u001b[0;34m\u001b[0m\u001b[0;34m\u001b[0m\u001b[0m\n\u001b[1;32m     57\u001b[0m                 \u001b[0mcard\u001b[0m \u001b[0;34m=\u001b[0m \u001b[0mCardB\u001b[0m\u001b[0;34m(\u001b[0m\u001b[0mline\u001b[0m\u001b[0;34m)\u001b[0m\u001b[0;34m\u001b[0m\u001b[0;34m\u001b[0m\u001b[0m\n\u001b[0;32m---> 58\u001b[0;31m                 \u001b[0mwinnings_dict\u001b[0m\u001b[0;34m[\u001b[0m\u001b[0mcard\u001b[0m\u001b[0;34m.\u001b[0m\u001b[0mcard_id\u001b[0m\u001b[0;34m]\u001b[0m \u001b[0;34m=\u001b[0m \u001b[0mcard\u001b[0m\u001b[0;34m.\u001b[0m\u001b[0mtickets_won\u001b[0m\u001b[0;34m\u001b[0m\u001b[0;34m\u001b[0m\u001b[0m\n\u001b[0m\u001b[1;32m     59\u001b[0m         \u001b[0;32mreturn\u001b[0m \u001b[0mwinnings_dict\u001b[0m\u001b[0;34m\u001b[0m\u001b[0;34m\u001b[0m\u001b[0m\n\u001b[1;32m     60\u001b[0m \u001b[0;34m\u001b[0m\u001b[0m\n",
      "\u001b[0;32m/var/folders/k2/w58wxrdn4wg86hyj9p_f8c5c0000gn/T/ipykernel_67625/3061260604.py\u001b[0m in \u001b[0;36mtickets_won\u001b[0;34m(self)\u001b[0m\n\u001b[1;32m     42\u001b[0m     \u001b[0;32mdef\u001b[0m \u001b[0mtickets_won\u001b[0m\u001b[0;34m(\u001b[0m\u001b[0mself\u001b[0m\u001b[0;34m)\u001b[0m\u001b[0;34m:\u001b[0m\u001b[0;34m\u001b[0m\u001b[0;34m\u001b[0m\u001b[0m\n\u001b[1;32m     43\u001b[0m         \u001b[0mnum_matches\u001b[0m \u001b[0;34m=\u001b[0m \u001b[0mlen\u001b[0m\u001b[0;34m(\u001b[0m\u001b[0mself\u001b[0m\u001b[0;34m.\u001b[0m\u001b[0mfind_matches\u001b[0m\u001b[0;34m)\u001b[0m\u001b[0;34m\u001b[0m\u001b[0;34m\u001b[0m\u001b[0m\n\u001b[0;32m---> 44\u001b[0;31m         \u001b[0;32mreturn\u001b[0m \u001b[0;34m[\u001b[0m\u001b[0mself\u001b[0m\u001b[0;34m.\u001b[0m\u001b[0mcard_id\u001b[0m \u001b[0;34m+\u001b[0m \u001b[0;36m1\u001b[0m \u001b[0;34m+\u001b[0m \u001b[0mii\u001b[0m \u001b[0;32mfor\u001b[0m \u001b[0mii\u001b[0m \u001b[0;32min\u001b[0m \u001b[0mrange\u001b[0m\u001b[0;34m(\u001b[0m\u001b[0mnum_matches\u001b[0m\u001b[0;34m)\u001b[0m\u001b[0;34m]\u001b[0m\u001b[0;34m\u001b[0m\u001b[0;34m\u001b[0m\u001b[0m\n\u001b[0m\u001b[1;32m     45\u001b[0m \u001b[0;34m\u001b[0m\u001b[0m\n\u001b[1;32m     46\u001b[0m \u001b[0;32mclass\u001b[0m \u001b[0mPileB\u001b[0m\u001b[0;34m:\u001b[0m\u001b[0;34m\u001b[0m\u001b[0;34m\u001b[0m\u001b[0m\n",
      "\u001b[0;32m/var/folders/k2/w58wxrdn4wg86hyj9p_f8c5c0000gn/T/ipykernel_67625/3061260604.py\u001b[0m in \u001b[0;36m<listcomp>\u001b[0;34m(.0)\u001b[0m\n\u001b[1;32m     42\u001b[0m     \u001b[0;32mdef\u001b[0m \u001b[0mtickets_won\u001b[0m\u001b[0;34m(\u001b[0m\u001b[0mself\u001b[0m\u001b[0;34m)\u001b[0m\u001b[0;34m:\u001b[0m\u001b[0;34m\u001b[0m\u001b[0;34m\u001b[0m\u001b[0m\n\u001b[1;32m     43\u001b[0m         \u001b[0mnum_matches\u001b[0m \u001b[0;34m=\u001b[0m \u001b[0mlen\u001b[0m\u001b[0;34m(\u001b[0m\u001b[0mself\u001b[0m\u001b[0;34m.\u001b[0m\u001b[0mfind_matches\u001b[0m\u001b[0;34m)\u001b[0m\u001b[0;34m\u001b[0m\u001b[0;34m\u001b[0m\u001b[0m\n\u001b[0;32m---> 44\u001b[0;31m         \u001b[0;32mreturn\u001b[0m \u001b[0;34m[\u001b[0m\u001b[0mself\u001b[0m\u001b[0;34m.\u001b[0m\u001b[0mcard_id\u001b[0m \u001b[0;34m+\u001b[0m \u001b[0;36m1\u001b[0m \u001b[0;34m+\u001b[0m \u001b[0mii\u001b[0m \u001b[0;32mfor\u001b[0m \u001b[0mii\u001b[0m \u001b[0;32min\u001b[0m \u001b[0mrange\u001b[0m\u001b[0;34m(\u001b[0m\u001b[0mnum_matches\u001b[0m\u001b[0;34m)\u001b[0m\u001b[0;34m]\u001b[0m\u001b[0;34m\u001b[0m\u001b[0;34m\u001b[0m\u001b[0m\n\u001b[0m\u001b[1;32m     45\u001b[0m \u001b[0;34m\u001b[0m\u001b[0m\n\u001b[1;32m     46\u001b[0m \u001b[0;32mclass\u001b[0m \u001b[0mPileB\u001b[0m\u001b[0;34m:\u001b[0m\u001b[0;34m\u001b[0m\u001b[0;34m\u001b[0m\u001b[0m\n",
      "\u001b[0;32m/var/folders/k2/w58wxrdn4wg86hyj9p_f8c5c0000gn/T/ipykernel_67625/3061260604.py\u001b[0m in \u001b[0;36mcard_id\u001b[0;34m(self)\u001b[0m\n\u001b[1;32m      5\u001b[0m     \u001b[0;34m@\u001b[0m\u001b[0mproperty\u001b[0m\u001b[0;34m\u001b[0m\u001b[0;34m\u001b[0m\u001b[0m\n\u001b[1;32m      6\u001b[0m     \u001b[0;32mdef\u001b[0m \u001b[0mcard_id\u001b[0m\u001b[0;34m(\u001b[0m\u001b[0mself\u001b[0m\u001b[0;34m)\u001b[0m\u001b[0;34m:\u001b[0m\u001b[0;34m\u001b[0m\u001b[0;34m\u001b[0m\u001b[0m\n\u001b[0;32m----> 7\u001b[0;31m         \u001b[0;32mreturn\u001b[0m \u001b[0mint\u001b[0m\u001b[0;34m(\u001b[0m\u001b[0mself\u001b[0m\u001b[0;34m.\u001b[0m\u001b[0mcard_str\u001b[0m\u001b[0;34m.\u001b[0m\u001b[0msplit\u001b[0m\u001b[0;34m(\u001b[0m\u001b[0;34m\":\"\u001b[0m\u001b[0;34m)\u001b[0m\u001b[0;34m[\u001b[0m\u001b[0;36m0\u001b[0m\u001b[0;34m]\u001b[0m\u001b[0;34m.\u001b[0m\u001b[0msplit\u001b[0m\u001b[0;34m(\u001b[0m\u001b[0;34m\" \"\u001b[0m\u001b[0;34m)\u001b[0m\u001b[0;34m[\u001b[0m\u001b[0;36m1\u001b[0m\u001b[0;34m]\u001b[0m\u001b[0;34m)\u001b[0m\u001b[0;34m\u001b[0m\u001b[0;34m\u001b[0m\u001b[0m\n\u001b[0m\u001b[1;32m      8\u001b[0m \u001b[0;34m\u001b[0m\u001b[0m\n\u001b[1;32m      9\u001b[0m     \u001b[0;34m@\u001b[0m\u001b[0mcached_property\u001b[0m\u001b[0;34m\u001b[0m\u001b[0;34m\u001b[0m\u001b[0m\n",
      "\u001b[0;31mValueError\u001b[0m: invalid literal for int() with base 10: ''"
     ]
    }
   ],
   "source": [
    "pile_b.winnings"
   ]
  },
  {
   "cell_type": "code",
   "execution_count": 70,
   "id": "7db16153-543d-47c4-a9fd-1042d4a44054",
   "metadata": {},
   "outputs": [
    {
     "ename": "ValueError",
     "evalue": "invalid literal for int() with base 10: ''",
     "output_type": "error",
     "traceback": [
      "\u001b[0;31m---------------------------------------------------------------------------\u001b[0m",
      "\u001b[0;31mValueError\u001b[0m                                Traceback (most recent call last)",
      "\u001b[0;32m/var/folders/k2/w58wxrdn4wg86hyj9p_f8c5c0000gn/T/ipykernel_67625/265296153.py\u001b[0m in \u001b[0;36m<module>\u001b[0;34m\u001b[0m\n\u001b[0;32m----> 1\u001b[0;31m \u001b[0mpile_b\u001b[0m\u001b[0;34m.\u001b[0m\u001b[0mpropogate_winnings\u001b[0m\u001b[0;34m(\u001b[0m\u001b[0;36m1\u001b[0m\u001b[0;34m)\u001b[0m\u001b[0;34m\u001b[0m\u001b[0;34m\u001b[0m\u001b[0m\n\u001b[0m",
      "\u001b[0;32m/var/folders/k2/w58wxrdn4wg86hyj9p_f8c5c0000gn/T/ipykernel_67625/360887314.py\u001b[0m in \u001b[0;36mpropogate_winnings\u001b[0;34m(self, ticket_id)\u001b[0m\n\u001b[1;32m     60\u001b[0m     \u001b[0;32mdef\u001b[0m \u001b[0mpropogate_winnings\u001b[0m\u001b[0;34m(\u001b[0m\u001b[0mself\u001b[0m\u001b[0;34m,\u001b[0m \u001b[0mticket_id\u001b[0m\u001b[0;34m)\u001b[0m\u001b[0;34m:\u001b[0m\u001b[0;34m\u001b[0m\u001b[0;34m\u001b[0m\u001b[0m\n\u001b[1;32m     61\u001b[0m         \u001b[0mtotal_dict\u001b[0m \u001b[0;34m=\u001b[0m \u001b[0;34m{\u001b[0m\u001b[0;34m}\u001b[0m\u001b[0;34m\u001b[0m\u001b[0;34m\u001b[0m\u001b[0m\n\u001b[0;32m---> 62\u001b[0;31m         \u001b[0;32mfor\u001b[0m \u001b[0mticket\u001b[0m \u001b[0;32min\u001b[0m \u001b[0mself\u001b[0m\u001b[0;34m.\u001b[0m\u001b[0mwinnings\u001b[0m\u001b[0;34m[\u001b[0m\u001b[0mticket_id\u001b[0m\u001b[0;34m]\u001b[0m\u001b[0;34m:\u001b[0m\u001b[0;34m\u001b[0m\u001b[0;34m\u001b[0m\u001b[0m\n\u001b[0m\u001b[1;32m     63\u001b[0m             \u001b[0mtotal_dict\u001b[0m\u001b[0;34m[\u001b[0m\u001b[0mticket\u001b[0m\u001b[0;34m]\u001b[0m \u001b[0;34m=\u001b[0m \u001b[0mtotal_dict\u001b[0m\u001b[0;34m.\u001b[0m\u001b[0mget\u001b[0m\u001b[0;34m(\u001b[0m\u001b[0mticket\u001b[0m\u001b[0;34m,\u001b[0m\u001b[0;36m0\u001b[0m\u001b[0;34m)\u001b[0m \u001b[0;34m+\u001b[0m \u001b[0;36m1\u001b[0m\u001b[0;34m\u001b[0m\u001b[0;34m\u001b[0m\u001b[0m\n\u001b[1;32m     64\u001b[0m             \u001b[0mextra_dict\u001b[0m \u001b[0;34m=\u001b[0m \u001b[0mself\u001b[0m\u001b[0;34m.\u001b[0m\u001b[0mpropogate_winnings\u001b[0m\u001b[0;34m(\u001b[0m\u001b[0mticket\u001b[0m\u001b[0;34m)\u001b[0m\u001b[0;34m\u001b[0m\u001b[0;34m\u001b[0m\u001b[0m\n",
      "\u001b[0;32m/var/folders/k2/w58wxrdn4wg86hyj9p_f8c5c0000gn/T/ipykernel_67625/360887314.py\u001b[0m in \u001b[0;36mwinnings\u001b[0;34m(self)\u001b[0m\n\u001b[1;32m     55\u001b[0m                 \u001b[0mline\u001b[0m \u001b[0;34m=\u001b[0m \u001b[0mline\u001b[0m\u001b[0;34m.\u001b[0m\u001b[0mrstrip\u001b[0m\u001b[0;34m(\u001b[0m\u001b[0;34m'\\n'\u001b[0m\u001b[0;34m)\u001b[0m\u001b[0;34m\u001b[0m\u001b[0;34m\u001b[0m\u001b[0m\n\u001b[1;32m     56\u001b[0m                 \u001b[0mcard\u001b[0m \u001b[0;34m=\u001b[0m \u001b[0mCardB\u001b[0m\u001b[0;34m(\u001b[0m\u001b[0mline\u001b[0m\u001b[0;34m)\u001b[0m\u001b[0;34m\u001b[0m\u001b[0;34m\u001b[0m\u001b[0m\n\u001b[0;32m---> 57\u001b[0;31m                 \u001b[0mwinnings_dict\u001b[0m\u001b[0;34m[\u001b[0m\u001b[0mcard\u001b[0m\u001b[0;34m.\u001b[0m\u001b[0mcard_id\u001b[0m\u001b[0;34m]\u001b[0m \u001b[0;34m=\u001b[0m \u001b[0mcard\u001b[0m\u001b[0;34m.\u001b[0m\u001b[0mtickets_won\u001b[0m\u001b[0;34m\u001b[0m\u001b[0;34m\u001b[0m\u001b[0m\n\u001b[0m\u001b[1;32m     58\u001b[0m         \u001b[0;32mreturn\u001b[0m \u001b[0mwinnings_dict\u001b[0m\u001b[0;34m\u001b[0m\u001b[0;34m\u001b[0m\u001b[0m\n\u001b[1;32m     59\u001b[0m \u001b[0;34m\u001b[0m\u001b[0m\n",
      "\u001b[0;32m/var/folders/k2/w58wxrdn4wg86hyj9p_f8c5c0000gn/T/ipykernel_67625/360887314.py\u001b[0m in \u001b[0;36mtickets_won\u001b[0;34m(self)\u001b[0m\n\u001b[1;32m     42\u001b[0m     \u001b[0;32mdef\u001b[0m \u001b[0mtickets_won\u001b[0m\u001b[0;34m(\u001b[0m\u001b[0mself\u001b[0m\u001b[0;34m)\u001b[0m\u001b[0;34m:\u001b[0m\u001b[0;34m\u001b[0m\u001b[0;34m\u001b[0m\u001b[0m\n\u001b[1;32m     43\u001b[0m         \u001b[0mnum_matches\u001b[0m \u001b[0;34m=\u001b[0m \u001b[0mlen\u001b[0m\u001b[0;34m(\u001b[0m\u001b[0mself\u001b[0m\u001b[0;34m.\u001b[0m\u001b[0mfind_matches\u001b[0m\u001b[0;34m)\u001b[0m\u001b[0;34m\u001b[0m\u001b[0;34m\u001b[0m\u001b[0m\n\u001b[0;32m---> 44\u001b[0;31m         \u001b[0;32mreturn\u001b[0m \u001b[0;34m[\u001b[0m\u001b[0mself\u001b[0m\u001b[0;34m.\u001b[0m\u001b[0mcard_id\u001b[0m \u001b[0;34m+\u001b[0m \u001b[0;36m1\u001b[0m \u001b[0;34m+\u001b[0m \u001b[0mii\u001b[0m \u001b[0;32mfor\u001b[0m \u001b[0mii\u001b[0m \u001b[0;32min\u001b[0m \u001b[0mrange\u001b[0m\u001b[0;34m(\u001b[0m\u001b[0mnum_matches\u001b[0m\u001b[0;34m)\u001b[0m\u001b[0;34m]\u001b[0m\u001b[0;34m\u001b[0m\u001b[0;34m\u001b[0m\u001b[0m\n\u001b[0m\u001b[1;32m     45\u001b[0m \u001b[0;34m\u001b[0m\u001b[0m\n\u001b[1;32m     46\u001b[0m \u001b[0;32mclass\u001b[0m \u001b[0mPileB\u001b[0m\u001b[0;34m:\u001b[0m\u001b[0;34m\u001b[0m\u001b[0;34m\u001b[0m\u001b[0m\n",
      "\u001b[0;32m/var/folders/k2/w58wxrdn4wg86hyj9p_f8c5c0000gn/T/ipykernel_67625/360887314.py\u001b[0m in \u001b[0;36m<listcomp>\u001b[0;34m(.0)\u001b[0m\n\u001b[1;32m     42\u001b[0m     \u001b[0;32mdef\u001b[0m \u001b[0mtickets_won\u001b[0m\u001b[0;34m(\u001b[0m\u001b[0mself\u001b[0m\u001b[0;34m)\u001b[0m\u001b[0;34m:\u001b[0m\u001b[0;34m\u001b[0m\u001b[0;34m\u001b[0m\u001b[0m\n\u001b[1;32m     43\u001b[0m         \u001b[0mnum_matches\u001b[0m \u001b[0;34m=\u001b[0m \u001b[0mlen\u001b[0m\u001b[0;34m(\u001b[0m\u001b[0mself\u001b[0m\u001b[0;34m.\u001b[0m\u001b[0mfind_matches\u001b[0m\u001b[0;34m)\u001b[0m\u001b[0;34m\u001b[0m\u001b[0;34m\u001b[0m\u001b[0m\n\u001b[0;32m---> 44\u001b[0;31m         \u001b[0;32mreturn\u001b[0m \u001b[0;34m[\u001b[0m\u001b[0mself\u001b[0m\u001b[0;34m.\u001b[0m\u001b[0mcard_id\u001b[0m \u001b[0;34m+\u001b[0m \u001b[0;36m1\u001b[0m \u001b[0;34m+\u001b[0m \u001b[0mii\u001b[0m \u001b[0;32mfor\u001b[0m \u001b[0mii\u001b[0m \u001b[0;32min\u001b[0m \u001b[0mrange\u001b[0m\u001b[0;34m(\u001b[0m\u001b[0mnum_matches\u001b[0m\u001b[0;34m)\u001b[0m\u001b[0;34m]\u001b[0m\u001b[0;34m\u001b[0m\u001b[0;34m\u001b[0m\u001b[0m\n\u001b[0m\u001b[1;32m     45\u001b[0m \u001b[0;34m\u001b[0m\u001b[0m\n\u001b[1;32m     46\u001b[0m \u001b[0;32mclass\u001b[0m \u001b[0mPileB\u001b[0m\u001b[0;34m:\u001b[0m\u001b[0;34m\u001b[0m\u001b[0;34m\u001b[0m\u001b[0m\n",
      "\u001b[0;32m/var/folders/k2/w58wxrdn4wg86hyj9p_f8c5c0000gn/T/ipykernel_67625/360887314.py\u001b[0m in \u001b[0;36mcard_id\u001b[0;34m(self)\u001b[0m\n\u001b[1;32m      5\u001b[0m     \u001b[0;34m@\u001b[0m\u001b[0mproperty\u001b[0m\u001b[0;34m\u001b[0m\u001b[0;34m\u001b[0m\u001b[0m\n\u001b[1;32m      6\u001b[0m     \u001b[0;32mdef\u001b[0m \u001b[0mcard_id\u001b[0m\u001b[0;34m(\u001b[0m\u001b[0mself\u001b[0m\u001b[0;34m)\u001b[0m\u001b[0;34m:\u001b[0m\u001b[0;34m\u001b[0m\u001b[0;34m\u001b[0m\u001b[0m\n\u001b[0;32m----> 7\u001b[0;31m         \u001b[0;32mreturn\u001b[0m \u001b[0mint\u001b[0m\u001b[0;34m(\u001b[0m\u001b[0mself\u001b[0m\u001b[0;34m.\u001b[0m\u001b[0mcard_str\u001b[0m\u001b[0;34m.\u001b[0m\u001b[0msplit\u001b[0m\u001b[0;34m(\u001b[0m\u001b[0;34m\":\"\u001b[0m\u001b[0;34m)\u001b[0m\u001b[0;34m[\u001b[0m\u001b[0;36m0\u001b[0m\u001b[0;34m]\u001b[0m\u001b[0;34m.\u001b[0m\u001b[0msplit\u001b[0m\u001b[0;34m(\u001b[0m\u001b[0;34m\" \"\u001b[0m\u001b[0;34m)\u001b[0m\u001b[0;34m[\u001b[0m\u001b[0;36m1\u001b[0m\u001b[0;34m]\u001b[0m\u001b[0;34m)\u001b[0m\u001b[0;34m\u001b[0m\u001b[0;34m\u001b[0m\u001b[0m\n\u001b[0m\u001b[1;32m      8\u001b[0m \u001b[0;34m\u001b[0m\u001b[0m\n\u001b[1;32m      9\u001b[0m     \u001b[0;34m@\u001b[0m\u001b[0mcached_property\u001b[0m\u001b[0;34m\u001b[0m\u001b[0;34m\u001b[0m\u001b[0m\n",
      "\u001b[0;31mValueError\u001b[0m: invalid literal for int() with base 10: ''"
     ]
    }
   ],
   "source": [
    "pile_b.propogate_winnings(1)"
   ]
  },
  {
   "cell_type": "code",
   "execution_count": 67,
   "id": "110d65af-850c-4001-9a22-aabb202a0b45",
   "metadata": {},
   "outputs": [
    {
     "data": {
      "text/plain": [
       "30"
      ]
     },
     "execution_count": 67,
     "metadata": {},
     "output_type": "execute_result"
    }
   ],
   "source": [
    "pile_b.value()"
   ]
  },
  {
   "cell_type": "code",
   "execution_count": null,
   "id": "56644063-a3d3-4f0a-80f8-68ea4980638a",
   "metadata": {},
   "outputs": [],
   "source": []
  }
 ],
 "metadata": {
  "kernelspec": {
   "display_name": "Python 3 (ipykernel)",
   "language": "python",
   "name": "python3"
  },
  "language_info": {
   "codemirror_mode": {
    "name": "ipython",
    "version": 3
   },
   "file_extension": ".py",
   "mimetype": "text/x-python",
   "name": "python",
   "nbconvert_exporter": "python",
   "pygments_lexer": "ipython3",
   "version": "3.9.7"
  }
 },
 "nbformat": 4,
 "nbformat_minor": 5
}
