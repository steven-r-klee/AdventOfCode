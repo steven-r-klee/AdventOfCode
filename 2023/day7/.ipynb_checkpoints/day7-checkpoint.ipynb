{
 "cells": [
  {
   "cell_type": "code",
   "execution_count": 2,
   "id": "3647af98-2325-437c-b341-13ab231b905c",
   "metadata": {},
   "outputs": [],
   "source": [
    "import re\n",
    "import numpy as np\n",
    "from functools import cached_property\n",
    "\n",
    "day_str = \"day7\"\n",
    "input_path_test = f'./{day_str}_input_test.txt'\n",
    "# input_path_test_b = f'./{day_str}_input_test_b.txt'\n",
    "input_path = f'./{day_str}_input.txt'"
   ]
  },
  {
   "cell_type": "code",
   "execution_count": 3,
   "id": "b0925a13-3dfc-4ee2-9022-55d0bb77844a",
   "metadata": {},
   "outputs": [],
   "source": [
    "class PartA:\n",
    "    def __init__(self, filepath):\n",
    "        self.filepath = filepath\n",
    "        \n",
    "    def load_and_parse_inputs(self):\n",
    "        hands_and_bids = {}\n",
    "        with open(self.filepath, 'r') as f:\n",
    "            for line in f:\n",
    "                line = line.rstrip(\"\\n\")\n",
    "                hand, bid = line.split()\n",
    "                bid = int(bid)\n",
    "                hands_and_bids[hand] = bid\n",
    "        return hands_and_bids\n",
    "    \n",
    "    def is_higher(self, card1, card2):\n",
    "        \"\"\"Is card1 higher than card2?\"\"\"\n",
    "        ranking_dict = {\n",
    "            \"2\": 2,\n",
    "            \"3\": 3,\n",
    "            \"4\": 4,\n",
    "            \"5\": 5,\n",
    "            \"6\": 6,\n",
    "            \"7\": 7,\n",
    "            \"8\": 8,\n",
    "            \"9\": 9,\n",
    "            \"T\": 10,\n",
    "            \"J\": 11,\n",
    "            \"Q\": 12,\n",
    "            \"K\": 13,\n",
    "            \"A\": 14\n",
    "        }\n",
    "        return ranking_dict[card1] > ranking_dict[card2]\n",
    "    \n",
    "    def value_hand(self, hand):\n",
    "        \"\"\"Assign a value to each hand so stronger hands have stronger values\"\"\"\n",
    "        hand_dict = {}\n",
    "        for card in hand:\n",
    "            hand_dict[card] = hand_dict.get(card, 0) + 1\n",
    "        \n",
    "        card_counts = list(hand_dict.values())\n",
    "        card_counts.sort(reverse=True)\n",
    "        \n",
    "        if card_counts == [5]:\n",
    "            return 10\n",
    "        if card_counts == [4, 1]:\n",
    "            return 9\n",
    "        if card_counts == [3, 2]:\n",
    "            return 8\n",
    "        if card_counts == [3, 1, 1]:\n",
    "            return 7\n",
    "        if card_counts == [2, 2, 1]:\n",
    "            return 6\n",
    "        if card_counts == [2, 1, 1, 1]:\n",
    "            return 5\n",
    "        if card_counts == [1, 1, 1, 1, 1]:\n",
    "            return 4\n",
    "        \n",
    "    def is_stronger_hand(self, hand_1, hand_2):\n",
    "        \"\"\"Is hand_1 stronger than hand_2?\"\"\"\n",
    "        if self.value_hand(hand_1) > self.value_hand(hand_2):\n",
    "            return True\n",
    "        if self.value_hand(hand_1) < self.value_hand(hand_2):\n",
    "            return False\n",
    "        else:\n",
    "            for ii, card_1 in enumerate(hand_1):\n",
    "                card_2 = hand_2[ii]\n",
    "                if self.is_higher(card_1, card_2):\n",
    "                    return True\n",
    "                if self.is_higher(card_2, card_1):\n",
    "                    return False\n",
    "        return True\n",
    "                \n",
    "    def order_hands(self):\n",
    "        ordered_list = []\n",
    "        hands_and_bids = self.load_and_parse_inputs()\n",
    "        for new_hand in hands_and_bids.keys():\n",
    "            if len(ordered_list) == 0:\n",
    "                ordered_list = [new_hand]\n",
    "            else:\n",
    "                inserted = False\n",
    "                new_ordered_list = []\n",
    "                for hand in ordered_list:\n",
    "                    if (inserted == False) and self.is_stronger_hand(new_hand, hand):\n",
    "                        new_ordered_list.append(new_hand)\n",
    "                        inserted = True\n",
    "                    new_ordered_list.append(hand)\n",
    "                if inserted == False:\n",
    "                    new_ordered_list.append(new_hand)\n",
    "                ordered_list = new_ordered_list\n",
    "        ordered_list.reverse()\n",
    "                \n",
    "        return ordered_list\n",
    "    \n",
    "    def total_winnings(self):\n",
    "        ordered_hands = self.order_hands()\n",
    "        hands_and_bids = self.load_and_parse_inputs()\n",
    "        cumsum = 0\n",
    "        for ii, hand in enumerate(ordered_hands):\n",
    "            rank = ii + 1\n",
    "            value = rank * hands_and_bids[hand]\n",
    "            cumsum += value\n",
    "        return cumsum\n",
    "            \n",
    "        "
   ]
  },
  {
   "cell_type": "code",
   "execution_count": 7,
   "id": "b88beeba-de10-4974-9084-17ffd5318ab9",
   "metadata": {},
   "outputs": [],
   "source": [
    "a_test = PartA(input_path_test)\n",
    "assert a_test.total_winnings() == 6440"
   ]
  },
  {
   "cell_type": "code",
   "execution_count": 8,
   "id": "71285fd6-83c0-4f27-835a-b0df2f952ee6",
   "metadata": {
    "tags": []
   },
   "outputs": [],
   "source": [
    "a = PartA(input_path)"
   ]
  },
  {
   "cell_type": "code",
   "execution_count": 9,
   "id": "7553c3b9-f3ad-4eb8-893b-0a251b90d921",
   "metadata": {},
   "outputs": [
    {
     "data": {
      "text/plain": [
       "251545216"
      ]
     },
     "execution_count": 9,
     "metadata": {},
     "output_type": "execute_result"
    }
   ],
   "source": [
    "a.total_winnings()"
   ]
  },
  {
   "cell_type": "code",
   "execution_count": 17,
   "id": "1a357c8b-9545-4647-b825-a4050b8c9d02",
   "metadata": {},
   "outputs": [],
   "source": [
    "class PartB(PartA):   \n",
    "    def is_higher(self, card1, card2):\n",
    "        \"\"\"Is card1 higher than card2?\"\"\"\n",
    "        ranking_dict = {\n",
    "            \"2\": 2,\n",
    "            \"3\": 3,\n",
    "            \"4\": 4,\n",
    "            \"5\": 5,\n",
    "            \"6\": 6,\n",
    "            \"7\": 7,\n",
    "            \"8\": 8,\n",
    "            \"9\": 9,\n",
    "            \"T\": 10,\n",
    "            \"J\": 1,\n",
    "            \"Q\": 12,\n",
    "            \"K\": 13,\n",
    "            \"A\": 14\n",
    "        }\n",
    "        return ranking_dict[card1] > ranking_dict[card2]\n",
    "    \n",
    "    def value_hand(self, hand):\n",
    "        \"\"\"Assign a value to each hand so stronger hands have stronger values\"\"\"\n",
    "        hand_dict = {}\n",
    "        for card in hand:\n",
    "            hand_dict[card] = hand_dict.get(card, 0) + 1\n",
    "        \n",
    "        card_counts = list(hand_dict.values())\n",
    "        card_counts.sort(reverse=True)\n",
    "        \n",
    "        num_jokers = hand_dict.get(\"J\", 0)\n",
    "        # print(card_counts, num_jokers)\n",
    "        \n",
    "        if card_counts == [5]:\n",
    "            return 10\n",
    "        if card_counts == [4, 1]:\n",
    "            if num_jokers != 0: # it's 5 of a kind\n",
    "                return 10\n",
    "            return 9\n",
    "        if card_counts == [3, 2]:\n",
    "            if num_jokers != 0: # it's 5 of a kind\n",
    "                return 10\n",
    "            return 8\n",
    "        if card_counts == [3, 1, 1]:\n",
    "            if num_jokers != 0: # it's 4 of a kind\n",
    "                return 9\n",
    "            return 7\n",
    "        if card_counts == [2, 2, 1]:\n",
    "            if num_jokers == 1: # it's a full house\n",
    "                return 8\n",
    "            elif num_jokers == 2: # it's 4 of a kind\n",
    "                return 9\n",
    "            return 6\n",
    "        if card_counts == [2, 1, 1, 1]:\n",
    "            if num_jokers != 0: # it's 3 of a kind\n",
    "                return 7\n",
    "            return 5\n",
    "        if card_counts == [1, 1, 1, 1, 1]:\n",
    "            if num_jokers == 1: # it's a pair\n",
    "                return 5\n",
    "            return 4\n",
    "    \n",
    "    def total_winnings(self):\n",
    "        ordered_hands = self.order_hands()\n",
    "        hands_and_bids = self.load_and_parse_inputs()\n",
    "        cumsum = 0\n",
    "        for ii, hand in enumerate(ordered_hands):\n",
    "            rank = ii + 1\n",
    "            value = rank * hands_and_bids[hand]\n",
    "            cumsum += value\n",
    "        return cumsum\n",
    "            \n",
    "        "
   ]
  },
  {
   "cell_type": "code",
   "execution_count": 18,
   "id": "778b1f97-1c04-40c4-aa10-10b1291610f8",
   "metadata": {},
   "outputs": [],
   "source": [
    "b_test = PartB(input_path_test)\n",
    "assert b_test.total_winnings() == 5905"
   ]
  },
  {
   "cell_type": "code",
   "execution_count": 19,
   "id": "ae8dc2a6-8e70-49fe-8357-a222a6b5b721",
   "metadata": {},
   "outputs": [],
   "source": [
    "b = PartB(input_path)\n"
   ]
  },
  {
   "cell_type": "code",
   "execution_count": 20,
   "id": "3f08009a-d248-424b-8a2c-e6ddf0ae7c21",
   "metadata": {},
   "outputs": [
    {
     "data": {
      "text/plain": [
       "250384185"
      ]
     },
     "execution_count": 20,
     "metadata": {},
     "output_type": "execute_result"
    }
   ],
   "source": [
    "b.total_winnings()"
   ]
  },
  {
   "cell_type": "code",
   "execution_count": null,
   "id": "9ca8a945-db60-4585-8db1-af6ee20c527a",
   "metadata": {},
   "outputs": [],
   "source": []
  }
 ],
 "metadata": {
  "kernelspec": {
   "display_name": "Python 3 (ipykernel)",
   "language": "python",
   "name": "python3"
  },
  "language_info": {
   "codemirror_mode": {
    "name": "ipython",
    "version": 3
   },
   "file_extension": ".py",
   "mimetype": "text/x-python",
   "name": "python",
   "nbconvert_exporter": "python",
   "pygments_lexer": "ipython3",
   "version": "3.9.7"
  }
 },
 "nbformat": 4,
 "nbformat_minor": 5
}
