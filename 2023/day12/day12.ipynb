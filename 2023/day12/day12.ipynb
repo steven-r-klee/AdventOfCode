{
 "cells": [
  {
   "cell_type": "code",
   "execution_count": 33,
   "id": "d2e57d87-22a2-4411-965b-1f0dfb449c8f",
   "metadata": {},
   "outputs": [],
   "source": [
    "from functools import cached_property\n",
    "import re\n",
    "\n",
    "TODAY = 'day12'\n",
    "TEST_FILE_INPUT = f\"./test_input_{TODAY}.txt\"\n",
    "FILE_INPUT = f\"./input_{TODAY}.txt\"\n"
   ]
  },
  {
   "cell_type": "code",
   "execution_count": 218,
   "id": "e9905b48-ac9f-4048-8e35-046c45ef6210",
   "metadata": {},
   "outputs": [],
   "source": [
    "cached_values = {}\n",
    "def get_number_of_ways(line, positions, level = 0, verbose = False):\n",
    "    positions_tuple = tuple(positions)\n",
    "\n",
    "    num_positions_available = len([x for x in line if x != '.'])\n",
    "    num_empty_positions = len([x for x in line if x == '.'])\n",
    "    num_necessary_positions = len([x for x in line if x == '#'])\n",
    "    \n",
    "    if (line, tuple(positions)) in cached_values.keys():\n",
    "        num_ways = cached_values[(line, positions_tuple)]\n",
    "    \n",
    "    elif num_necessary_positions > sum(positions):\n",
    "        return 0\n",
    "\n",
    "    elif len(positions) == 0:\n",
    "        num_ways = 1\n",
    "        \n",
    "        \n",
    "    elif num_empty_positions == 0 and len(positions) == 1 and positions[0] == len(line):\n",
    "        num_ways = 1\n",
    "        \n",
    "    elif num_positions_available < sum(positions):\n",
    "        num_ways = 0\n",
    "    \n",
    "    elif line.startswith('.'):\n",
    "        num_ways = get_number_of_ways(line.lstrip('.'), positions, level)\n",
    "        cached_values[(line, positions_tuple)] = num_ways\n",
    "\n",
    "    elif line.startswith('#'):\n",
    "        # number of leading # or ? characters\n",
    "        first_empty_position = min([ii for ii, x in enumerate(line + '.') if x == '.'])\n",
    "\n",
    "        # if there isn't room for the number of springs\n",
    "        if (positions[0] > first_empty_position) or positions[0] > len(line): \n",
    "            num_ways = 0\n",
    "        elif (line[positions[0]] == '#'):\n",
    "            num_ways = 0\n",
    "        else:\n",
    "            num_ways = get_number_of_ways(line[positions[0] + 1:], positions[1:], level+1, verbose)\n",
    "            \n",
    "        cached_values[(line, positions_tuple)] = num_ways\n",
    "\n",
    "    else:\n",
    "        num_ways = get_number_of_ways(\"#\" + line[1:], positions, level+1, verbose) + get_number_of_ways(line[1:], positions, level+1, verbose)\n",
    "        \n",
    "    if verbose:\n",
    "        print(' ' * level, line, positions, '-->', num_ways)\n",
    "        \n",
    "    return num_ways\n",
    "\n",
    "\n",
    "        \n",
    "class PartA:\n",
    "    def __init__(self, file_path):\n",
    "        self.file_path = file_path        \n",
    "\n",
    "    def solve(self):\n",
    "        num_arrangements = 0\n",
    "        with open(self.file_path, 'r') as f:\n",
    "            for line in f:\n",
    "                line = line.rstrip('/n')\n",
    "                line, positions = line.split()\n",
    "                positions = [int(x) for x in positions.split(',')]\n",
    "                # print(line, positions)\n",
    "                num_ways = get_number_of_ways(line, positions, verbose=False)\n",
    "                # print(num_ways)\n",
    "                num_arrangements += num_ways\n",
    "        return num_arrangements"
   ]
  },
  {
   "cell_type": "code",
   "execution_count": 219,
   "id": "4532dc21-2246-4c4d-919f-14ce4a5e89ad",
   "metadata": {},
   "outputs": [],
   "source": [
    "a_test = PartA(TEST_FILE_INPUT)"
   ]
  },
  {
   "cell_type": "code",
   "execution_count": 220,
   "id": "f45cccb1-31f6-4a94-b036-0d124ca36b39",
   "metadata": {},
   "outputs": [],
   "source": [
    "assert a_test.solve() == 21# NUMER HERE"
   ]
  },
  {
   "cell_type": "code",
   "execution_count": 221,
   "id": "1f926841-c2f0-4e0e-b6d8-a9d8f3613792",
   "metadata": {},
   "outputs": [
    {
     "data": {
      "text/plain": [
       "7732"
      ]
     },
     "execution_count": 221,
     "metadata": {},
     "output_type": "execute_result"
    }
   ],
   "source": [
    "a = PartA(FILE_INPUT)\n",
    "a.solve()"
   ]
  },
  {
   "cell_type": "code",
   "execution_count": 226,
   "id": "1de89def-05dd-4c8e-9fa2-eb353df885e1",
   "metadata": {},
   "outputs": [],
   "source": [
    "class PartB(PartA):\n",
    "    def solve(self):\n",
    "        num_arrangements = 0\n",
    "        with open(self.file_path, 'r') as f:\n",
    "            for ii, line in enumerate(f):\n",
    "                line = line.rstrip('/n')\n",
    "                line, positions = line.split()\n",
    "                line = \"?\".join([line for _ in range(5)])\n",
    "                positions = ','.join([positions for _ in range(5)])\n",
    "                positions = [int(x) for x in positions.split(',')]\n",
    "                # print(ii, line)\n",
    "                num_ways = get_number_of_ways(line, positions, verbose=False)\n",
    "                num_arrangements += num_ways\n",
    "        return num_arrangements"
   ]
  },
  {
   "cell_type": "code",
   "execution_count": 227,
   "id": "c29186b8-a738-46d6-97cd-854b3923d4a2",
   "metadata": {},
   "outputs": [],
   "source": [
    "b_test = PartB(TEST_FILE_INPUT)"
   ]
  },
  {
   "cell_type": "code",
   "execution_count": 228,
   "id": "e840cd3d-2727-4076-a743-ca7cde24b0dc",
   "metadata": {},
   "outputs": [],
   "source": [
    "assert b_test.solve() == 525152# NUMBER HERE"
   ]
  },
  {
   "cell_type": "code",
   "execution_count": 229,
   "id": "fc53e11b-7fa7-4d01-8676-dd22561dc2fa",
   "metadata": {},
   "outputs": [
    {
     "data": {
      "text/plain": [
       "4500070301581"
      ]
     },
     "execution_count": 229,
     "metadata": {},
     "output_type": "execute_result"
    }
   ],
   "source": [
    "b = PartB(FILE_INPUT)\n",
    "b.solve()"
   ]
  },
  {
   "cell_type": "code",
   "execution_count": null,
   "id": "195779f1-aeba-4bcc-b401-c17351abaf9c",
   "metadata": {},
   "outputs": [],
   "source": []
  }
 ],
 "metadata": {
  "kernelspec": {
   "display_name": "Python 3 (ipykernel)",
   "language": "python",
   "name": "python3"
  },
  "language_info": {
   "codemirror_mode": {
    "name": "ipython",
    "version": 3
   },
   "file_extension": ".py",
   "mimetype": "text/x-python",
   "name": "python",
   "nbconvert_exporter": "python",
   "pygments_lexer": "ipython3",
   "version": "3.9.7"
  }
 },
 "nbformat": 4,
 "nbformat_minor": 5
}
