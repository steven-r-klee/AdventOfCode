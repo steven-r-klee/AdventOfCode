{
 "cells": [
  {
   "cell_type": "code",
   "execution_count": 2,
   "id": "d2e57d87-22a2-4411-965b-1f0dfb449c8f",
   "metadata": {},
   "outputs": [],
   "source": [
    "from functools import cached_property\n",
    "import re\n",
    "\n",
    "TODAY = 'day11'\n",
    "TEST_FILE_INPUT = f\"./test_input_{TODAY}.txt\"\n",
    "FILE_INPUT = f\"./input_{TODAY}.txt\"\n"
   ]
  },
  {
   "cell_type": "code",
   "execution_count": 43,
   "id": "e9905b48-ac9f-4048-8e35-046c45ef6210",
   "metadata": {},
   "outputs": [],
   "source": [
    "class PartA:\n",
    "    def __init__(self, file_path):\n",
    "        self.file_path = file_path\n",
    "        self.rows_with_galaxy = []\n",
    "        self.cols_with_galaxy = []\n",
    "        self.galaxy_positions_raw = []\n",
    "        self.galaxy_positions_updated = []\n",
    "        \n",
    "    @cached_property\n",
    "    def num_rows(self):\n",
    "        with open(self.file_path, 'r') as f:\n",
    "            return len(f.readlines())\n",
    "        \n",
    "    @cached_property\n",
    "    def num_cols(self):\n",
    "        with open(self.file_path, 'r') as f:\n",
    "            line = f.readline()\n",
    "            line = line.rstrip('\\n')\n",
    "            return len(line)\n",
    "        \n",
    "    def parse_input(self):\n",
    "        # positions of galaxies before accounting for empty rows/columns\n",
    "        with open(self.file_path, 'r') as f:\n",
    "            for row_idx, line in enumerate(f):\n",
    "                for col_idx, char in enumerate(line):\n",
    "                    if char == '#':\n",
    "                        self.galaxy_positions_raw.append((row_idx, col_idx))\n",
    "                        self.rows_with_galaxy.append(row_idx)\n",
    "                        self.cols_with_galaxy.append(col_idx)\n",
    "                        \n",
    "        self.rows_with_galaxy = list(set(self.rows_with_galaxy))\n",
    "        self.cols_with_galaxy = list(set(self.cols_with_galaxy))\n",
    "        \n",
    "    @cached_property\n",
    "    def empty_rows(self):\n",
    "        return [x for x in range(self.num_rows) if x not in self.rows_with_galaxy]\n",
    "    \n",
    "    @cached_property\n",
    "    def empty_cols(self):\n",
    "        return [x for x in range(self.num_cols) if x not in self.cols_with_galaxy]\n",
    "    \n",
    "    def update_galaxy_positions(self):\n",
    "        for row_idx, col_idx in self.galaxy_positions_raw:\n",
    "            empty_rows_before = len([x for x in self.empty_rows if x < row_idx])\n",
    "            empty_cols_before = len([y for y in self.empty_cols if y < col_idx])\n",
    "            \n",
    "            self.galaxy_positions_updated.append((row_idx + empty_rows_before, col_idx + empty_cols_before))\n",
    "\n",
    "\n",
    "    def solve(self):\n",
    "        self.parse_input()\n",
    "        self.update_galaxy_positions()\n",
    "        \n",
    "        total_dist = 0\n",
    "        \n",
    "        for x1, y1 in self.galaxy_positions_updated:\n",
    "            for x2, y2 in self.galaxy_positions_updated:\n",
    "                total_dist += abs(x1-x2) + abs(y1-y2)\n",
    "                \n",
    "        return total_dist // 2\n",
    "                "
   ]
  },
  {
   "cell_type": "code",
   "execution_count": 44,
   "id": "4532dc21-2246-4c4d-919f-14ce4a5e89ad",
   "metadata": {},
   "outputs": [],
   "source": [
    "a_test = PartA(TEST_FILE_INPUT)\n"
   ]
  },
  {
   "cell_type": "code",
   "execution_count": 45,
   "id": "f45cccb1-31f6-4a94-b036-0d124ca36b39",
   "metadata": {},
   "outputs": [],
   "source": [
    "assert a_test.solve() == 374# NUMER HERE"
   ]
  },
  {
   "cell_type": "code",
   "execution_count": 46,
   "id": "1f926841-c2f0-4e0e-b6d8-a9d8f3613792",
   "metadata": {},
   "outputs": [
    {
     "data": {
      "text/plain": [
       "10154062"
      ]
     },
     "execution_count": 46,
     "metadata": {},
     "output_type": "execute_result"
    }
   ],
   "source": [
    "a = PartA(FILE_INPUT)\n",
    "a.solve()"
   ]
  },
  {
   "cell_type": "code",
   "execution_count": 47,
   "id": "1de89def-05dd-4c8e-9fa2-eb353df885e1",
   "metadata": {},
   "outputs": [],
   "source": [
    "class PartB(PartA):\n",
    "    def __init__(self, file_path, expansion_factor):\n",
    "        self.file_path = file_path\n",
    "        self.rows_with_galaxy = []\n",
    "        self.cols_with_galaxy = []\n",
    "        self.galaxy_positions_raw = []\n",
    "        self.galaxy_positions_updated = []\n",
    "        self.expansion_factor = expansion_factor - 1\n",
    "        \n",
    "    def update_galaxy_positions(self):\n",
    "        for row_idx, col_idx in self.galaxy_positions_raw:\n",
    "            empty_rows_before = len([x for x in self.empty_rows if x < row_idx])\n",
    "            empty_cols_before = len([y for y in self.empty_cols if y < col_idx])\n",
    "            \n",
    "            self.galaxy_positions_updated.append((row_idx + self.expansion_factor * empty_rows_before, col_idx + self.expansion_factor * empty_cols_before))"
   ]
  },
  {
   "cell_type": "code",
   "execution_count": 48,
   "id": "c29186b8-a738-46d6-97cd-854b3923d4a2",
   "metadata": {},
   "outputs": [],
   "source": [
    "b_test = PartB(TEST_FILE_INPUT, 10)"
   ]
  },
  {
   "cell_type": "code",
   "execution_count": 49,
   "id": "e840cd3d-2727-4076-a743-ca7cde24b0dc",
   "metadata": {},
   "outputs": [],
   "source": [
    "assert b_test.solve() == 1030# NUMBER HERE"
   ]
  },
  {
   "cell_type": "code",
   "execution_count": 50,
   "id": "49941537-a84c-4301-affc-a274a00aab42",
   "metadata": {},
   "outputs": [],
   "source": [
    "b_test2 = PartB(TEST_FILE_INPUT, 100)\n",
    "assert b_test2.solve() == 8410# NUMBER HERE"
   ]
  },
  {
   "cell_type": "code",
   "execution_count": 51,
   "id": "fc53e11b-7fa7-4d01-8676-dd22561dc2fa",
   "metadata": {},
   "outputs": [
    {
     "data": {
      "text/plain": [
       "553083047914"
      ]
     },
     "execution_count": 51,
     "metadata": {},
     "output_type": "execute_result"
    }
   ],
   "source": [
    "b = PartB(FILE_INPUT, 10 ** 6)\n",
    "b.solve()"
   ]
  },
  {
   "cell_type": "code",
   "execution_count": null,
   "id": "7f56dd62-87b1-4da0-9deb-741665b4c0ef",
   "metadata": {},
   "outputs": [],
   "source": []
  }
 ],
 "metadata": {
  "kernelspec": {
   "display_name": "Python 3 (ipykernel)",
   "language": "python",
   "name": "python3"
  },
  "language_info": {
   "codemirror_mode": {
    "name": "ipython",
    "version": 3
   },
   "file_extension": ".py",
   "mimetype": "text/x-python",
   "name": "python",
   "nbconvert_exporter": "python",
   "pygments_lexer": "ipython3",
   "version": "3.9.7"
  }
 },
 "nbformat": 4,
 "nbformat_minor": 5
}
