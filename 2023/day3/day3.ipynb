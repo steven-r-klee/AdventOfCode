{
 "cells": [
  {
   "cell_type": "code",
   "execution_count": 36,
   "id": "6f7d4e1d-b93d-4a12-8f88-bc5a3f592d54",
   "metadata": {},
   "outputs": [],
   "source": [
    "import re\n",
    "import numpy as np\n",
    "from functools import cached_property"
   ]
  },
  {
   "cell_type": "code",
   "execution_count": 2,
   "id": "86773635-e8d0-4b59-a379-0d4dc2d57aa0",
   "metadata": {},
   "outputs": [],
   "source": [
    "input_path_test = './day3_input_test.txt'\n",
    "# input_path_test_b = './day2_input_test_b.txt'\n",
    "input_path = './day3_input.txt'"
   ]
  },
  {
   "cell_type": "code",
   "execution_count": 134,
   "id": "f1496ef1-c04b-4df7-8e29-9f9a0f8271f8",
   "metadata": {},
   "outputs": [],
   "source": [
    "class ParseInput:\n",
    "    def __init__(self, in_file):\n",
    "        self.in_file = in_file\n",
    "        self.digits = '0123456789'\n",
    "        self.non_characters = self.digits + '.'\n",
    "        # self.non_characters = '.'\n",
    "        \n",
    "    @cached_property\n",
    "    def number_positions(self):\n",
    "        #ii = 0\n",
    "        positions_dict = {}\n",
    "        with open(self.in_file, 'r') as f:\n",
    "            for ii, line in enumerate(f):\n",
    "                line = line.rstrip('\\n')\n",
    "                current_number = ''\n",
    "                for jj, current_char in enumerate(line):\n",
    "                    if current_char in self.digits:\n",
    "                        if current_number == '':\n",
    "                            current_key = (ii, jj)\n",
    "                        current_number += current_char\n",
    "                    else:\n",
    "                        if current_number != '':\n",
    "                            positions_dict[current_key] = int(current_number)\n",
    "                            current_number = ''\n",
    "                if current_number != '':\n",
    "                    positions_dict[current_key] = int(current_number)\n",
    "                    current_number = ''\n",
    "                #ii += 1\n",
    "        return positions_dict\n",
    "    \n",
    "    @cached_property\n",
    "    def character_positions(self):\n",
    "        positions_dict = {}\n",
    "        with open(self.in_file, 'r') as f:\n",
    "            for ii, line in enumerate(f):\n",
    "                line = line.rstrip('\\n')\n",
    "                for jj, current_char in enumerate(line):\n",
    "                    if current_char not in self.non_characters:\n",
    "                        positions_dict[(ii,jj)] = current_char\n",
    "        return positions_dict\n",
    "    \n",
    "    @cached_property\n",
    "    def gear_positions(self):\n",
    "        gear_positions = []\n",
    "        with open(self.in_file, 'r') as f:\n",
    "            for ii, line in enumerate(f):\n",
    "                line = line.rstrip('\\n')\n",
    "                for jj, current_char in enumerate(line):\n",
    "                    if current_char == '*':\n",
    "                        gear_positions.append((ii,jj))\n",
    "        return gear_positions\n",
    "    \n",
    "    def is_part_number(self, number_position):\n",
    "        i_min, j_min = number_position\n",
    "        j_max = j_min + len(str(self.number_positions[number_position]))\n",
    "        \n",
    "        positions_to_check = [(i, j) for i in range(i_min-1, i_min+2) for j in range(j_min-1, j_max+1)]\n",
    "        \n",
    "        return any(position in self.character_positions.keys() for position in positions_to_check)\n",
    "    \n",
    "    def neighbors(self, number_position):\n",
    "        i_min, j_min = number_position\n",
    "        j_max = j_min + len(str(self.number_positions[number_position]))\n",
    "        \n",
    "        positions_to_check = [(i, j) for i in range(i_min-1, i_min+2) for j in range(j_min-1, j_max+1)]\n",
    "        return positions_to_check\n",
    "    \n",
    "    @property\n",
    "    def numbers_next_to_gears(self):\n",
    "        gear_neighbors = {}\n",
    "        for gear in self.gear_positions:\n",
    "            gear_neighbors[gear] = []\n",
    "            for number_position, value in self.number_positions.items():\n",
    "                if gear in self.neighbors(number_position):\n",
    "                    gear_neighbors[gear].append(value)\n",
    "        return gear_neighbors\n",
    "    \n",
    "    @property\n",
    "    def valid_part_numbers(self):\n",
    "        valid_parts = []\n",
    "        for key, value in self.number_positions.items():\n",
    "            if self.is_part_number(key):\n",
    "                valid_parts.append(value)\n",
    "        return valid_parts\n",
    "    \n",
    "    @property\n",
    "    def invalid_part_numbers(self):\n",
    "        invalid_parts = []\n",
    "        for key, value in self.number_positions.items():\n",
    "            if not self.is_part_number(key):\n",
    "                invalid_parts.append((key, value))\n",
    "        return invalid_parts\n",
    "    \n",
    "    @property\n",
    "    def sum_of_valid_parts(self):\n",
    "        return sum(self.valid_part_numbers)\n",
    "    \n",
    "    @property\n",
    "    def sum_of_gear_ratios(self):\n",
    "        cumsum = 0\n",
    "        for neighbors in self.numbers_next_to_gears.values():\n",
    "            if len(neighbors) == 2:\n",
    "                cumsum += neighbors[0] * neighbors[1]\n",
    "        return cumsum\n",
    "        \n",
    "                "
   ]
  },
  {
   "cell_type": "code",
   "execution_count": 135,
   "id": "dca67955-7ea1-484d-91ad-89699ea1bf65",
   "metadata": {},
   "outputs": [
    {
     "data": {
      "text/plain": [
       "{(0, 0): 467,\n",
       " (0, 5): 114,\n",
       " (2, 2): 35,\n",
       " (2, 6): 633,\n",
       " (4, 0): 617,\n",
       " (5, 7): 58,\n",
       " (6, 2): 592,\n",
       " (7, 6): 755,\n",
       " (9, 1): 664,\n",
       " (9, 5): 598}"
      ]
     },
     "execution_count": 135,
     "metadata": {},
     "output_type": "execute_result"
    }
   ],
   "source": [
    "parser = ParseInput(input_path_test)\n",
    "parser.number_positions"
   ]
  },
  {
   "cell_type": "code",
   "execution_count": 136,
   "id": "3eae3c03-cfbc-41b3-be53-eb43f5a3418e",
   "metadata": {},
   "outputs": [
    {
     "data": {
      "text/plain": [
       "{(1, 3): '*', (3, 6): '#', (4, 3): '*', (5, 5): '+', (8, 3): '$', (8, 5): '*'}"
      ]
     },
     "execution_count": 136,
     "metadata": {},
     "output_type": "execute_result"
    }
   ],
   "source": [
    "parser.character_positions"
   ]
  },
  {
   "cell_type": "code",
   "execution_count": 137,
   "id": "71386342-e9a0-44a3-b0c4-e9fd8a0b9853",
   "metadata": {},
   "outputs": [
    {
     "data": {
      "text/plain": [
       "True"
      ]
     },
     "execution_count": 137,
     "metadata": {},
     "output_type": "execute_result"
    }
   ],
   "source": [
    "parser.is_part_number((0,0))"
   ]
  },
  {
   "cell_type": "code",
   "execution_count": 138,
   "id": "29447f58-80bf-4e80-8a83-e8cff19c2819",
   "metadata": {},
   "outputs": [
    {
     "data": {
      "text/plain": [
       "[467, 35, 633, 617, 592, 755, 664, 598]"
      ]
     },
     "execution_count": 138,
     "metadata": {},
     "output_type": "execute_result"
    }
   ],
   "source": [
    "parser.valid_part_numbers"
   ]
  },
  {
   "cell_type": "code",
   "execution_count": 139,
   "id": "3ada305a-76ba-4060-ab2b-dfe78e801d70",
   "metadata": {},
   "outputs": [
    {
     "data": {
      "text/plain": [
       "[((0, 5), 114), ((5, 7), 58)]"
      ]
     },
     "execution_count": 139,
     "metadata": {},
     "output_type": "execute_result"
    }
   ],
   "source": [
    "parser.invalid_part_numbers"
   ]
  },
  {
   "cell_type": "code",
   "execution_count": 140,
   "id": "5f74181d-6be5-4196-a519-13bc7ac6b449",
   "metadata": {},
   "outputs": [
    {
     "data": {
      "text/plain": [
       "4361"
      ]
     },
     "execution_count": 140,
     "metadata": {},
     "output_type": "execute_result"
    }
   ],
   "source": [
    "parser.sum_of_valid_parts"
   ]
  },
  {
   "cell_type": "code",
   "execution_count": 141,
   "id": "2d1f051f-0a8b-44ce-873a-42e9d330bac0",
   "metadata": {},
   "outputs": [
    {
     "data": {
      "text/plain": [
       "{(1, 3): [467, 35], (4, 3): [617], (8, 5): [755, 598]}"
      ]
     },
     "execution_count": 141,
     "metadata": {},
     "output_type": "execute_result"
    }
   ],
   "source": [
    "parser.numbers_next_to_gears"
   ]
  },
  {
   "cell_type": "code",
   "execution_count": 142,
   "id": "48472eeb-2101-4f62-b378-6eb646968d7c",
   "metadata": {},
   "outputs": [
    {
     "data": {
      "text/plain": [
       "467835"
      ]
     },
     "execution_count": 142,
     "metadata": {},
     "output_type": "execute_result"
    }
   ],
   "source": [
    "parser.sum_of_gear_ratios"
   ]
  },
  {
   "cell_type": "code",
   "execution_count": 104,
   "id": "8deed2ef-1149-43c3-84a0-7bf0c2e460fe",
   "metadata": {},
   "outputs": [
    {
     "data": {
      "text/plain": [
       "557705"
      ]
     },
     "execution_count": 104,
     "metadata": {},
     "output_type": "execute_result"
    }
   ],
   "source": [
    "ParseInput(input_path).sum_of_valid_parts"
   ]
  },
  {
   "cell_type": "code",
   "execution_count": 143,
   "id": "0d595d35-a3c5-4e89-97a3-786b683f5930",
   "metadata": {},
   "outputs": [
    {
     "data": {
      "text/plain": [
       "84266818"
      ]
     },
     "execution_count": 143,
     "metadata": {},
     "output_type": "execute_result"
    }
   ],
   "source": [
    "ParseInput(input_path).sum_of_gear_ratios"
   ]
  },
  {
   "cell_type": "code",
   "execution_count": null,
   "id": "0d68f17a-2b32-425a-8315-13816231681e",
   "metadata": {},
   "outputs": [],
   "source": []
  }
 ],
 "metadata": {
  "kernelspec": {
   "display_name": "Python 3 (ipykernel)",
   "language": "python",
   "name": "python3"
  },
  "language_info": {
   "codemirror_mode": {
    "name": "ipython",
    "version": 3
   },
   "file_extension": ".py",
   "mimetype": "text/x-python",
   "name": "python",
   "nbconvert_exporter": "python",
   "pygments_lexer": "ipython3",
   "version": "3.9.7"
  }
 },
 "nbformat": 4,
 "nbformat_minor": 5
}
