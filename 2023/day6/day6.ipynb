{
 "cells": [
  {
   "cell_type": "code",
   "execution_count": 1,
   "id": "14c6acfe-777a-4bf6-94ef-6d84a3fcbf2c",
   "metadata": {},
   "outputs": [],
   "source": [
    "import re\n",
    "import numpy as np\n",
    "from functools import cached_property"
   ]
  },
  {
   "cell_type": "code",
   "execution_count": 2,
   "id": "19b84c75-8610-429f-add8-b0db3045d880",
   "metadata": {},
   "outputs": [],
   "source": [
    "input_path_test = './day6_input_test.txt'\n",
    "# input_path_test_b = './day2_input_test_b.txt'\n",
    "input_path = './day6_input.txt'"
   ]
  },
  {
   "cell_type": "code",
   "execution_count": 29,
   "id": "59dec761-5b62-4d99-ad26-f31f1661eef5",
   "metadata": {},
   "outputs": [],
   "source": [
    "class PartA:\n",
    "    def __init__(self, filepath):\n",
    "        self.filepath = filepath\n",
    "        \n",
    "    @property\n",
    "    def times(self):\n",
    "        with open(self.filepath, 'r') as f:\n",
    "            timeline = f.readlines()[0]\n",
    "        times = timeline.split(\":\")[1].split()\n",
    "        times = [int(time) for time in times]\n",
    "        return times\n",
    "    \n",
    "    @property\n",
    "    def distances(self):\n",
    "        with open(self.filepath, 'r') as f:\n",
    "            distline = f.readlines()[1]\n",
    "        distances = distline.split(\":\")[1].split()\n",
    "        distances = [int(dist) for dist in distances]\n",
    "        return distances\n",
    "    \n",
    "    def get_range(self, time, dist):\n",
    "        x_min = (time - np.sqrt(time ** 2 - 4 * dist)) / 2\n",
    "        x_max = (time + np.sqrt(time ** 2 - 4 * dist)) / 2\n",
    "        \n",
    "        y_min = np.ceil(x_min)\n",
    "        y_max = np.floor(x_max)\n",
    "        \n",
    "        x_min = y_min if x_min != y_min else y_min + 1\n",
    "        x_max = y_max if x_max != y_max else y_max - 1\n",
    "        \n",
    "        return x_max - x_min + 1\n",
    "    \n",
    "    def solve(self):\n",
    "        val = 1\n",
    "        for ii, time in enumerate(self.times):\n",
    "            distance = self.distances[ii]\n",
    "            val *= self.get_range(time, distance)\n",
    "            print(time, distance, val)\n",
    "        return int(val)"
   ]
  },
  {
   "cell_type": "code",
   "execution_count": 26,
   "id": "32c9ff62-38bb-4ad9-9e9c-e6681b400d33",
   "metadata": {},
   "outputs": [
    {
     "name": "stdout",
     "output_type": "stream",
     "text": [
      "44 202 33.0\n",
      "82 1076 1617.0\n",
      "69 1138 22638.0\n",
      "81 1458 588588.0\n"
     ]
    },
    {
     "data": {
      "text/plain": [
       "588588"
      ]
     },
     "execution_count": 26,
     "metadata": {},
     "output_type": "execute_result"
    }
   ],
   "source": [
    "a = PartA(input_path)\n",
    "a.times\n",
    "a.distances\n",
    "a.solve()"
   ]
  },
  {
   "cell_type": "code",
   "execution_count": 12,
   "id": "15ac57f3-94d0-4a2f-9db6-0d1baaa355d8",
   "metadata": {},
   "outputs": [
    {
     "data": {
      "text/plain": [
       "6.0"
      ]
     },
     "execution_count": 12,
     "metadata": {},
     "output_type": "execute_result"
    }
   ],
   "source": [
    "np.ceil(np.sqrt(30))"
   ]
  },
  {
   "cell_type": "code",
   "execution_count": 34,
   "id": "9941f053-eb06-4c82-85a6-ad9d5b4281c2",
   "metadata": {},
   "outputs": [],
   "source": [
    "class PartB:\n",
    "    def __init__(self, filepath):\n",
    "        self.filepath = filepath\n",
    "        \n",
    "    @property\n",
    "    def times(self):\n",
    "        with open(self.filepath, 'r') as f:\n",
    "            timeline = f.readlines()[0]\n",
    "        times = re.sub(' ', '', timeline.split(\":\")[1])\n",
    "        times = [int(times)]\n",
    "        return times\n",
    "    \n",
    "    @property\n",
    "    def distances(self):\n",
    "        with open(self.filepath, 'r') as f:\n",
    "            distline = f.readlines()[1]\n",
    "        distances = re.sub(' ', '', distline.split(\":\")[1])\n",
    "        distances = [int(distances)]\n",
    "        return distances\n",
    "    \n",
    "    def get_range(self, time, dist):\n",
    "        x_min = (time - np.sqrt(time ** 2 - 4 * dist)) / 2\n",
    "        x_max = (time + np.sqrt(time ** 2 - 4 * dist)) / 2\n",
    "        \n",
    "        y_min = np.ceil(x_min)\n",
    "        y_max = np.floor(x_max)\n",
    "        \n",
    "        x_min = y_min if x_min != y_min else y_min + 1\n",
    "        x_max = y_max if x_max != y_max else y_max - 1\n",
    "        \n",
    "        return x_max - x_min + 1\n",
    "    \n",
    "    def solve(self):\n",
    "        val = 1\n",
    "        for ii, time in enumerate(self.times):\n",
    "            distance = self.distances[ii]\n",
    "            val *= self.get_range(time, distance)\n",
    "            print(time, distance, val)\n",
    "        return int(val)"
   ]
  },
  {
   "cell_type": "code",
   "execution_count": 37,
   "id": "3aef574b-1b17-46d2-a478-4d7976a2e591",
   "metadata": {},
   "outputs": [
    {
     "name": "stdout",
     "output_type": "stream",
     "text": [
      "44826981 202107611381458 34655848.0\n"
     ]
    },
    {
     "data": {
      "text/plain": [
       "34655848"
      ]
     },
     "execution_count": 37,
     "metadata": {},
     "output_type": "execute_result"
    }
   ],
   "source": [
    "b = PartB(input_path)\n",
    "b.times\n",
    "b.distances\n",
    "b.solve()"
   ]
  },
  {
   "cell_type": "code",
   "execution_count": null,
   "id": "c95579d7-9d78-4d43-b5d7-f44aca1afba5",
   "metadata": {},
   "outputs": [],
   "source": []
  }
 ],
 "metadata": {
  "kernelspec": {
   "display_name": "Python 3 (ipykernel)",
   "language": "python",
   "name": "python3"
  },
  "language_info": {
   "codemirror_mode": {
    "name": "ipython",
    "version": 3
   },
   "file_extension": ".py",
   "mimetype": "text/x-python",
   "name": "python",
   "nbconvert_exporter": "python",
   "pygments_lexer": "ipython3",
   "version": "3.9.7"
  }
 },
 "nbformat": 4,
 "nbformat_minor": 5
}
