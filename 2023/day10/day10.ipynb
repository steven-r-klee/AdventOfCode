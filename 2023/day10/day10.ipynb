{
 "cells": [
  {
   "cell_type": "code",
   "execution_count": 1,
   "id": "d2e57d87-22a2-4411-965b-1f0dfb449c8f",
   "metadata": {},
   "outputs": [],
   "source": [
    "from functools import cached_property\n",
    "import re\n",
    "\n",
    "TODAY = 'day10'\n",
    "TEST_FILE_INPUT = f\"./test_input_{TODAY}.txt\"\n",
    "TEST_FILE_INPUT2 = f\"./test_input2_{TODAY}.txt\"\n",
    "FILE_INPUT = f\"./input_{TODAY}.txt\"\n"
   ]
  },
  {
   "cell_type": "code",
   "execution_count": 2,
   "id": "e9905b48-ac9f-4048-8e35-046c45ef6210",
   "metadata": {},
   "outputs": [],
   "source": [
    "PATH_DICT = {\n",
    "    # key = square symbol\n",
    "    # value = dict\n",
    "        # key = direction you came from\n",
    "        # value = direction you will go\n",
    "    # Example \"L\": {\"north\": \"east\", \"east: \"north\"}\n",
    "    \n",
    "    \"|\": {\"south\": \"north\", \"north\": \"south\"},\n",
    "    \"-\": {\"west\": \"east\", \"east\": \"west\"},\n",
    "    \"L\": {\"north\": \"east\", \"east\": \"north\"},\n",
    "    \"J\": {\"west\": \"north\", \"north\": \"west\"},\n",
    "    \"F\": {\"south\": \"east\", \"east\": \"south\"},\n",
    "    \"7\": {\"west\": \"south\", \"south\": \"west\"},\n",
    "}\n",
    "\n",
    "RELATIVE_POSITIONS_DICT = {\n",
    "    \"west\": (0, -1),\n",
    "    \"east\": (0, 1),\n",
    "    \"south\": (1, 0),\n",
    "    \"north\": (-1, 0)\n",
    "}\n",
    "\n",
    "OPPOSITE_DIRECTION_DICT = { # if you are to my <key> then I am to your <value>\n",
    "    \"north\": \"south\",\n",
    "    \"south\": \"north\",\n",
    "    \"east\": \"west\",\n",
    "    \"west\": \"east\",\n",
    "}\n",
    "\n",
    "class MapPosition:\n",
    "    def __init__(self, grid_position, previous_location, map_dict):\n",
    "        \"\"\"\n",
    "        Location on the map when traversing\n",
    "        grid_position: where you are on the map (matrix coords)\n",
    "        previous_location: direction (n/s/e/w) relative to the current location where you were previously\n",
    "        map_dict: a dictionary showing where pipes are located\n",
    "        \"\"\"\n",
    "        \n",
    "        self.grid_position = grid_position\n",
    "        self.map_dict = map_dict\n",
    "        self.previous_location = previous_location\n",
    "        self.path_positions = [self.grid_position]\n",
    "        \n",
    "    def move(self, direction):\n",
    "        x, y = self.grid_position\n",
    "        dx, dy = RELATIVE_POSITIONS_DICT[direction]\n",
    "        new_position = (x+dx, y+dy)\n",
    "        self.grid_position = new_position\n",
    "        self.previous_location = OPPOSITE_DIRECTION_DICT[direction]\n",
    "        self.path_positions.append(self.grid_position)\n",
    "        \n",
    "    def direction_to_move(self):\n",
    "        current_pipe = self.map_dict[self.grid_position]\n",
    "        possible_move_directions = list(PATH_DICT[current_pipe].keys())\n",
    "        possible_move_directions.remove(self.previous_location)\n",
    "        next_direction = possible_move_directions[0]\n",
    "        return next_direction\n",
    "        \n",
    "\n",
    "class PipeMap:\n",
    "    def __init__(self, file_path):\n",
    "        self.file_path = file_path\n",
    "        self.starting_position = None\n",
    "        self.map_dict = None\n",
    "        self.path_positions = None\n",
    "        \n",
    "    \n",
    "    def process(self):\n",
    "        valid_chars = PATH_DICT.keys()\n",
    "        map_dict = {}\n",
    "        with open(self.file_path, 'r') as f:\n",
    "            for ii, line in enumerate(f):\n",
    "                line = line.rstrip('\\n')\n",
    "                for jj, char in enumerate(line):\n",
    "                    if char == \"S\": \n",
    "                        self.starting_position = (ii, jj)\n",
    "                    if char in valid_chars:\n",
    "                        map_dict[(ii, jj)] = char\n",
    "        self.map_dict = map_dict\n",
    "        \n",
    "    def resolve_starting_position(self):\n",
    "        if self.starting_position is None:\n",
    "            self.process()\n",
    "        if self.starting_position is None:\n",
    "            print(\"No 'S' character found\")\n",
    "            return \n",
    "        \n",
    "        connecting_pipe_positions = [] # neighbors of start (relative to start) that have connecting pipes\n",
    "        print(f\"S pipe is at position {self.starting_position}\")\n",
    "        for direction, diff in RELATIVE_POSITIONS_DICT.items():\n",
    "            x, y = self.starting_position\n",
    "            dx, dy = diff\n",
    "            new_pos = (x + dx, y + dy)\n",
    "            neighbor_pipe = self.map_dict.get(new_pos, None)\n",
    "            if neighbor_pipe:\n",
    "                print(f\"   Neighbor pipe {neighbor_pipe} found to the {direction}\")\n",
    "            relative_direction = OPPOSITE_DIRECTION_DICT[direction]\n",
    "            if neighbor_pipe and relative_direction in PATH_DICT[neighbor_pipe].keys():\n",
    "                connecting_pipe_positions.append(direction)\n",
    "                \n",
    "        print(f\"Connecting neighbor positions are to the {connecting_pipe_positions}\")\n",
    "        \n",
    "        resolve_dict = {\n",
    "            (\"north\", \"south\"): \"|\",\n",
    "            (\"south\", \"north\"): \"|\",\n",
    "            (\"east\", \"west\"): \"-\",\n",
    "            (\"west\", \"east\"): \"-\",\n",
    "            (\"north\", \"west\"): \"J\",\n",
    "            (\"west\", \"north\"): \"J\",\n",
    "            (\"north\", \"east\"): \"L\",\n",
    "            (\"east\", \"north\"): \"L\",\n",
    "            (\"south\", \"east\"): \"F\",\n",
    "            (\"east\", \"south\"): \"F\",\n",
    "            (\"south\", \"west\"): \"7\",\n",
    "            (\"west\", \"south\"): \"7\",\n",
    "        }\n",
    "        \n",
    "        starting_char = resolve_dict[tuple(connecting_pipe_positions)]\n",
    "        print(f\"...so the starting pipe is {starting_char}\")\n",
    "                \n",
    "        self.map_dict[self.starting_position] = starting_char\n",
    "            \n",
    "    def traverse(self, starting_position = None):\n",
    "        if starting_position is None:\n",
    "            starting_position = self.starting_position\n",
    "        print(f\"Traversing path starting from {starting_position}\")\n",
    "        pipe_type = self.map_dict[starting_position]\n",
    "        previous_direction = list(PATH_DICT[pipe_type].keys())[0] # arbitrary\n",
    "        position = MapPosition(\n",
    "            grid_position = starting_position,\n",
    "            previous_location = previous_direction,\n",
    "            map_dict = self.map_dict\n",
    "        )\n",
    "        position.move(direction = position.direction_to_move())\n",
    "        path_length = 1\n",
    "        \n",
    "        while position.grid_position != starting_position:\n",
    "            # print(f\"Currently at position {position.grid_position}\")\n",
    "            position.move(direction = position.direction_to_move())\n",
    "            \n",
    "            path_length += 1\n",
    "            \n",
    "        print(f\"Returned to {starting_position} after {path_length} steps\")\n",
    "        \n",
    "        self.path_positions = position.path_positions\n",
    "        \n",
    "        return path_length // 2\n",
    "        \n",
    "\n",
    "class PartA:\n",
    "    def __init__(self, pipe_map):\n",
    "        self.pipe_map = pipe_map        \n",
    "\n",
    "    def solve(self):\n",
    "        self.pipe_map.process()\n",
    "        self.pipe_map.resolve_starting_position()\n",
    "        return self.pipe_map.traverse() "
   ]
  },
  {
   "cell_type": "code",
   "execution_count": 3,
   "id": "16898761-d8ea-4790-9e98-0f4c5731db9c",
   "metadata": {},
   "outputs": [],
   "source": [
    "pipe_map_a_test = PipeMap(TEST_FILE_INPUT)"
   ]
  },
  {
   "cell_type": "code",
   "execution_count": 4,
   "id": "4532dc21-2246-4c4d-919f-14ce4a5e89ad",
   "metadata": {},
   "outputs": [
    {
     "name": "stdout",
     "output_type": "stream",
     "text": [
      "S pipe is at position (1, 1)\n",
      "   Neighbor pipe - found to the east\n",
      "   Neighbor pipe | found to the south\n",
      "Connecting neighbor positions are to the ['east', 'south']\n",
      "...so the starting pipe is F\n",
      "Traversing path starting from (1, 1)\n",
      "Returned to (1, 1) after 8 steps\n"
     ]
    }
   ],
   "source": [
    "a_test = PartA(pipe_map_a_test)\n",
    "assert a_test.solve() == 4"
   ]
  },
  {
   "cell_type": "code",
   "execution_count": 5,
   "id": "33f8686f-5240-4693-a802-bccb51547d3f",
   "metadata": {},
   "outputs": [
    {
     "data": {
      "text/plain": [
       "[(1, 1), (1, 2), (1, 3), (2, 3), (3, 3), (3, 2), (3, 1), (2, 1), (1, 1)]"
      ]
     },
     "execution_count": 5,
     "metadata": {},
     "output_type": "execute_result"
    }
   ],
   "source": [
    "a_test.pipe_map.path_positions"
   ]
  },
  {
   "cell_type": "code",
   "execution_count": 6,
   "id": "1f926841-c2f0-4e0e-b6d8-a9d8f3613792",
   "metadata": {},
   "outputs": [
    {
     "name": "stdout",
     "output_type": "stream",
     "text": [
      "S pipe is at position (2, 0)\n",
      "   Neighbor pipe J found to the east\n",
      "   Neighbor pipe | found to the south\n",
      "Connecting neighbor positions are to the ['east', 'south']\n",
      "...so the starting pipe is F\n",
      "Traversing path starting from (2, 0)\n",
      "Returned to (2, 0) after 16 steps\n"
     ]
    }
   ],
   "source": [
    "pipe_map_a_test2 = PipeMap(TEST_FILE_INPUT2)\n",
    "a_test2 = PartA(pipe_map_a_test2)\n",
    "assert a_test2.solve() == 8"
   ]
  },
  {
   "cell_type": "code",
   "execution_count": 7,
   "id": "514d5358-ff94-4687-94d4-f0ec56c93abe",
   "metadata": {},
   "outputs": [
    {
     "name": "stdout",
     "output_type": "stream",
     "text": [
      "S pipe is at position (38, 55)\n",
      "   Neighbor pipe 7 found to the west\n",
      "   Neighbor pipe L found to the east\n",
      "   Neighbor pipe | found to the south\n",
      "   Neighbor pipe | found to the north\n",
      "Connecting neighbor positions are to the ['south', 'north']\n",
      "...so the starting pipe is |\n",
      "Traversing path starting from (38, 55)\n",
      "Returned to (38, 55) after 14172 steps\n"
     ]
    },
    {
     "data": {
      "text/plain": [
       "7086"
      ]
     },
     "execution_count": 7,
     "metadata": {},
     "output_type": "execute_result"
    }
   ],
   "source": [
    "pipe_map_a = PipeMap(FILE_INPUT)\n",
    "part_a = PartA(pipe_map_a)\n",
    "part_a.solve()"
   ]
  },
  {
   "cell_type": "code",
   "execution_count": null,
   "id": "1de89def-05dd-4c8e-9fa2-eb353df885e1",
   "metadata": {},
   "outputs": [],
   "source": [
    "class PartB(PartA):    \n",
    "    def solve(self):\n",
    "        pass\n",
    "                    \n",
    "            \n",
    "        "
   ]
  },
  {
   "cell_type": "code",
   "execution_count": null,
   "id": "c29186b8-a738-46d6-97cd-854b3923d4a2",
   "metadata": {},
   "outputs": [],
   "source": [
    "pipe_map_b_test = PipeMap(TEST_FILE_INPUT)"
   ]
  },
  {
   "cell_type": "code",
   "execution_count": null,
   "id": "e840cd3d-2727-4076-a743-ca7cde24b0dc",
   "metadata": {},
   "outputs": [],
   "source": [
    "b_test = PartB(pipe_map_b_test)\n",
    "assert b_test.solve() == 4"
   ]
  },
  {
   "cell_type": "code",
   "execution_count": null,
   "id": "fc53e11b-7fa7-4d01-8676-dd22561dc2fa",
   "metadata": {},
   "outputs": [],
   "source": [
    "b = PartB(FILE_INPUT)\n",
    "b.solve()"
   ]
  },
  {
   "cell_type": "code",
   "execution_count": null,
   "id": "8f90b161-7842-4017-a06e-3116fc57aa0e",
   "metadata": {},
   "outputs": [],
   "source": []
  }
 ],
 "metadata": {
  "kernelspec": {
   "display_name": "Python 3 (ipykernel)",
   "language": "python",
   "name": "python3"
  },
  "language_info": {
   "codemirror_mode": {
    "name": "ipython",
    "version": 3
   },
   "file_extension": ".py",
   "mimetype": "text/x-python",
   "name": "python",
   "nbconvert_exporter": "python",
   "pygments_lexer": "ipython3",
   "version": "3.9.7"
  }
 },
 "nbformat": 4,
 "nbformat_minor": 5
}
