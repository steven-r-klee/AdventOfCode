{
 "cells": [
  {
   "cell_type": "code",
   "execution_count": 1,
   "id": "d2e57d87-22a2-4411-965b-1f0dfb449c8f",
   "metadata": {},
   "outputs": [],
   "source": [
    "from functools import cached_property\n",
    "import re\n",
    "import numpy as np\n",
    "\n",
    "TODAY = 'day16'\n",
    "TEST_FILE_INPUT = f\"./test_input_{TODAY}.txt\"\n",
    "FILE_INPUT = f\"./input_{TODAY}.txt\"\n"
   ]
  },
  {
   "cell_type": "code",
   "execution_count": null,
   "id": "e9905b48-ac9f-4048-8e35-046c45ef6210",
   "metadata": {},
   "outputs": [],
   "source": [
    "REFLECTION_DICTIONARY = {\n",
    "    \"/\": {\n",
    "        np.array([1,0]): [np.array([0,-1])],\n",
    "        np.array([-1,0]): [np.array([0,1])],\n",
    "        np.array([0,1]): [np.array([-1,0])],\n",
    "        np.array([0,-1]): [np.array([1,0])],\n",
    "    },\n",
    "    \"\\\\\": {\n",
    "        np.array([1,0]): [np.array([0,1])],\n",
    "        np.array([-1,0]): [np.array([0,-1])],\n",
    "        np.array([0,1]): [np.array([0,1])],\n",
    "        np.array([0,-1]): [np.array([0,-1])],\n",
    "    }\n",
    "}\n",
    "\n",
    "SPLITTER_DICTIONARY = {\n",
    "    \"|\": {\n",
    "        np.array([1,0]): [np.array([0,1]), np.array([0,-1])],\n",
    "        np.array([-1,0]): [np.array([0,1]), np.array([0,-1])],\n",
    "        np.array([0,-1]): [np.array([0,-1])],\n",
    "        np.array([0,1]): [np.array([0,-1])],\n",
    "    },\n",
    "    \"-\": {\n",
    "        np.array([0,1]): [np.array([1,0]), np.array([-1,0])],\n",
    "        np.array([0,-1]): [np.array([1,0]), np.array([-1,0])],\n",
    "        np.array([1,0]): [np.array([1,0])],\n",
    "        np.array([-1,0]): [np.array([-1,0])],\n",
    "    },\n",
    "}\n",
    "\n",
    "class Beam:\n",
    "    def __init__(self, direction, position):\n",
    "        self.direction = direction\n",
    "        self.position = position\n",
    "        \n",
    "class Board:\n",
    "    def __init__(self, file_path):\n",
    "        self.file_path = file_path\n",
    "        self.mirror_positions = {}\n",
    "        self.visited_positions = {}\n",
    "        \n",
    "    def load(self):\n",
    "        with open(file_path, 'r') as f:\n",
    "            for row_idx, line in enumerate(f):\n",
    "                line = line.rstrip('\\n')\n",
    "                for col_idx, char in enumerate(line):\n",
    "                    if char in [\"/\", \"\\\\\", \"|\", \"-\"]:\n",
    "                        self.mirror_positions[(row_idx, col_idx)] = char\n",
    "\n",
    "class PartA:\n",
    "    def __init__(self, file_path):\n",
    "        self.file_path = file_path\n",
    "        \n",
    "\n",
    "    def solve(self):\n",
    "        return "
   ]
  },
  {
   "cell_type": "code",
   "execution_count": null,
   "id": "4532dc21-2246-4c4d-919f-14ce4a5e89ad",
   "metadata": {},
   "outputs": [],
   "source": [
    "a_test = PartA(TEST_FILE_INPUT)"
   ]
  },
  {
   "cell_type": "code",
   "execution_count": null,
   "id": "f45cccb1-31f6-4a94-b036-0d124ca36b39",
   "metadata": {},
   "outputs": [],
   "source": [
    "assert a_test.solve() == 46 # NUMER HERE"
   ]
  },
  {
   "cell_type": "code",
   "execution_count": null,
   "id": "1f926841-c2f0-4e0e-b6d8-a9d8f3613792",
   "metadata": {},
   "outputs": [],
   "source": [
    "a = PartA(FILE_INPUT)\n",
    "a.solve()"
   ]
  },
  {
   "cell_type": "code",
   "execution_count": null,
   "id": "1de89def-05dd-4c8e-9fa2-eb353df885e1",
   "metadata": {},
   "outputs": [],
   "source": [
    "class PartB(PartA):\n",
    "    def solve(self):\n",
    "        return "
   ]
  },
  {
   "cell_type": "code",
   "execution_count": null,
   "id": "c29186b8-a738-46d6-97cd-854b3923d4a2",
   "metadata": {},
   "outputs": [],
   "source": [
    "b_test = PartB(TEST_FILE_INPUT)"
   ]
  },
  {
   "cell_type": "code",
   "execution_count": null,
   "id": "e840cd3d-2727-4076-a743-ca7cde24b0dc",
   "metadata": {},
   "outputs": [],
   "source": [
    "assert b_test.solve() == # NUMBER HERE"
   ]
  },
  {
   "cell_type": "code",
   "execution_count": null,
   "id": "fc53e11b-7fa7-4d01-8676-dd22561dc2fa",
   "metadata": {},
   "outputs": [],
   "source": [
    "b = PartB(FILE_INPUT)\n",
    "b.solve()"
   ]
  },
  {
   "cell_type": "code",
   "execution_count": 4,
   "id": "813455de-cc47-47ee-9522-d09048631bb4",
   "metadata": {},
   "outputs": [
    {
     "name": "stdout",
     "output_type": "stream",
     "text": [
      "bibtex chapter1\n",
      "bibtex chapter2\n",
      "bibtex chapter3\n",
      "bibtex chapter4\n",
      "bibtex chapter5\n",
      "bibtex chapter6\n",
      "bibtex chapter7\n",
      "bibtex chapter8\n",
      "bibtex chapter9\n"
     ]
    }
   ],
   "source": [
    "for k in range(1, 10):\n",
    "    print(f'bibtex chapter{k}')"
   ]
  },
  {
   "cell_type": "code",
   "execution_count": null,
   "id": "17b2d6ff-839d-4ab5-9c8f-20d9ff952578",
   "metadata": {},
   "outputs": [],
   "source": []
  }
 ],
 "metadata": {
  "kernelspec": {
   "display_name": "Python 3 (ipykernel)",
   "language": "python",
   "name": "python3"
  },
  "language_info": {
   "codemirror_mode": {
    "name": "ipython",
    "version": 3
   },
   "file_extension": ".py",
   "mimetype": "text/x-python",
   "name": "python",
   "nbconvert_exporter": "python",
   "pygments_lexer": "ipython3",
   "version": "3.9.7"
  }
 },
 "nbformat": 4,
 "nbformat_minor": 5
}
