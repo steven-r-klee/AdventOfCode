{
 "cells": [
  {
   "cell_type": "code",
   "execution_count": 1,
   "id": "1b65014b-64fc-49a6-a30f-9e49954e8e1e",
   "metadata": {},
   "outputs": [],
   "source": [
    "import re"
   ]
  },
  {
   "cell_type": "code",
   "execution_count": 39,
   "id": "576a8cb3-3b55-4e25-ab4a-a3be9061b786",
   "metadata": {},
   "outputs": [],
   "source": [
    "input_path_test = './day1_input_test.txt'\n",
    "input_path_test_b = './day1_input_test_b.txt'\n",
    "input_path = './day1_input.txt'"
   ]
  },
  {
   "cell_type": "code",
   "execution_count": 15,
   "id": "0f4535fc-1d23-4baa-ad5b-6f31c532b9f2",
   "metadata": {},
   "outputs": [],
   "source": [
    "def compress(input_str):\n",
    "    digits_only = re.sub(r'[a-z]', '', input_str)\n",
    "    first_digit = digits_only[0]\n",
    "    last_digit = digits_only[-1]\n",
    "    return int(f\"{first_digit}{last_digit}\")\n",
    "    "
   ]
  },
  {
   "cell_type": "code",
   "execution_count": 31,
   "id": "dd33bb43-1b49-4ece-aa70-398bc42159d3",
   "metadata": {},
   "outputs": [],
   "source": [
    "def running_sum(file_path):\n",
    "    running_sum = 0\n",
    "    with open(file_path, 'r') as f:\n",
    "        for line in f:\n",
    "            line = line.rstrip('\\n')\n",
    "            c = compress(line)\n",
    "            running_sum += c\n",
    "\n",
    "    return running_sum"
   ]
  },
  {
   "cell_type": "code",
   "execution_count": 32,
   "id": "428e39c5-6120-4a60-9374-933830f8e18a",
   "metadata": {},
   "outputs": [
    {
     "data": {
      "text/plain": [
       "142"
      ]
     },
     "execution_count": 32,
     "metadata": {},
     "output_type": "execute_result"
    }
   ],
   "source": [
    "running_sum(input_path_test)"
   ]
  },
  {
   "cell_type": "code",
   "execution_count": 33,
   "id": "a14e8b4f-250b-4ba6-b061-c94951405387",
   "metadata": {},
   "outputs": [
    {
     "data": {
      "text/plain": [
       "53651"
      ]
     },
     "execution_count": 33,
     "metadata": {},
     "output_type": "execute_result"
    }
   ],
   "source": [
    "running_sum(input_path)"
   ]
  },
  {
   "cell_type": "code",
   "execution_count": 136,
   "id": "1068c780-16d7-4ccb-9be1-f03b9459d3d8",
   "metadata": {},
   "outputs": [],
   "source": [
    "REPLACEMENTS = [\n",
    "    ('one', 1),\n",
    "    ('two', 2),\n",
    "    ('three', 3),\n",
    "    ('four', 4),\n",
    "    ('five', 5),\n",
    "    ('six', 6),\n",
    "    ('seven', 7),\n",
    "    ('eight', 8),\n",
    "    ('nine', 9),\n",
    "    ('1', 1),\n",
    "    ('2', 2),\n",
    "    ('3', 3),\n",
    "    ('4', 4),\n",
    "    ('5', 5), \n",
    "    ('6', 6),\n",
    "    ('7', 7),\n",
    "    ('8', 8),\n",
    "    ('9', 9)\n",
    "]\n",
    "def get_first_digit(input_str, from_start=True):\n",
    "    digits_only = input_str.rstrip('\\n')\n",
    "    output_str = ''\n",
    "    num_iter = 0\n",
    "    while 1 == 1:\n",
    "        for string, sub in REPLACEMENTS:\n",
    "            if from_start:\n",
    "                if digits_only.startswith(string):\n",
    "                    # print(digits_only, string, sub)\n",
    "                    return sub\n",
    "            else:\n",
    "                if digits_only.endswith(string):\n",
    "                    # print(digits_only, string, sub)\n",
    "                    return sub\n",
    "        if from_start:\n",
    "            digits_only = digits_only[1:]\n",
    "        else:\n",
    "            digits_only = digits_only[:-1]\n",
    "                    \n",
    "def compress_with_spelled(line):\n",
    "    first_digit = get_first_digit(line)\n",
    "    last_digit = get_first_digit(line, from_start=False)\n",
    "    # print(line, first_digit, last_digit)\n",
    "    return 10 * first_digit + last_digit\n",
    "\n",
    "    "
   ]
  },
  {
   "cell_type": "code",
   "execution_count": 139,
   "id": "cf91ef38-85a1-4436-96a3-7630ac8615a0",
   "metadata": {},
   "outputs": [],
   "source": [
    "def running_sum_v2(file_path):\n",
    "    running_sum = 0\n",
    "    with open(file_path, 'r') as f:\n",
    "        for line in f:\n",
    "            line = line.rstrip('\\n')\n",
    "            c = compress_with_spelled(line)\n",
    "            # print(line, c)\n",
    "            running_sum += c\n",
    "\n",
    "    return running_sum"
   ]
  },
  {
   "cell_type": "code",
   "execution_count": 140,
   "id": "96632662-f8e4-4059-a1f4-00cd6f0bb01f",
   "metadata": {},
   "outputs": [
    {
     "data": {
      "text/plain": [
       "281"
      ]
     },
     "execution_count": 140,
     "metadata": {},
     "output_type": "execute_result"
    }
   ],
   "source": [
    "running_sum_v2(input_path_test_b)"
   ]
  },
  {
   "cell_type": "code",
   "execution_count": 141,
   "id": "c392b9bf-bae0-4ab8-8e42-bffdd21d7cec",
   "metadata": {
    "tags": []
   },
   "outputs": [
    {
     "data": {
      "text/plain": [
       "53894"
      ]
     },
     "execution_count": 141,
     "metadata": {},
     "output_type": "execute_result"
    }
   ],
   "source": [
    "running_sum_v2(input_path)"
   ]
  },
  {
   "cell_type": "code",
   "execution_count": 111,
   "id": "58f37dbf-d948-4095-a6ee-2134d4ac88e2",
   "metadata": {},
   "outputs": [
    {
     "data": {
      "text/plain": [
       "19"
      ]
     },
     "execution_count": 111,
     "metadata": {},
     "output_type": "execute_result"
    }
   ],
   "source": [
    "compress_with_spelled('lqzrclnlzrvdstgtoneseven1xrvdchn29')"
   ]
  },
  {
   "cell_type": "code",
   "execution_count": null,
   "id": "1529ac07-fc0f-4916-a545-55cc304b37af",
   "metadata": {},
   "outputs": [],
   "source": []
  }
 ],
 "metadata": {
  "kernelspec": {
   "display_name": "Python 3 (ipykernel)",
   "language": "python",
   "name": "python3"
  },
  "language_info": {
   "codemirror_mode": {
    "name": "ipython",
    "version": 3
   },
   "file_extension": ".py",
   "mimetype": "text/x-python",
   "name": "python",
   "nbconvert_exporter": "python",
   "pygments_lexer": "ipython3",
   "version": "3.9.7"
  }
 },
 "nbformat": 4,
 "nbformat_minor": 5
}
