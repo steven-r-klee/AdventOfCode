{
 "cells": [
  {
   "cell_type": "code",
   "execution_count": 1,
   "id": "d2e57d87-22a2-4411-965b-1f0dfb449c8f",
   "metadata": {},
   "outputs": [],
   "source": [
    "from functools import cached_property\n",
    "import re\n",
    "\n",
    "TODAY = 'day14'\n",
    "TEST_FILE_INPUT = f\"./test_input_{TODAY}.txt\"\n",
    "FILE_INPUT = f\"./input_{TODAY}.txt\"\n"
   ]
  },
  {
   "cell_type": "code",
   "execution_count": 161,
   "id": "e9905b48-ac9f-4048-8e35-046c45ef6210",
   "metadata": {},
   "outputs": [],
   "source": [
    "MOVE_DIRECTION_DICT = {\n",
    "    \"north\": (-1,0),\n",
    "    \"south\": (1,0),\n",
    "    \"east\": (0,1),\n",
    "    \"west\": (0,-1)\n",
    "}\n",
    "\n",
    "class Board:\n",
    "    def __init__(self, file_path):\n",
    "        self.file_path = file_path\n",
    "        \n",
    "        \n",
    "    @cached_property\n",
    "    def n_rows(self):\n",
    "        with open(self.file_path, 'r') as f:\n",
    "            return len(f.readlines())\n",
    "        \n",
    "    @cached_property\n",
    "    def n_cols(self):\n",
    "        with open(self.file_path, 'r') as f:\n",
    "            line = f.readline()\n",
    "            line = line.rstrip('\\n')\n",
    "            return len(line)\n",
    "        \n",
    "    def find_positions(self, search_char):\n",
    "        char_positions = []\n",
    "        \n",
    "        with open(self.file_path, 'r') as f:\n",
    "            for ii, line in enumerate(f):\n",
    "                line = line.rstrip('\\n')\n",
    "                for jj, char in enumerate(line):\n",
    "                    if char == search_char:\n",
    "                        char_positions.append((ii, jj))\n",
    "                        \n",
    "        return char_positions\n",
    "        \n",
    "    @cached_property\n",
    "    def round_positions(self):\n",
    "        return self.find_positions('O')\n",
    "    \n",
    "    @cached_property\n",
    "    def cube_positions(self):\n",
    "        positions = self.find_positions('#')\n",
    "        for jj in range(self.n_cols):\n",
    "            positions.append((-1,jj))\n",
    "            positions.append((self.n_rows,jj))\n",
    "            \n",
    "        for ii in range(self.n_rows):\n",
    "            positions.append((ii, -1))\n",
    "            positions.append((ii, self.n_cols))\n",
    "        return positions\n",
    "                        \n",
    "    def tilt(self, direction):\n",
    "        move_direction = MOVE_DIRECTION_DICT[direction]\n",
    "        round_positions_start = (x for x in self.round_positions)\n",
    "        round_positions_loc = tuple([x for x in self.round_positions])\n",
    "        # print(round_positions_start)\n",
    "        for ball_loc in round_positions_start:\n",
    "            \n",
    "            # print(f\"Rolling ball at {ball_loc} {direction}\")\n",
    "            x_curr, y_curr = ball_loc\n",
    "            round_positions_loc = tuple([x for x in round_positions_loc if x != ball_loc])\n",
    "            last_open_x, last_open_y = ball_loc\n",
    "            dx, dy = move_direction\n",
    "            found_cube = False\n",
    "            while found_cube == False:\n",
    "                x_curr += dx\n",
    "                y_curr += dy\n",
    "                if (x_curr, y_curr) in self.cube_positions:\n",
    "                    found_cube = True\n",
    "                    # print(f\"  Stopped at cube {x_curr, y_curr}\")\n",
    "                if (x_curr, y_curr) not in list(self.round_positions) + self.cube_positions:\n",
    "                    last_open_x, last_open_y = x_curr, y_curr\n",
    "                        \n",
    "            # print(f\"  Placed ball at {last_open_x, last_open_y}\")\n",
    "                        \n",
    "            round_positions_loc = tuple(list(round_positions_loc) + [(last_open_x, last_open_y)])\n",
    "            # print(round_positions_loc)\n",
    "            \n",
    "            self.round_positions = round_positions_loc\n",
    "            # self.display()\n",
    "        \n",
    "    def display(self):\n",
    "        for ii in range(self.n_rows):\n",
    "            row_str = ''\n",
    "            for jj in range(self.n_cols):\n",
    "                if (ii, jj) in self.round_positions:\n",
    "                    row_str += 'O'\n",
    "                elif (ii, jj) in self.cube_positions:\n",
    "                    row_str += '#'\n",
    "                else:\n",
    "                    row_str += '.'\n",
    "                    \n",
    "            print(row_str)\n",
    "            \n",
    "    def north_load(self):\n",
    "        value = 0\n",
    "        for ii, jj in self.round_positions:\n",
    "            value += self.n_rows - ii\n",
    "        return value\n",
    "                    \n",
    "                \n",
    "                \n",
    "\n",
    "                \n",
    "\n",
    "        \n",
    "\n",
    "class PartA:\n",
    "    def __init__(self, board):\n",
    "        self.board = board\n",
    "        \n",
    "\n",
    "    def solve(self):\n",
    "        self.board.tilt('north')\n",
    "        return self.board.north_load()\n"
   ]
  },
  {
   "cell_type": "code",
   "execution_count": 162,
   "id": "f76434af-0026-4914-b0ea-6a931701cba0",
   "metadata": {},
   "outputs": [],
   "source": [
    "board_test = Board(TEST_FILE_INPUT)"
   ]
  },
  {
   "cell_type": "code",
   "execution_count": 163,
   "id": "4532dc21-2246-4c4d-919f-14ce4a5e89ad",
   "metadata": {},
   "outputs": [],
   "source": [
    "a_test = PartA(board_test)"
   ]
  },
  {
   "cell_type": "code",
   "execution_count": 164,
   "id": "f45cccb1-31f6-4a94-b036-0d124ca36b39",
   "metadata": {},
   "outputs": [],
   "source": [
    "assert a_test.solve() == 136 # NUMER HERE"
   ]
  },
  {
   "cell_type": "code",
   "execution_count": 165,
   "id": "80a8da1f-40b4-4150-a23e-f0ca05879354",
   "metadata": {},
   "outputs": [],
   "source": [
    "board = Board(FILE_INPUT)"
   ]
  },
  {
   "cell_type": "code",
   "execution_count": 166,
   "id": "1f926841-c2f0-4e0e-b6d8-a9d8f3613792",
   "metadata": {},
   "outputs": [
    {
     "data": {
      "text/plain": [
       "110128"
      ]
     },
     "execution_count": 166,
     "metadata": {},
     "output_type": "execute_result"
    }
   ],
   "source": [
    "a = PartA(board)\n",
    "a.solve()"
   ]
  },
  {
   "cell_type": "code",
   "execution_count": 317,
   "id": "1de89def-05dd-4c8e-9fa2-eb353df885e1",
   "metadata": {},
   "outputs": [],
   "source": [
    "class PartB(PartA):\n",
    "    def solve(self):\n",
    "        positions = list(self.board.round_positions)\n",
    "        positions.sort()\n",
    "        seen_round_positions = {tuple(positions): 0}\n",
    "        boards_dict = {0: self.board.north_load()}\n",
    "        num_cycles = 1000000000\n",
    "        skip = False\n",
    "        cycle = 0\n",
    "        while cycle < num_cycles and skip == False: \n",
    "            # print(ii, self.board.north_load())\n",
    "            cycle += 1\n",
    "            for direction in ('north', 'west', 'south', 'east'):\n",
    "                self.board.tilt(direction)\n",
    "            boards_dict[cycle] = self.board.north_load()\n",
    "            new_round = list(self.board.round_positions)\n",
    "            new_round.sort()\n",
    "            new_round = tuple(new_round)\n",
    "            \n",
    "            if seen_round_positions.get(new_round, 0) != 0:\n",
    "                skip = True\n",
    "                print(f\"Entered cycle after {cycle} rounds\")\n",
    "                print(f\"Round positions for cycle {cycle} are the same as the ones for cycle {seen_round_positions.get(new_round)}\")\n",
    "            \n",
    "            else:\n",
    "                seen_round_positions[new_round] = cycle\n",
    "                \n",
    "                \n",
    "                    \n",
    "            # self.board.display()\n",
    "            # print('\\n')\n",
    "        repeat_cycle_start = seen_round_positions.get(new_round)\n",
    "        repeat_cycle_end = cycle - 1\n",
    "        repeat_cycle_length = repeat_cycle_end - repeat_cycle_start + 1\n",
    "\n",
    "        board_index_at_end = (num_cycles - repeat_cycle_end - 1) % repeat_cycle_length\n",
    "        board_index_at_end += repeat_cycle_start\n",
    "\n",
    "        print(f\"So we end at the {board_index_at_end}th board\")\n",
    "        finishing_board = boards_dict[board_index_at_end]\n",
    "        \n",
    "        print({key: boards_dict[key] for key in boards_dict.keys()})\n",
    "\n",
    "            \n",
    "            \n",
    "        return finishing_board#.north_load()\n",
    "\n",
    "            \n",
    "            "
   ]
  },
  {
   "cell_type": "code",
   "execution_count": 321,
   "id": "c29186b8-a738-46d6-97cd-854b3923d4a2",
   "metadata": {},
   "outputs": [],
   "source": [
    "board_test = Board(TEST_FILE_INPUT)\n",
    "b_test = PartB(board_test)\n"
   ]
  },
  {
   "cell_type": "code",
   "execution_count": 322,
   "id": "e840cd3d-2727-4076-a743-ca7cde24b0dc",
   "metadata": {},
   "outputs": [
    {
     "name": "stdout",
     "output_type": "stream",
     "text": [
      "Entered cycle after 10 rounds\n",
      "Round positions for cycle 10 are the same as the ones for cycle 3\n",
      "So we end at the 6th board\n",
      "{0: 104, 1: 87, 2: 69, 3: 69, 4: 69, 5: 65, 6: 64, 7: 65, 8: 63, 9: 68, 10: 69}\n"
     ]
    }
   ],
   "source": [
    "assert b_test.solve() == 64 # NUMBER HERE"
   ]
  },
  {
   "cell_type": "code",
   "execution_count": 324,
   "id": "fc53e11b-7fa7-4d01-8676-dd22561dc2fa",
   "metadata": {},
   "outputs": [
    {
     "name": "stdout",
     "output_type": "stream",
     "text": [
      "Entered cycle after 191 rounds\n",
      "Round positions for cycle 191 are the same as the ones for cycle 177\n",
      "So we end at the 188th board\n",
      "{0: 102449, 1: 101575, 2: 101554, 3: 101559, 4: 101711, 5: 101898, 6: 101991, 7: 102153, 8: 102343, 9: 102446, 10: 102549, 11: 102634, 12: 102711, 13: 102756, 14: 102802, 15: 102855, 16: 102931, 17: 103011, 18: 103139, 19: 103265, 20: 103397, 21: 103527, 22: 103627, 23: 103769, 24: 103894, 25: 104050, 26: 104239, 27: 104396, 28: 104537, 29: 104694, 30: 104829, 31: 104968, 32: 105118, 33: 105280, 34: 105431, 35: 105587, 36: 105693, 37: 105816, 38: 105922, 39: 106016, 40: 106089, 41: 106175, 42: 106282, 43: 106376, 44: 106421, 45: 106495, 46: 106566, 47: 106625, 48: 106676, 49: 106759, 50: 106863, 51: 106962, 52: 107042, 53: 107094, 54: 107110, 55: 107124, 56: 107169, 57: 107218, 58: 107290, 59: 107347, 60: 107368, 61: 107395, 62: 107392, 63: 107398, 64: 107410, 65: 107432, 66: 107466, 67: 107485, 68: 107482, 69: 107484, 70: 107481, 71: 107486, 72: 107491, 73: 107491, 74: 107501, 75: 107520, 76: 107526, 77: 107530, 78: 107536, 79: 107529, 80: 107529, 81: 107529, 82: 107528, 83: 107532, 84: 107523, 85: 107521, 86: 107500, 87: 107496, 88: 107474, 89: 107452, 90: 107429, 91: 107406, 92: 107361, 93: 107319, 94: 107277, 95: 107230, 96: 107180, 97: 107132, 98: 107098, 99: 107073, 100: 107039, 101: 107017, 102: 106986, 103: 106955, 104: 106926, 105: 106908, 106: 106889, 107: 106870, 108: 106847, 109: 106835, 110: 106810, 111: 106791, 112: 106749, 113: 106714, 114: 106680, 115: 106638, 116: 106598, 117: 106553, 118: 106504, 119: 106456, 120: 106406, 121: 106354, 122: 106308, 123: 106254, 124: 106194, 125: 106123, 126: 106039, 127: 105967, 128: 105888, 129: 105812, 130: 105747, 131: 105684, 132: 105620, 133: 105575, 134: 105540, 135: 105514, 136: 105487, 137: 105465, 138: 105429, 139: 105385, 140: 105339, 141: 105296, 142: 105257, 143: 105230, 144: 105190, 145: 105157, 146: 105102, 147: 105061, 148: 105000, 149: 104949, 150: 104902, 151: 104859, 152: 104808, 153: 104767, 154: 104719, 155: 104668, 156: 104616, 157: 104594, 158: 104564, 159: 104529, 160: 104490, 161: 104460, 162: 104420, 163: 104382, 164: 104346, 165: 104312, 166: 104269, 167: 104234, 168: 104191, 169: 104155, 170: 104107, 171: 104065, 172: 104012, 173: 103966, 174: 103906, 175: 103886, 176: 103865, 177: 103856, 178: 103843, 179: 103857, 180: 103865, 181: 103863, 182: 103876, 183: 103860, 184: 103854, 185: 103845, 186: 103855, 187: 103867, 188: 103861, 189: 103878, 190: 103858, 191: 103856}\n"
     ]
    },
    {
     "data": {
      "text/plain": [
       "103861"
      ]
     },
     "execution_count": 324,
     "metadata": {},
     "output_type": "execute_result"
    }
   ],
   "source": [
    "board = Board(FILE_INPUT)\n",
    "b = PartB(board)\n",
    "b.solve()"
   ]
  },
  {
   "cell_type": "code",
   "execution_count": null,
   "id": "55b5877d-2f32-4e8e-9ada-27e05652dbad",
   "metadata": {},
   "outputs": [],
   "source": []
  }
 ],
 "metadata": {
  "kernelspec": {
   "display_name": "Python 3 (ipykernel)",
   "language": "python",
   "name": "python3"
  },
  "language_info": {
   "codemirror_mode": {
    "name": "ipython",
    "version": 3
   },
   "file_extension": ".py",
   "mimetype": "text/x-python",
   "name": "python",
   "nbconvert_exporter": "python",
   "pygments_lexer": "ipython3",
   "version": "3.9.7"
  }
 },
 "nbformat": 4,
 "nbformat_minor": 5
}
