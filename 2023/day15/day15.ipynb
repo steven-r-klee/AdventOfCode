{
 "cells": [
  {
   "cell_type": "code",
   "execution_count": 1,
   "id": "d2e57d87-22a2-4411-965b-1f0dfb449c8f",
   "metadata": {},
   "outputs": [],
   "source": [
    "from functools import cached_property\n",
    "import re\n",
    "\n",
    "TODAY = 'day15'\n",
    "TEST_FILE_INPUT = f\"./test_input_{TODAY}.txt\"\n",
    "FILE_INPUT = f\"./input_{TODAY}.txt\"\n"
   ]
  },
  {
   "cell_type": "code",
   "execution_count": 17,
   "id": "e9905b48-ac9f-4048-8e35-046c45ef6210",
   "metadata": {},
   "outputs": [],
   "source": [
    "class PartA:\n",
    "    def __init__(self, file_path):\n",
    "        self.file_path = file_path\n",
    "        \n",
    "    @cached_property\n",
    "    def string_list(self):\n",
    "        with open(self.file_path, 'r') as f:\n",
    "            line = f.readline()\n",
    "            line = line.rstrip('\\n')\n",
    "            return line.split(',')\n",
    "        \n",
    "    def get_hash(self, in_str):\n",
    "        current_value = 0\n",
    "        for char in in_str:\n",
    "            current_value += ord(char)\n",
    "            current_value *= 17\n",
    "            current_value = current_value % 256\n",
    "        return current_value\n",
    "        \n",
    "\n",
    "    def solve(self):\n",
    "        return sum([self.get_hash(in_str) for in_str in self.string_list])"
   ]
  },
  {
   "cell_type": "code",
   "execution_count": 18,
   "id": "4532dc21-2246-4c4d-919f-14ce4a5e89ad",
   "metadata": {},
   "outputs": [],
   "source": [
    "a_test = PartA(TEST_FILE_INPUT)\n"
   ]
  },
  {
   "cell_type": "code",
   "execution_count": 19,
   "id": "f45cccb1-31f6-4a94-b036-0d124ca36b39",
   "metadata": {},
   "outputs": [],
   "source": [
    "assert a_test.solve() == 1320 # NUMER HERE"
   ]
  },
  {
   "cell_type": "code",
   "execution_count": 20,
   "id": "1f926841-c2f0-4e0e-b6d8-a9d8f3613792",
   "metadata": {},
   "outputs": [
    {
     "data": {
      "text/plain": [
       "513172"
      ]
     },
     "execution_count": 20,
     "metadata": {},
     "output_type": "execute_result"
    }
   ],
   "source": [
    "a = PartA(FILE_INPUT)\n",
    "a.solve()"
   ]
  },
  {
   "cell_type": "code",
   "execution_count": 142,
   "id": "1de89def-05dd-4c8e-9fa2-eb353df885e1",
   "metadata": {},
   "outputs": [],
   "source": [
    "class Lens:\n",
    "    def __init__(self, label, focal_length):\n",
    "        self.label = label\n",
    "        self.focal_length = focal_length\n",
    "        \n",
    "    def __str__(self):\n",
    "        return f'[{self.label} {self.focal_length}]'\n",
    "        \n",
    "    def same_label(self, other_lens):\n",
    "        return self.label == other_lens.label\n",
    "\n",
    "class Box:\n",
    "    def __init__(self, box_number, slots):\n",
    "        self.box_number = box_number\n",
    "        self.slots = slots\n",
    "        \n",
    "    def __str__(self):\n",
    "        out_str = '['\n",
    "        for lens in self.slots:\n",
    "            out_str += str(lens)\n",
    "        out_str += ']'\n",
    "        return out_str\n",
    "        \n",
    "    def remove(self, lens_label):\n",
    "        found_match = None\n",
    "        for idx, lens in enumerate(self.slots):\n",
    "            if lens.label == lens_label:\n",
    "                found_match = idx\n",
    "        if found_match is not None:\n",
    "            self.slots = self.slots[:found_match] + self.slots[found_match+1:]\n",
    "            \n",
    "    def insert(self, new_lens):\n",
    "        replacement_idx = None\n",
    "        for idx, lens in enumerate(self.slots):\n",
    "            if new_lens.same_label(lens):\n",
    "                replacement_idx = idx\n",
    "        if replacement_idx is not None:\n",
    "            self.slots = self.slots[:replacement_idx] + [new_lens] + self.slots[replacement_idx+1:]\n",
    "        else:\n",
    "            self.slots += [new_lens]\n",
    "\n",
    "\n",
    "class PartB(PartA):\n",
    "    def __init__(self, file_path):\n",
    "        self.file_path = file_path\n",
    "        self.boxes = {idx: Box(box_number=idx, slots = []) for idx in range(256)}        \n",
    "        \n",
    "    def perform_operations(self):\n",
    "        for instruct_string in self.string_list:\n",
    "            if instruct_string.endswith('-'):\n",
    "                label = instruct_string[:-1]\n",
    "                operation = 'remove'\n",
    "                \n",
    "            else:\n",
    "                label = instruct_string[:-2]\n",
    "                operation = 'insert'\n",
    "                focal_length = int(instruct_string[-1])\n",
    "                new_lens = Lens(label, focal_length)\n",
    "                \n",
    "            box_position = self.get_hash(label)\n",
    "            \n",
    "            if operation == 'remove':\n",
    "                self.boxes[box_position].remove(label)\n",
    "                \n",
    "            else:\n",
    "                self.boxes[box_position].insert(new_lens)\n",
    "                \n",
    "    @cached_property\n",
    "    def focusing_power(self):\n",
    "        power = 0\n",
    "        for box_num, box in self.boxes.items():\n",
    "            box_weight = box_num + 1\n",
    "            slots_weight = 0\n",
    "            for idx, lens in enumerate(box.slots):\n",
    "                slots_weight += (idx + 1) * lens.focal_length\n",
    "                \n",
    "            box_contribution = box_weight * slots_weight\n",
    "            # print(f\"Box {box.box_number}: {box_contribution}\")\n",
    "            power += box_contribution\n",
    "            \n",
    "        return power\n",
    "        \n",
    "    def solve(self):\n",
    "        self.perform_operations()\n",
    "        return self.focusing_power\n",
    "\n",
    "                "
   ]
  },
  {
   "cell_type": "code",
   "execution_count": 143,
   "id": "c29186b8-a738-46d6-97cd-854b3923d4a2",
   "metadata": {},
   "outputs": [],
   "source": [
    "b_test = PartB(TEST_FILE_INPUT)"
   ]
  },
  {
   "cell_type": "code",
   "execution_count": 145,
   "id": "e840cd3d-2727-4076-a743-ca7cde24b0dc",
   "metadata": {},
   "outputs": [],
   "source": [
    "assert b_test.solve() == 145 # NUMBER HERE"
   ]
  },
  {
   "cell_type": "code",
   "execution_count": 146,
   "id": "fc53e11b-7fa7-4d01-8676-dd22561dc2fa",
   "metadata": {},
   "outputs": [
    {
     "data": {
      "text/plain": [
       "237806"
      ]
     },
     "execution_count": 146,
     "metadata": {},
     "output_type": "execute_result"
    }
   ],
   "source": [
    "b = PartB(FILE_INPUT)\n",
    "b.solve()"
   ]
  },
  {
   "cell_type": "code",
   "execution_count": null,
   "id": "d997a817-7aef-4058-8f78-e84a996b0ec5",
   "metadata": {},
   "outputs": [],
   "source": []
  }
 ],
 "metadata": {
  "kernelspec": {
   "display_name": "Python 3 (ipykernel)",
   "language": "python",
   "name": "python3"
  },
  "language_info": {
   "codemirror_mode": {
    "name": "ipython",
    "version": 3
   },
   "file_extension": ".py",
   "mimetype": "text/x-python",
   "name": "python",
   "nbconvert_exporter": "python",
   "pygments_lexer": "ipython3",
   "version": "3.9.7"
  }
 },
 "nbformat": 4,
 "nbformat_minor": 5
}
