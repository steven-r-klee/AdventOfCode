{
 "cells": [
  {
   "cell_type": "code",
   "execution_count": 6,
   "id": "d2e57d87-22a2-4411-965b-1f0dfb449c8f",
   "metadata": {},
   "outputs": [],
   "source": [
    "from functools import cached_property\n",
    "import re\n",
    "\n",
    "TODAY = 'day2'\n",
    "TEST_FILE_INPUT = f\"./test_input_{TODAY}.txt\"\n",
    "FILE_INPUT = f\"./input_{TODAY}.txt\"\n"
   ]
  },
  {
   "cell_type": "code",
   "execution_count": 19,
   "id": "e9905b48-ac9f-4048-8e35-046c45ef6210",
   "metadata": {},
   "outputs": [],
   "source": [
    "class PartA:\n",
    "    def __init__(self, file_path):\n",
    "        self.file_path = file_path\n",
    "        \n",
    "    @property\n",
    "    def encoding_dict(self):\n",
    "        return {\n",
    "            \"A\": \"rock\",\n",
    "            \"B\": \"paper\",\n",
    "            \"C\": \"scissors\",\n",
    "            \"X\": \"rock\",\n",
    "            \"Y\": \"paper\", \n",
    "            \"Z\": \"scissors\"\n",
    "        }\n",
    "    \n",
    "    @property\n",
    "    def scoring_dict(self):\n",
    "        return {\n",
    "            \"rock\": 1,\n",
    "            \"paper\": 2,\n",
    "            \"scissors\": 3\n",
    "        }\n",
    "    \n",
    "    @property\n",
    "    def outcome_dict(self):\n",
    "        return {\n",
    "            \"loss\": 0,\n",
    "            \"draw\": 3,\n",
    "            \"win\": 6\n",
    "        }\n",
    "\n",
    "    def outcome_of_game(self, my_play, opponent_play):\n",
    "        if my_play == opponent_play: \n",
    "            return \"draw\"\n",
    "        wins = [(\"rock\", \"scissors\"), (\"scissors\", \"paper\"), (\"paper\", \"rock\")]\n",
    "        if (my_play, opponent_play) in wins:\n",
    "            return \"win\"\n",
    "        return \"loss\"\n",
    "            \n",
    "    def solve(self):\n",
    "        total_score = 0\n",
    "        with open(self.file_path, 'r') as f:\n",
    "            for line in f:\n",
    "                line = line.rstrip('\\n')\n",
    "                opponent_play, my_play = line.split()\n",
    "                my_play = self.encoding_dict[my_play]\n",
    "                opponent_play = self.encoding_dict[opponent_play]\n",
    "                \n",
    "                outcome = self.outcome_of_game(my_play, opponent_play)\n",
    "                value = self.scoring_dict[my_play] + self.outcome_dict[outcome]\n",
    "\n",
    "                total_score += value\n",
    "        return total_score\n",
    "            \n",
    "                "
   ]
  },
  {
   "cell_type": "code",
   "execution_count": 20,
   "id": "4532dc21-2246-4c4d-919f-14ce4a5e89ad",
   "metadata": {},
   "outputs": [],
   "source": [
    "a_test = PartA(TEST_FILE_INPUT)"
   ]
  },
  {
   "cell_type": "code",
   "execution_count": 21,
   "id": "f45cccb1-31f6-4a94-b036-0d124ca36b39",
   "metadata": {},
   "outputs": [],
   "source": [
    "assert a_test.solve() == 15# NUMER HERE"
   ]
  },
  {
   "cell_type": "code",
   "execution_count": 22,
   "id": "a0b193a8-f1f7-483b-9674-eb050b264935",
   "metadata": {},
   "outputs": [
    {
     "data": {
      "text/plain": [
       "15"
      ]
     },
     "execution_count": 22,
     "metadata": {},
     "output_type": "execute_result"
    }
   ],
   "source": [
    "a_test.solve()"
   ]
  },
  {
   "cell_type": "code",
   "execution_count": 23,
   "id": "1f926841-c2f0-4e0e-b6d8-a9d8f3613792",
   "metadata": {},
   "outputs": [
    {
     "data": {
      "text/plain": [
       "10941"
      ]
     },
     "execution_count": 23,
     "metadata": {},
     "output_type": "execute_result"
    }
   ],
   "source": [
    "a = PartA(FILE_INPUT)\n",
    "a.solve()"
   ]
  },
  {
   "cell_type": "code",
   "execution_count": null,
   "id": "1de89def-05dd-4c8e-9fa2-eb353df885e1",
   "metadata": {},
   "outputs": [],
   "source": [
    "class PartB(PartA):\n",
    "    @property\n",
    "    def encoding_dict(self):\n",
    "        return {\n",
    "            \"A\": \"rock\",\n",
    "            \"B\": \"paper\",\n",
    "            \"C\": \"scissors\",\n",
    "            \"X\": \"loss\",\n",
    "            \"Y\": \"draw\", \n",
    "            \"Z\": \"win\"\n",
    "        }\n",
    "    \n",
    "    def get_my_play(self, opponent_play, outcome):\n",
    "        d = {\n",
    "            \n",
    "        }\n",
    "    def solve(self):\n",
    "        total_score = 0\n",
    "        with open(self.file_path, 'r') as f:\n",
    "            for line in f:\n",
    "                line = line.rstrip('\\n')\n",
    "                opponent_play, outcome = line.split()\n",
    "                outcome = self.encoding_dict[outcome]\n",
    "                opponent_play = self.encoding_dict[opponent_play]\n",
    "                \n",
    "                outcome = self.outcome_of_game(my_play, opponent_play)\n",
    "                value = self.scoring_dict[my_play] + self.outcome_dict[outcome]\n",
    "\n",
    "                total_score += value\n",
    "        return total_score"
   ]
  },
  {
   "cell_type": "code",
   "execution_count": null,
   "id": "c29186b8-a738-46d6-97cd-854b3923d4a2",
   "metadata": {},
   "outputs": [],
   "source": [
    "b_test = PartB(TEST_FILE_INPUT)"
   ]
  },
  {
   "cell_type": "code",
   "execution_count": null,
   "id": "e840cd3d-2727-4076-a743-ca7cde24b0dc",
   "metadata": {},
   "outputs": [],
   "source": [
    "assert b_test.solve() == # NUMBER HERE"
   ]
  },
  {
   "cell_type": "code",
   "execution_count": null,
   "id": "fc53e11b-7fa7-4d01-8676-dd22561dc2fa",
   "metadata": {},
   "outputs": [],
   "source": [
    "b = PartB(FILE_INPUT)\n",
    "b.solve()"
   ]
  }
 ],
 "metadata": {
  "kernelspec": {
   "display_name": "Python 3 (ipykernel)",
   "language": "python",
   "name": "python3"
  },
  "language_info": {
   "codemirror_mode": {
    "name": "ipython",
    "version": 3
   },
   "file_extension": ".py",
   "mimetype": "text/x-python",
   "name": "python",
   "nbconvert_exporter": "python",
   "pygments_lexer": "ipython3",
   "version": "3.9.7"
  }
 },
 "nbformat": 4,
 "nbformat_minor": 5
}
