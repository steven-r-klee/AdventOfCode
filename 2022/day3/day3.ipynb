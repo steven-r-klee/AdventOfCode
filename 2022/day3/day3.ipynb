{
 "cells": [
  {
   "cell_type": "code",
   "execution_count": 35,
   "id": "d2e57d87-22a2-4411-965b-1f0dfb449c8f",
   "metadata": {},
   "outputs": [],
   "source": [
    "from functools import cached_property\n",
    "import re\n",
    "import string\n",
    "\n",
    "TODAY = 'day3'\n",
    "TEST_FILE_INPUT = f\"./test_input_{TODAY}.txt\"\n",
    "FILE_INPUT = f\"./input_{TODAY}.txt\"\n"
   ]
  },
  {
   "cell_type": "code",
   "execution_count": 11,
   "id": "21b453a4-d462-4e26-a0eb-44118380cbac",
   "metadata": {},
   "outputs": [],
   "source": [
    "class Rucksack:\n",
    "    def __init__(self, input_str, num_compartments):\n",
    "        self.input_str = input_str\n",
    "        self.num_compartments = num_compartments\n",
    "    \n",
    "    @property\n",
    "    def contents(self):\n",
    "        n_char = len(self.input_str)\n",
    "        chars_per_compartment = n_char // self.num_compartments\n",
    "        \n",
    "        contents_by_compartment = {}\n",
    "        \n",
    "        for ii, value in enumerate(self.input_str):\n",
    "            current_compartment = ii // chars_per_compartment\n",
    "            if current_compartment not in contents_by_compartment.keys():\n",
    "                contents_by_compartment[current_compartment] = {}\n",
    "                \n",
    "            contents_by_compartment[current_compartment][value] = contents_by_compartment[current_compartment].get(value,0) + 1\n",
    "            \n",
    "        return contents_by_compartment\n",
    "            \n",
    "            \n",
    "            "
   ]
  },
  {
   "cell_type": "code",
   "execution_count": 19,
   "id": "f074463d-99cf-46a0-897b-b5b50f73676d",
   "metadata": {},
   "outputs": [
    {
     "data": {
      "text/plain": [
       "{0: {'v': 1, 'J': 2, 'r': 2, 'w': 2, 'p': 1, 'W': 2, 't': 1, 'g': 1},\n",
       " 1: {'h': 2, 'c': 1, 's': 1, 'F': 4, 'M': 2, 'f': 1, 'p': 1}}"
      ]
     },
     "execution_count": 19,
     "metadata": {},
     "output_type": "execute_result"
    }
   ],
   "source": [
    "r = Rucksack('vJrwpWtwJgWrhcsFMMfFFhFp', 2)\n",
    "r.contents"
   ]
  },
  {
   "cell_type": "code",
   "execution_count": 48,
   "id": "e9905b48-ac9f-4048-8e35-046c45ef6210",
   "metadata": {},
   "outputs": [],
   "source": [
    "class PartA:\n",
    "    def __init__(self, file_path):\n",
    "        self.file_path = file_path\n",
    "        \n",
    "    def get_common_elements(self):\n",
    "        shared_elements = []\n",
    "        with open(self.file_path, 'r') as f:\n",
    "            for line in f:\n",
    "                line = line.rstrip('\\n')\n",
    "                rucksack = Rucksack(line, 2)\n",
    "                shared_elements += [x for x in rucksack.contents[0].keys() if x in rucksack.contents[1].keys()]\n",
    "        return shared_elements\n",
    "    \n",
    "    def get_priority(self, character):\n",
    "        all_chars = string.ascii_lowercase + string.ascii_uppercase\n",
    "        return all_chars.find(character) + 1\n",
    "            \n",
    "    def solve(self):\n",
    "        return sum([self.get_priority(x) for x in self.get_common_elements()])"
   ]
  },
  {
   "cell_type": "code",
   "execution_count": 49,
   "id": "4532dc21-2246-4c4d-919f-14ce4a5e89ad",
   "metadata": {},
   "outputs": [],
   "source": [
    "a_test = PartA(TEST_FILE_INPUT)"
   ]
  },
  {
   "cell_type": "code",
   "execution_count": 50,
   "id": "f45cccb1-31f6-4a94-b036-0d124ca36b39",
   "metadata": {},
   "outputs": [],
   "source": [
    "assert a_test.solve() == 157# NUMER HERE"
   ]
  },
  {
   "cell_type": "code",
   "execution_count": 51,
   "id": "1f926841-c2f0-4e0e-b6d8-a9d8f3613792",
   "metadata": {},
   "outputs": [
    {
     "data": {
      "text/plain": [
       "7850"
      ]
     },
     "execution_count": 51,
     "metadata": {},
     "output_type": "execute_result"
    }
   ],
   "source": [
    "a = PartA(FILE_INPUT)\n",
    "a.solve()"
   ]
  },
  {
   "cell_type": "code",
   "execution_count": 99,
   "id": "1de89def-05dd-4c8e-9fa2-eb353df885e1",
   "metadata": {},
   "outputs": [],
   "source": [
    "class PartB(PartA):\n",
    "    def get_common_elements(self):\n",
    "        shared_elements = []\n",
    "        current_strings = []\n",
    "        with open(self.file_path, 'r') as f:\n",
    "            for ii, line in enumerate(f):\n",
    "                line = line.rstrip('\\n')\n",
    "                current_strings.append(line)\n",
    "                if ii % 3 == 2:\n",
    "                    shared_elements += list(set([x for x in current_strings[0] if (x in current_strings[1]) and (x in current_strings[2])]))\n",
    "                    current_strings = []\n",
    "        return shared_elements\n",
    "    "
   ]
  },
  {
   "cell_type": "code",
   "execution_count": 100,
   "id": "c29186b8-a738-46d6-97cd-854b3923d4a2",
   "metadata": {},
   "outputs": [],
   "source": [
    "b_test = PartB(TEST_FILE_INPUT)"
   ]
  },
  {
   "cell_type": "code",
   "execution_count": 101,
   "id": "e840cd3d-2727-4076-a743-ca7cde24b0dc",
   "metadata": {},
   "outputs": [],
   "source": [
    "assert b_test.solve() == 70# NUMBER HERE"
   ]
  },
  {
   "cell_type": "code",
   "execution_count": 102,
   "id": "fc53e11b-7fa7-4d01-8676-dd22561dc2fa",
   "metadata": {},
   "outputs": [
    {
     "data": {
      "text/plain": [
       "2581"
      ]
     },
     "execution_count": 102,
     "metadata": {},
     "output_type": "execute_result"
    }
   ],
   "source": [
    "b = PartB(FILE_INPUT)\n",
    "b.solve()"
   ]
  },
  {
   "cell_type": "code",
   "execution_count": null,
   "id": "e99579c8-d2c9-4d32-af25-ff3d9eb3c3f5",
   "metadata": {},
   "outputs": [
    {
     "data": {
      "text/plain": [
       "38"
      ]
     },
     "execution_count": 44,
     "metadata": {},
     "output_type": "execute_result"
    }
   ],
   "source": []
  },
  {
   "cell_type": "code",
   "execution_count": null,
   "id": "406998a8-d4cc-4988-9f1b-2f8e645d4122",
   "metadata": {},
   "outputs": [],
   "source": []
  }
 ],
 "metadata": {
  "kernelspec": {
   "display_name": "Python 3 (ipykernel)",
   "language": "python",
   "name": "python3"
  },
  "language_info": {
   "codemirror_mode": {
    "name": "ipython",
    "version": 3
   },
   "file_extension": ".py",
   "mimetype": "text/x-python",
   "name": "python",
   "nbconvert_exporter": "python",
   "pygments_lexer": "ipython3",
   "version": "3.9.7"
  }
 },
 "nbformat": 4,
 "nbformat_minor": 5
}
