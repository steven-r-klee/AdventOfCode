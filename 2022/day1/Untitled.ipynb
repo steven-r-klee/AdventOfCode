{
 "cells": [
  {
   "cell_type": "code",
   "execution_count": 20,
   "id": "cb4309c7-cef9-498a-a147-8fd0cd500d2a",
   "metadata": {},
   "outputs": [],
   "source": [
    "from functools import cached_property\n",
    "import re\n",
    "\n",
    "TODAY = 'day1'\n",
    "TEST_FILE_INPUT = f\"./test_input_{TODAY}.txt\"\n",
    "FILE_INPUT = f\"./input_{TODAY}.txt\"\n"
   ]
  },
  {
   "cell_type": "code",
   "execution_count": 34,
   "id": "0a70ee89-2ab7-4424-bbf4-0970734e9dcd",
   "metadata": {},
   "outputs": [],
   "source": [
    "class PartA:\n",
    "    def __init__(self, file_path):\n",
    "        self.file_path = file_path\n",
    "        \n",
    "    def calories_per_elf(self):\n",
    "        with open(self.file_path, 'r') as f:\n",
    "            current_elf = 1\n",
    "            current_elf_snacks = []\n",
    "            elf_dict = {}\n",
    "            for line in f:\n",
    "                line = line.rstrip('\\n')\n",
    "                if line == '':\n",
    "                    elf_dict[current_elf] = current_elf_snacks\n",
    "                    current_elf += 1\n",
    "                    current_elf_snacks = []\n",
    "                else:\n",
    "                    current_elf_snacks.append(int(line))\n",
    "        elf_dict[current_elf] = current_elf_snacks\n",
    "        return elf_dict\n",
    "        \n",
    "    def solve(self):\n",
    "        return max(sum(L) for L in self.calories_per_elf().values())"
   ]
  },
  {
   "cell_type": "code",
   "execution_count": 35,
   "id": "c2f97fa2-ca1a-4011-bfac-2cf706ecc979",
   "metadata": {},
   "outputs": [
    {
     "data": {
      "text/plain": [
       "{1: [1000, 2000, 3000],\n",
       " 2: [4000],\n",
       " 3: [5000, 6000],\n",
       " 4: [7000, 8000, 9000],\n",
       " 5: [10000]}"
      ]
     },
     "execution_count": 35,
     "metadata": {},
     "output_type": "execute_result"
    }
   ],
   "source": [
    "a_test = PartA(TEST_FILE_INPUT)\n",
    "a_test.calories_per_elf()"
   ]
  },
  {
   "cell_type": "code",
   "execution_count": 19,
   "id": "7665ed58-0de3-462a-a4fd-f2284013c5dc",
   "metadata": {},
   "outputs": [],
   "source": [
    "assert a_test.solve() == 24000"
   ]
  },
  {
   "cell_type": "code",
   "execution_count": 21,
   "id": "373950ed-5324-4d78-84c5-02ddbb964ea9",
   "metadata": {},
   "outputs": [
    {
     "data": {
      "text/plain": [
       "67622"
      ]
     },
     "execution_count": 21,
     "metadata": {},
     "output_type": "execute_result"
    }
   ],
   "source": [
    "a = PartA(FILE_INPUT)\n",
    "a.solve()"
   ]
  },
  {
   "cell_type": "code",
   "execution_count": 31,
   "id": "47912b12-e218-4420-95a0-e07d7ae05a2b",
   "metadata": {},
   "outputs": [],
   "source": [
    "class PartB(PartA):\n",
    "    def solve(self):\n",
    "        elf_totals = [sum(L) for L in self.calories_per_elf().values()]\n",
    "        elf_totals.sort(reverse=True)\n",
    "        return sum(elf_totals[:3])"
   ]
  },
  {
   "cell_type": "code",
   "execution_count": 32,
   "id": "278ab33d-7b83-484f-b2ee-c44a62387b06",
   "metadata": {},
   "outputs": [
    {
     "data": {
      "text/plain": [
       "41000"
      ]
     },
     "execution_count": 32,
     "metadata": {},
     "output_type": "execute_result"
    }
   ],
   "source": [
    "b_test = PartB(TEST_FILE_INPUT)\n",
    "b_test.solve()"
   ]
  },
  {
   "cell_type": "code",
   "execution_count": 33,
   "id": "b3c66a3c-fb33-4eb8-af07-1a80b8ecb941",
   "metadata": {},
   "outputs": [
    {
     "ename": "AssertionError",
     "evalue": "",
     "output_type": "error",
     "traceback": [
      "\u001b[0;31m---------------------------------------------------------------------------\u001b[0m",
      "\u001b[0;31mAssertionError\u001b[0m                            Traceback (most recent call last)",
      "\u001b[0;32m/var/folders/k2/w58wxrdn4wg86hyj9p_f8c5c0000gn/T/ipykernel_79915/2117958821.py\u001b[0m in \u001b[0;36m<module>\u001b[0;34m\u001b[0m\n\u001b[0;32m----> 1\u001b[0;31m \u001b[0;32massert\u001b[0m \u001b[0mb_test\u001b[0m\u001b[0;34m.\u001b[0m\u001b[0msolve\u001b[0m \u001b[0;34m==\u001b[0m \u001b[0;36m45000\u001b[0m\u001b[0;34m\u001b[0m\u001b[0;34m\u001b[0m\u001b[0m\n\u001b[0m",
      "\u001b[0;31mAssertionError\u001b[0m: "
     ]
    }
   ],
   "source": [
    "assert b_test.solve == 45000"
   ]
  },
  {
   "cell_type": "code",
   "execution_count": null,
   "id": "fb26d84f-9b24-4255-b082-d9c139ee572e",
   "metadata": {},
   "outputs": [],
   "source": []
  }
 ],
 "metadata": {
  "kernelspec": {
   "display_name": "Python 3 (ipykernel)",
   "language": "python",
   "name": "python3"
  },
  "language_info": {
   "codemirror_mode": {
    "name": "ipython",
    "version": 3
   },
   "file_extension": ".py",
   "mimetype": "text/x-python",
   "name": "python",
   "nbconvert_exporter": "python",
   "pygments_lexer": "ipython3",
   "version": "3.9.7"
  }
 },
 "nbformat": 4,
 "nbformat_minor": 5
}
